{
 "cells": [
  {
   "cell_type": "markdown",
   "metadata": {},
   "source": [
    "## Model Selection and Modeling\n",
    "\n",
    "- [Linear Regression: OLS](#lm)\n",
    "- [Lasso Regression](#lasso)\n",
    "- [Random Forest Regression](#rfr)\n",
    "- [Light Gradient Boosting Model With Bayesian Optimization](#lgbm)"
   ]
  },
  {
   "cell_type": "markdown",
   "metadata": {},
   "source": [
    "### Import Necessary Modules and Datasets"
   ]
  },
  {
   "cell_type": "code",
   "execution_count": 1,
   "metadata": {},
   "outputs": [],
   "source": [
    "# Import tools to get datasets\n",
    "from zipfile import ZipFile\n",
    "import urllib\n",
    "import requests\n",
    "import io\n",
    "\n",
    "# Import modules for data reading and plots\n",
    "import pandas as pd\n",
    "import numpy as np\n",
    "import matplotlib.pyplot as plt\n",
    "import seaborn as sns\n",
    "\n",
    "\n",
    "# Import all for model selections and modelling\n",
    "from bayes_opt import BayesianOptimization\n",
    "import statsmodels.api as sm\n",
    "from sklearn.linear_model import Lasso\n",
    "from sklearn.ensemble import RandomForestRegressor, GradientBoostingRegressor\n",
    "from lightgbm import LGBMRegressor\n",
    "\n",
    "# Timer\n",
    "import time"
   ]
  },
  {
   "cell_type": "code",
   "execution_count": 2,
   "metadata": {},
   "outputs": [],
   "source": [
    "start = time.time() # Timer starts\n",
    "\n",
    "Xtrainurl = 'https://github.com/jonahwinninghoff/Springboard_Capstone_Project/raw/main/Assets/X_train.zip'\n",
    "Xvalidurl = 'https://github.com/jonahwinninghoff/Springboard_Capstone_Project/raw/main/Assets/X_valid.zip'\n",
    "Xtestiurl = 'https://github.com/jonahwinninghoff/Springboard_Capstone_Project/raw/main/Assets/X_test.zip'\n",
    "\n",
    "ytrainurl = 'https://github.com/jonahwinninghoff/Springboard_Capstone_Project/blob/main/Assets/y_train?raw=true'\n",
    "yvalidurl = 'https://github.com/jonahwinninghoff/Springboard_Capstone_Project/blob/main/Assets/y_valid?raw=true'\n",
    "ytestiurl = 'https://github.com/jonahwinninghoff/Springboard_Capstone_Project/blob/main/Assets/y_test?raw=true'"
   ]
  },
  {
   "cell_type": "code",
   "execution_count": 3,
   "metadata": {},
   "outputs": [],
   "source": [
    "# Read X_train dataset\n",
    "url = urllib.request.urlopen(Xtrainurl)\n",
    "unzipfile = ZipFile(io.BytesIO(url.read()))\n",
    "file = unzipfile.open(\"X_train\")\n",
    "X_train = pd.read_csv(file, encoding='cp1252').drop('Unnamed: 0', \n",
    "                                                    axis=1)\n",
    "file.close()\n",
    "\n",
    "# Read X_valid dataset\n",
    "url = urllib.request.urlopen(Xvalidurl)\n",
    "unzipfile = ZipFile(io.BytesIO(url.read()))\n",
    "file = unzipfile.open(\"X_valid\")\n",
    "X_valid = pd.read_csv(file, encoding='cp1252').drop('Unnamed: 0', \n",
    "                                                    axis=1)\n",
    "file.close()\n",
    "\n",
    "# Read X_test dataset\n",
    "url = urllib.request.urlopen(Xtestiurl)\n",
    "unzipfile = ZipFile(io.BytesIO(url.read()))\n",
    "file = unzipfile.open(\"X_test\")\n",
    "X_test = pd.read_csv(file, encoding='cp1252').drop('Unnamed: 0', \n",
    "                                                    axis=1)\n",
    "file.close()"
   ]
  },
  {
   "cell_type": "code",
   "execution_count": 4,
   "metadata": {},
   "outputs": [],
   "source": [
    "# Read y_train dataset\n",
    "response = requests.get(ytrainurl)\n",
    "response.raise_for_status()\n",
    "y_train = np.load(io.BytesIO(response.content))\n",
    "\n",
    "# Read y_valid dataset\n",
    "response = requests.get(yvalidurl)\n",
    "response.raise_for_status()\n",
    "y_valid = np.load(io.BytesIO(response.content))\n",
    "\n",
    "# Read y_test dataset\n",
    "response = requests.get(ytestiurl)\n",
    "response.raise_for_status()\n",
    "y_test = np.load(io.BytesIO(response.content))"
   ]
  },
  {
   "cell_type": "code",
   "execution_count": 5,
   "metadata": {},
   "outputs": [],
   "source": [
    "# Read X_TFIDF_train\n",
    "url = urllib.request.urlopen('https://github.com/jonahwinninghoff/Springboard_Capstone_Project/blob/main/Assets/X_TFIDF_train.zip?raw=true')\n",
    "unzipfile = ZipFile(io.BytesIO(url.read()))\n",
    "file = unzipfile.open(\"X_TFIDF_train\")\n",
    "X_TFIDF_train = pd.read_csv(file, encoding='cp1252').drop('Unnamed: 0', \n",
    "                                                    axis=1)\n",
    "file.close()\n",
    "\n",
    "# Read X_TFIDF_valid\n",
    "url = urllib.request.urlopen('https://github.com/jonahwinninghoff/Springboard_Capstone_Project/blob/main/Assets/X_TFIDF_valid.zip?raw=true')\n",
    "unzipfile = ZipFile(io.BytesIO(url.read()))\n",
    "file = unzipfile.open(\"X_TFIDF_valid\")\n",
    "X_TFIDF_valid = pd.read_csv(file, encoding='cp1252').drop('Unnamed: 0', \n",
    "                                                    axis=1)\n",
    "file.close()\n",
    "\n",
    "# Read X_TFIDF_test\n",
    "url = urllib.request.urlopen('https://github.com/jonahwinninghoff/Springboard_Capstone_Project/blob/main/Assets/X_TFIDF_test.zip?raw=true')\n",
    "unzipfile = ZipFile(io.BytesIO(url.read()))\n",
    "file = unzipfile.open(\"X_TFIDF_test\")\n",
    "X_TFIDF_test = pd.read_csv(file, encoding='cp1252').drop('Unnamed: 0', \n",
    "                                                    axis=1)\n",
    "file.close()"
   ]
  },
  {
   "cell_type": "code",
   "execution_count": 6,
   "metadata": {},
   "outputs": [
    {
     "data": {
      "text/html": [
       "<div>\n",
       "<style scoped>\n",
       "    .dataframe tbody tr th:only-of-type {\n",
       "        vertical-align: middle;\n",
       "    }\n",
       "\n",
       "    .dataframe tbody tr th {\n",
       "        vertical-align: top;\n",
       "    }\n",
       "\n",
       "    .dataframe thead th {\n",
       "        text-align: right;\n",
       "    }\n",
       "</style>\n",
       "<table border=\"1\" class=\"dataframe\">\n",
       "  <thead>\n",
       "    <tr style=\"text-align: right;\">\n",
       "      <th></th>\n",
       "      <th>ability</th>\n",
       "      <th>activities</th>\n",
       "      <th>antianxiety</th>\n",
       "      <th>antipsychotic</th>\n",
       "      <th>appropriately</th>\n",
       "      <th>assessed</th>\n",
       "      <th>bladder</th>\n",
       "      <th>bowels</th>\n",
       "      <th>catheter</th>\n",
       "      <th>control</th>\n",
       "      <th>...</th>\n",
       "      <th>risk</th>\n",
       "      <th>seasonal</th>\n",
       "      <th>short</th>\n",
       "      <th>symptoms</th>\n",
       "      <th>tract</th>\n",
       "      <th>ulcers</th>\n",
       "      <th>urinary</th>\n",
       "      <th>vaccine</th>\n",
       "      <th>weight</th>\n",
       "      <th>worsened</th>\n",
       "    </tr>\n",
       "  </thead>\n",
       "  <tbody>\n",
       "    <tr>\n",
       "      <th>0</th>\n",
       "      <td>0.0</td>\n",
       "      <td>0.0</td>\n",
       "      <td>0.0</td>\n",
       "      <td>0.0</td>\n",
       "      <td>0.410134</td>\n",
       "      <td>0.410134</td>\n",
       "      <td>0.000000</td>\n",
       "      <td>0.0</td>\n",
       "      <td>0.000000</td>\n",
       "      <td>0.0</td>\n",
       "      <td>...</td>\n",
       "      <td>0.000000</td>\n",
       "      <td>0.0</td>\n",
       "      <td>0.000000</td>\n",
       "      <td>0.0</td>\n",
       "      <td>0.0</td>\n",
       "      <td>0.000000</td>\n",
       "      <td>0.0</td>\n",
       "      <td>0.410134</td>\n",
       "      <td>0.0</td>\n",
       "      <td>0.0</td>\n",
       "    </tr>\n",
       "    <tr>\n",
       "      <th>1</th>\n",
       "      <td>0.0</td>\n",
       "      <td>0.0</td>\n",
       "      <td>0.0</td>\n",
       "      <td>0.0</td>\n",
       "      <td>0.000000</td>\n",
       "      <td>0.000000</td>\n",
       "      <td>0.000000</td>\n",
       "      <td>0.0</td>\n",
       "      <td>0.000000</td>\n",
       "      <td>0.0</td>\n",
       "      <td>...</td>\n",
       "      <td>0.420905</td>\n",
       "      <td>0.0</td>\n",
       "      <td>0.000000</td>\n",
       "      <td>0.0</td>\n",
       "      <td>0.0</td>\n",
       "      <td>0.514482</td>\n",
       "      <td>0.0</td>\n",
       "      <td>0.000000</td>\n",
       "      <td>0.0</td>\n",
       "      <td>0.0</td>\n",
       "    </tr>\n",
       "    <tr>\n",
       "      <th>2</th>\n",
       "      <td>0.0</td>\n",
       "      <td>0.0</td>\n",
       "      <td>0.0</td>\n",
       "      <td>0.0</td>\n",
       "      <td>0.000000</td>\n",
       "      <td>0.000000</td>\n",
       "      <td>0.414597</td>\n",
       "      <td>0.0</td>\n",
       "      <td>0.516965</td>\n",
       "      <td>0.0</td>\n",
       "      <td>...</td>\n",
       "      <td>0.000000</td>\n",
       "      <td>0.0</td>\n",
       "      <td>0.000000</td>\n",
       "      <td>0.0</td>\n",
       "      <td>0.0</td>\n",
       "      <td>0.000000</td>\n",
       "      <td>0.0</td>\n",
       "      <td>0.000000</td>\n",
       "      <td>0.0</td>\n",
       "      <td>0.0</td>\n",
       "    </tr>\n",
       "    <tr>\n",
       "      <th>3</th>\n",
       "      <td>0.0</td>\n",
       "      <td>0.0</td>\n",
       "      <td>0.0</td>\n",
       "      <td>0.0</td>\n",
       "      <td>0.384065</td>\n",
       "      <td>0.384065</td>\n",
       "      <td>0.000000</td>\n",
       "      <td>0.0</td>\n",
       "      <td>0.000000</td>\n",
       "      <td>0.0</td>\n",
       "      <td>...</td>\n",
       "      <td>0.000000</td>\n",
       "      <td>0.0</td>\n",
       "      <td>0.404843</td>\n",
       "      <td>0.0</td>\n",
       "      <td>0.0</td>\n",
       "      <td>0.000000</td>\n",
       "      <td>0.0</td>\n",
       "      <td>0.384065</td>\n",
       "      <td>0.0</td>\n",
       "      <td>0.0</td>\n",
       "    </tr>\n",
       "    <tr>\n",
       "      <th>4</th>\n",
       "      <td>0.0</td>\n",
       "      <td>0.0</td>\n",
       "      <td>0.0</td>\n",
       "      <td>0.0</td>\n",
       "      <td>0.000000</td>\n",
       "      <td>0.000000</td>\n",
       "      <td>0.000000</td>\n",
       "      <td>0.0</td>\n",
       "      <td>0.000000</td>\n",
       "      <td>0.0</td>\n",
       "      <td>...</td>\n",
       "      <td>0.000000</td>\n",
       "      <td>0.0</td>\n",
       "      <td>0.000000</td>\n",
       "      <td>0.0</td>\n",
       "      <td>0.0</td>\n",
       "      <td>0.000000</td>\n",
       "      <td>0.0</td>\n",
       "      <td>0.000000</td>\n",
       "      <td>0.0</td>\n",
       "      <td>0.0</td>\n",
       "    </tr>\n",
       "  </tbody>\n",
       "</table>\n",
       "<p>5 rows × 49 columns</p>\n",
       "</div>"
      ],
      "text/plain": [
       "   ability  activities  antianxiety  antipsychotic  appropriately  assessed  \\\n",
       "0      0.0         0.0          0.0            0.0       0.410134  0.410134   \n",
       "1      0.0         0.0          0.0            0.0       0.000000  0.000000   \n",
       "2      0.0         0.0          0.0            0.0       0.000000  0.000000   \n",
       "3      0.0         0.0          0.0            0.0       0.384065  0.384065   \n",
       "4      0.0         0.0          0.0            0.0       0.000000  0.000000   \n",
       "\n",
       "    bladder  bowels  catheter  control  ...      risk  seasonal     short  \\\n",
       "0  0.000000     0.0  0.000000      0.0  ...  0.000000       0.0  0.000000   \n",
       "1  0.000000     0.0  0.000000      0.0  ...  0.420905       0.0  0.000000   \n",
       "2  0.414597     0.0  0.516965      0.0  ...  0.000000       0.0  0.000000   \n",
       "3  0.000000     0.0  0.000000      0.0  ...  0.000000       0.0  0.404843   \n",
       "4  0.000000     0.0  0.000000      0.0  ...  0.000000       0.0  0.000000   \n",
       "\n",
       "   symptoms  tract    ulcers  urinary   vaccine  weight  worsened  \n",
       "0       0.0    0.0  0.000000      0.0  0.410134     0.0       0.0  \n",
       "1       0.0    0.0  0.514482      0.0  0.000000     0.0       0.0  \n",
       "2       0.0    0.0  0.000000      0.0  0.000000     0.0       0.0  \n",
       "3       0.0    0.0  0.000000      0.0  0.384065     0.0       0.0  \n",
       "4       0.0    0.0  0.000000      0.0  0.000000     0.0       0.0  \n",
       "\n",
       "[5 rows x 49 columns]"
      ]
     },
     "metadata": {},
     "output_type": "display_data"
    }
   ],
   "source": [
    "display(X_TFIDF_train.head())"
   ]
  },
  {
   "cell_type": "code",
   "execution_count": 7,
   "metadata": {},
   "outputs": [
    {
     "data": {
      "text/html": [
       "<div>\n",
       "<style scoped>\n",
       "    .dataframe tbody tr th:only-of-type {\n",
       "        vertical-align: middle;\n",
       "    }\n",
       "\n",
       "    .dataframe tbody tr th {\n",
       "        vertical-align: top;\n",
       "    }\n",
       "\n",
       "    .dataframe thead th {\n",
       "        text-align: right;\n",
       "    }\n",
       "</style>\n",
       "<table border=\"1\" class=\"dataframe\">\n",
       "  <thead>\n",
       "    <tr style=\"text-align: right;\">\n",
       "      <th></th>\n",
       "      <th>pc_0</th>\n",
       "      <th>pc_1</th>\n",
       "      <th>pc_2</th>\n",
       "      <th>pc_3</th>\n",
       "      <th>pc_4</th>\n",
       "      <th>pc_5</th>\n",
       "      <th>pc_6</th>\n",
       "      <th>pc_7</th>\n",
       "      <th>pc_8</th>\n",
       "      <th>pc_9</th>\n",
       "      <th>...</th>\n",
       "      <th>pc_39</th>\n",
       "      <th>pc_40</th>\n",
       "      <th>pc_41</th>\n",
       "      <th>pc_42</th>\n",
       "      <th>pc_43</th>\n",
       "      <th>pc_44</th>\n",
       "      <th>pc_45</th>\n",
       "      <th>pc_46</th>\n",
       "      <th>pc_47</th>\n",
       "      <th>pc_48</th>\n",
       "    </tr>\n",
       "  </thead>\n",
       "  <tbody>\n",
       "    <tr>\n",
       "      <th>0</th>\n",
       "      <td>0.660904</td>\n",
       "      <td>0.020100</td>\n",
       "      <td>0.044738</td>\n",
       "      <td>0.026935</td>\n",
       "      <td>-0.086106</td>\n",
       "      <td>0.066239</td>\n",
       "      <td>-0.099660</td>\n",
       "      <td>0.012499</td>\n",
       "      <td>0.004524</td>\n",
       "      <td>0.011040</td>\n",
       "      <td>...</td>\n",
       "      <td>-1.318443e-17</td>\n",
       "      <td>-5.534612e-17</td>\n",
       "      <td>5.331652e-17</td>\n",
       "      <td>4.521988e-17</td>\n",
       "      <td>2.701118e-17</td>\n",
       "      <td>3.721016e-17</td>\n",
       "      <td>3.798447e-17</td>\n",
       "      <td>-2.949072e-18</td>\n",
       "      <td>-5.659986e-18</td>\n",
       "      <td>-2.698157e-17</td>\n",
       "    </tr>\n",
       "    <tr>\n",
       "      <th>1</th>\n",
       "      <td>-0.230752</td>\n",
       "      <td>-0.269446</td>\n",
       "      <td>0.206676</td>\n",
       "      <td>-0.059364</td>\n",
       "      <td>0.588827</td>\n",
       "      <td>0.536291</td>\n",
       "      <td>-0.178171</td>\n",
       "      <td>-0.045429</td>\n",
       "      <td>-0.243858</td>\n",
       "      <td>-0.003194</td>\n",
       "      <td>...</td>\n",
       "      <td>1.706481e-17</td>\n",
       "      <td>4.385838e-17</td>\n",
       "      <td>9.343200e-17</td>\n",
       "      <td>-1.292393e-18</td>\n",
       "      <td>8.989491e-17</td>\n",
       "      <td>-1.310580e-16</td>\n",
       "      <td>-4.150333e-18</td>\n",
       "      <td>1.729439e-17</td>\n",
       "      <td>-2.413300e-17</td>\n",
       "      <td>-4.953298e-17</td>\n",
       "    </tr>\n",
       "    <tr>\n",
       "      <th>2</th>\n",
       "      <td>-0.209060</td>\n",
       "      <td>-0.212579</td>\n",
       "      <td>0.097886</td>\n",
       "      <td>-0.008835</td>\n",
       "      <td>0.004231</td>\n",
       "      <td>-0.063156</td>\n",
       "      <td>0.042141</td>\n",
       "      <td>0.035324</td>\n",
       "      <td>0.809934</td>\n",
       "      <td>0.002881</td>\n",
       "      <td>...</td>\n",
       "      <td>-3.844634e-17</td>\n",
       "      <td>4.732783e-17</td>\n",
       "      <td>-9.565286e-17</td>\n",
       "      <td>-6.027299e-17</td>\n",
       "      <td>-6.189339e-17</td>\n",
       "      <td>6.670046e-17</td>\n",
       "      <td>-1.279662e-16</td>\n",
       "      <td>6.886053e-18</td>\n",
       "      <td>1.056147e-17</td>\n",
       "      <td>-1.085136e-16</td>\n",
       "    </tr>\n",
       "    <tr>\n",
       "      <th>3</th>\n",
       "      <td>0.699247</td>\n",
       "      <td>0.077719</td>\n",
       "      <td>0.018114</td>\n",
       "      <td>-0.017220</td>\n",
       "      <td>0.047612</td>\n",
       "      <td>-0.035646</td>\n",
       "      <td>0.069493</td>\n",
       "      <td>-0.018699</td>\n",
       "      <td>-0.010775</td>\n",
       "      <td>-0.016971</td>\n",
       "      <td>...</td>\n",
       "      <td>4.330250e-17</td>\n",
       "      <td>4.234050e-17</td>\n",
       "      <td>4.527424e-18</td>\n",
       "      <td>-4.547363e-17</td>\n",
       "      <td>8.633957e-18</td>\n",
       "      <td>-1.006105e-17</td>\n",
       "      <td>-1.911232e-17</td>\n",
       "      <td>1.849295e-18</td>\n",
       "      <td>-8.714250e-18</td>\n",
       "      <td>7.712897e-18</td>\n",
       "    </tr>\n",
       "    <tr>\n",
       "      <th>4</th>\n",
       "      <td>-0.134388</td>\n",
       "      <td>-0.073403</td>\n",
       "      <td>-0.055115</td>\n",
       "      <td>0.002297</td>\n",
       "      <td>0.009668</td>\n",
       "      <td>-0.013379</td>\n",
       "      <td>-0.004968</td>\n",
       "      <td>0.018567</td>\n",
       "      <td>0.004221</td>\n",
       "      <td>0.028316</td>\n",
       "      <td>...</td>\n",
       "      <td>9.859681e-17</td>\n",
       "      <td>1.089863e-17</td>\n",
       "      <td>-7.657090e-17</td>\n",
       "      <td>-7.363926e-18</td>\n",
       "      <td>4.045529e-17</td>\n",
       "      <td>1.638450e-16</td>\n",
       "      <td>-1.925847e-16</td>\n",
       "      <td>-5.284049e-20</td>\n",
       "      <td>-6.785768e-18</td>\n",
       "      <td>-1.674942e-16</td>\n",
       "    </tr>\n",
       "  </tbody>\n",
       "</table>\n",
       "<p>5 rows × 49 columns</p>\n",
       "</div>"
      ],
      "text/plain": [
       "       pc_0      pc_1      pc_2      pc_3      pc_4      pc_5      pc_6  \\\n",
       "0  0.660904  0.020100  0.044738  0.026935 -0.086106  0.066239 -0.099660   \n",
       "1 -0.230752 -0.269446  0.206676 -0.059364  0.588827  0.536291 -0.178171   \n",
       "2 -0.209060 -0.212579  0.097886 -0.008835  0.004231 -0.063156  0.042141   \n",
       "3  0.699247  0.077719  0.018114 -0.017220  0.047612 -0.035646  0.069493   \n",
       "4 -0.134388 -0.073403 -0.055115  0.002297  0.009668 -0.013379 -0.004968   \n",
       "\n",
       "       pc_7      pc_8      pc_9  ...         pc_39         pc_40  \\\n",
       "0  0.012499  0.004524  0.011040  ... -1.318443e-17 -5.534612e-17   \n",
       "1 -0.045429 -0.243858 -0.003194  ...  1.706481e-17  4.385838e-17   \n",
       "2  0.035324  0.809934  0.002881  ... -3.844634e-17  4.732783e-17   \n",
       "3 -0.018699 -0.010775 -0.016971  ...  4.330250e-17  4.234050e-17   \n",
       "4  0.018567  0.004221  0.028316  ...  9.859681e-17  1.089863e-17   \n",
       "\n",
       "          pc_41         pc_42         pc_43         pc_44         pc_45  \\\n",
       "0  5.331652e-17  4.521988e-17  2.701118e-17  3.721016e-17  3.798447e-17   \n",
       "1  9.343200e-17 -1.292393e-18  8.989491e-17 -1.310580e-16 -4.150333e-18   \n",
       "2 -9.565286e-17 -6.027299e-17 -6.189339e-17  6.670046e-17 -1.279662e-16   \n",
       "3  4.527424e-18 -4.547363e-17  8.633957e-18 -1.006105e-17 -1.911232e-17   \n",
       "4 -7.657090e-17 -7.363926e-18  4.045529e-17  1.638450e-16 -1.925847e-16   \n",
       "\n",
       "          pc_46         pc_47         pc_48  \n",
       "0 -2.949072e-18 -5.659986e-18 -2.698157e-17  \n",
       "1  1.729439e-17 -2.413300e-17 -4.953298e-17  \n",
       "2  6.886053e-18  1.056147e-17 -1.085136e-16  \n",
       "3  1.849295e-18 -8.714250e-18  7.712897e-18  \n",
       "4 -5.284049e-20 -6.785768e-18 -1.674942e-16  \n",
       "\n",
       "[5 rows x 49 columns]"
      ]
     },
     "metadata": {},
     "output_type": "display_data"
    }
   ],
   "source": [
    "display(X_train.head())"
   ]
  },
  {
   "cell_type": "code",
   "execution_count": 8,
   "metadata": {},
   "outputs": [
    {
     "name": "stdout",
     "output_type": "stream",
     "text": [
      "<class 'pandas.core.frame.DataFrame'>\n",
      "RangeIndex: 141159 entries, 0 to 141158\n",
      "Data columns (total 49 columns):\n",
      " #   Column         Non-Null Count   Dtype  \n",
      "---  ------         --------------   -----  \n",
      " 0   ability        141159 non-null  float64\n",
      " 1   activities     141159 non-null  float64\n",
      " 2   antianxiety    141159 non-null  float64\n",
      " 3   antipsychotic  141159 non-null  float64\n",
      " 4   appropriately  141159 non-null  float64\n",
      " 5   assessed       141159 non-null  float64\n",
      " 6   bladder        141159 non-null  float64\n",
      " 7   bowels         141159 non-null  float64\n",
      " 8   catheter       141159 non-null  float64\n",
      " 9   control        141159 non-null  float64\n",
      " 10  daily          141159 non-null  float64\n",
      " 11  depressive     141159 non-null  float64\n",
      " 12  experiencing   141159 non-null  float64\n",
      " 13  falls          141159 non-null  float64\n",
      " 14  function       141159 non-null  float64\n",
      " 15  given          141159 non-null  float64\n",
      " 16  help           141159 non-null  float64\n",
      " 17  high           141159 non-null  float64\n",
      " 18  hypnotic       141159 non-null  float64\n",
      " 19  improvements   141159 non-null  float64\n",
      " 20  increased      141159 non-null  float64\n",
      " 21  independently  141159 non-null  float64\n",
      " 22  infection      141159 non-null  float64\n",
      " 23  influenza      141159 non-null  float64\n",
      " 24  injury         141159 non-null  float64\n",
      " 25  inserted       141159 non-null  float64\n",
      " 26  left           141159 non-null  float64\n",
      " 27  long           141159 non-null  float64\n",
      " 28  lose           141159 non-null  float64\n",
      " 29  low            141159 non-null  float64\n",
      " 30  major          141159 non-null  float64\n",
      " 31  medication     141159 non-null  float64\n",
      " 32  need           141159 non-null  float64\n",
      " 33  newly          141159 non-null  float64\n",
      " 34  physically     141159 non-null  float64\n",
      " 35  pneumococcal   141159 non-null  float64\n",
      " 36  pressure       141159 non-null  float64\n",
      " 37  received       141159 non-null  float64\n",
      " 38  restrained     141159 non-null  float64\n",
      " 39  risk           141159 non-null  float64\n",
      " 40  seasonal       141159 non-null  float64\n",
      " 41  short          141159 non-null  float64\n",
      " 42  symptoms       141159 non-null  float64\n",
      " 43  tract          141159 non-null  float64\n",
      " 44  ulcers         141159 non-null  float64\n",
      " 45  urinary        141159 non-null  float64\n",
      " 46  vaccine        141159 non-null  float64\n",
      " 47  weight         141159 non-null  float64\n",
      " 48  worsened       141159 non-null  float64\n",
      "dtypes: float64(49)\n",
      "memory usage: 52.8 MB\n",
      "None\n"
     ]
    }
   ],
   "source": [
    "print(X_TFIDF_train.info())"
   ]
  },
  {
   "cell_type": "code",
   "execution_count": 9,
   "metadata": {},
   "outputs": [
    {
     "name": "stdout",
     "output_type": "stream",
     "text": [
      "(141159, 49)\n",
      "(141159, 49)\n"
     ]
    }
   ],
   "source": [
    "print(X_TFIDF_train.shape)\n",
    "print(X_train.shape)"
   ]
  },
  {
   "cell_type": "markdown",
   "metadata": {},
   "source": [
    "### Linear Regression: OLS <a id ='lm'></a>"
   ]
  },
  {
   "cell_type": "code",
   "execution_count": 10,
   "metadata": {},
   "outputs": [
    {
     "name": "stderr",
     "output_type": "stream",
     "text": [
      "/Users/jonahwinninghoff/opt/anaconda3/lib/python3.8/site-packages/statsmodels/tsa/tsatools.py:142: FutureWarning: In a future version of pandas all arguments of concat except for the argument 'objs' will be keyword-only\n",
      "  x = pd.concat(x[::order], 1)\n"
     ]
    },
    {
     "data": {
      "text/html": [
       "<table class=\"simpletable\">\n",
       "<caption>OLS Regression Results</caption>\n",
       "<tr>\n",
       "  <th>Dep. Variable:</th>            <td>y</td>        <th>  R-squared:         </th>  <td>   0.909</td> \n",
       "</tr>\n",
       "<tr>\n",
       "  <th>Model:</th>                   <td>OLS</td>       <th>  Adj. R-squared:    </th>  <td>   0.909</td> \n",
       "</tr>\n",
       "<tr>\n",
       "  <th>Method:</th>             <td>Least Squares</td>  <th>  F-statistic:       </th>  <td>8.341e+04</td>\n",
       "</tr>\n",
       "<tr>\n",
       "  <th>Date:</th>             <td>Wed, 15 Sep 2021</td> <th>  Prob (F-statistic):</th>   <td>  0.00</td>  \n",
       "</tr>\n",
       "<tr>\n",
       "  <th>Time:</th>                 <td>18:23:00</td>     <th>  Log-Likelihood:    </th> <td>1.1010e+05</td>\n",
       "</tr>\n",
       "<tr>\n",
       "  <th>No. Observations:</th>      <td>141159</td>      <th>  AIC:               </th> <td>-2.202e+05</td>\n",
       "</tr>\n",
       "<tr>\n",
       "  <th>Df Residuals:</th>          <td>141141</td>      <th>  BIC:               </th> <td>-2.200e+05</td>\n",
       "</tr>\n",
       "<tr>\n",
       "  <th>Df Model:</th>              <td>    17</td>      <th>                     </th>      <td> </td>    \n",
       "</tr>\n",
       "<tr>\n",
       "  <th>Covariance Type:</th>      <td>nonrobust</td>    <th>                     </th>      <td> </td>    \n",
       "</tr>\n",
       "</table>\n",
       "<table class=\"simpletable\">\n",
       "<tr>\n",
       "        <td></td>           <th>coef</th>     <th>std err</th>      <th>t</th>      <th>P>|t|</th>  <th>[0.025</th>    <th>0.975]</th>  \n",
       "</tr>\n",
       "<tr>\n",
       "  <th>const</th>         <td>    6.1344</td> <td>    0.346</td> <td>   17.731</td> <td> 0.000</td> <td>    5.456</td> <td>    6.812</td>\n",
       "</tr>\n",
       "<tr>\n",
       "  <th>ability</th>       <td>-2.687e+10</td> <td>  2.4e+10</td> <td>   -1.119</td> <td> 0.263</td> <td>-7.39e+10</td> <td> 2.02e+10</td>\n",
       "</tr>\n",
       "<tr>\n",
       "  <th>activities</th>    <td>-5.969e+09</td> <td> 5.24e+10</td> <td>   -0.114</td> <td> 0.909</td> <td>-1.09e+11</td> <td> 9.68e+10</td>\n",
       "</tr>\n",
       "<tr>\n",
       "  <th>antianxiety</th>   <td> 2.931e+10</td> <td>    3e+10</td> <td>    0.977</td> <td> 0.329</td> <td>-2.95e+10</td> <td> 8.81e+10</td>\n",
       "</tr>\n",
       "<tr>\n",
       "  <th>antipsychotic</th> <td> 3.539e+10</td> <td> 3.57e+10</td> <td>    0.992</td> <td> 0.321</td> <td>-3.45e+10</td> <td> 1.05e+11</td>\n",
       "</tr>\n",
       "<tr>\n",
       "  <th>appropriately</th> <td> -3.28e+10</td> <td> 2.19e+10</td> <td>   -1.496</td> <td> 0.135</td> <td>-7.58e+10</td> <td> 1.02e+10</td>\n",
       "</tr>\n",
       "<tr>\n",
       "  <th>assessed</th>      <td>-2.656e+10</td> <td> 2.39e+10</td> <td>   -1.112</td> <td> 0.266</td> <td>-7.34e+10</td> <td> 2.02e+10</td>\n",
       "</tr>\n",
       "<tr>\n",
       "  <th>bladder</th>       <td>-1.863e+11</td> <td> 9.71e+10</td> <td>   -1.919</td> <td> 0.055</td> <td>-3.77e+11</td> <td>    4e+09</td>\n",
       "</tr>\n",
       "<tr>\n",
       "  <th>bowels</th>        <td>  1.28e+11</td> <td> 4.03e+10</td> <td>    3.177</td> <td> 0.001</td> <td>  4.9e+10</td> <td> 2.07e+11</td>\n",
       "</tr>\n",
       "<tr>\n",
       "  <th>catheter</th>      <td> 2.363e+11</td> <td> 1.25e+11</td> <td>    1.888</td> <td> 0.059</td> <td>   -9e+09</td> <td> 4.82e+11</td>\n",
       "</tr>\n",
       "<tr>\n",
       "  <th>control</th>       <td> 1.105e+11</td> <td>  4.3e+10</td> <td>    2.567</td> <td> 0.010</td> <td> 2.61e+10</td> <td> 1.95e+11</td>\n",
       "</tr>\n",
       "<tr>\n",
       "  <th>daily</th>         <td> 1.695e+10</td> <td>  2.4e+10</td> <td>    0.705</td> <td> 0.481</td> <td>-3.02e+10</td> <td> 6.41e+10</td>\n",
       "</tr>\n",
       "<tr>\n",
       "  <th>depressive</th>    <td>-3.816e+09</td> <td> 5.32e+10</td> <td>   -0.072</td> <td> 0.943</td> <td>-1.08e+11</td> <td>    1e+11</td>\n",
       "</tr>\n",
       "<tr>\n",
       "  <th>experiencing</th>  <td> 1.003e+10</td> <td> 1.29e+11</td> <td>    0.078</td> <td> 0.938</td> <td>-2.43e+11</td> <td> 2.63e+11</td>\n",
       "</tr>\n",
       "<tr>\n",
       "  <th>falls</th>         <td> 1.492e+10</td> <td> 1.33e+11</td> <td>    0.112</td> <td> 0.911</td> <td>-2.46e+11</td> <td> 2.76e+11</td>\n",
       "</tr>\n",
       "<tr>\n",
       "  <th>function</th>      <td>-6.604e+09</td> <td>  2.6e+10</td> <td>   -0.254</td> <td> 0.799</td> <td>-5.76e+10</td> <td> 4.43e+10</td>\n",
       "</tr>\n",
       "<tr>\n",
       "  <th>given</th>         <td> 1.794e+09</td> <td> 3.75e+10</td> <td>    0.048</td> <td> 0.962</td> <td>-7.17e+10</td> <td> 7.53e+10</td>\n",
       "</tr>\n",
       "<tr>\n",
       "  <th>help</th>          <td>-8.142e+08</td> <td> 1.36e+10</td> <td>   -0.060</td> <td> 0.952</td> <td>-2.75e+10</td> <td> 2.59e+10</td>\n",
       "</tr>\n",
       "<tr>\n",
       "  <th>high</th>          <td> 1.541e+10</td> <td>    2e+10</td> <td>    0.769</td> <td> 0.442</td> <td>-2.39e+10</td> <td> 5.47e+10</td>\n",
       "</tr>\n",
       "<tr>\n",
       "  <th>hypnotic</th>      <td> 1.279e+09</td> <td> 4.76e+10</td> <td>    0.027</td> <td> 0.979</td> <td> -9.2e+10</td> <td> 9.45e+10</td>\n",
       "</tr>\n",
       "<tr>\n",
       "  <th>improvements</th>  <td> 1.276e+10</td> <td>  2.4e+10</td> <td>    0.531</td> <td> 0.595</td> <td>-3.43e+10</td> <td> 5.98e+10</td>\n",
       "</tr>\n",
       "<tr>\n",
       "  <th>increased</th>     <td>-1.884e+09</td> <td> 1.38e+10</td> <td>   -0.136</td> <td> 0.892</td> <td> -2.9e+10</td> <td> 2.52e+10</td>\n",
       "</tr>\n",
       "<tr>\n",
       "  <th>independently</th> <td> 1.602e+10</td> <td> 1.34e+10</td> <td>    1.194</td> <td> 0.232</td> <td>-1.03e+10</td> <td> 4.23e+10</td>\n",
       "</tr>\n",
       "<tr>\n",
       "  <th>infection</th>     <td> 7.501e+09</td> <td> 1.28e+10</td> <td>    0.584</td> <td> 0.559</td> <td>-1.77e+10</td> <td> 3.27e+10</td>\n",
       "</tr>\n",
       "<tr>\n",
       "  <th>influenza</th>     <td> 3.383e+10</td> <td> 3.85e+10</td> <td>    0.880</td> <td> 0.379</td> <td>-4.16e+10</td> <td> 1.09e+11</td>\n",
       "</tr>\n",
       "<tr>\n",
       "  <th>injury</th>        <td>-9.985e+09</td> <td>  1.3e+11</td> <td>   -0.077</td> <td> 0.939</td> <td>-2.65e+11</td> <td> 2.45e+11</td>\n",
       "</tr>\n",
       "<tr>\n",
       "  <th>inserted</th>      <td>-4.024e+10</td> <td> 2.74e+10</td> <td>   -1.467</td> <td> 0.142</td> <td> -9.4e+10</td> <td> 1.35e+10</td>\n",
       "</tr>\n",
       "<tr>\n",
       "  <th>left</th>          <td>-4.056e+10</td> <td> 2.76e+10</td> <td>   -1.472</td> <td> 0.141</td> <td>-9.46e+10</td> <td> 1.35e+10</td>\n",
       "</tr>\n",
       "<tr>\n",
       "  <th>long</th>          <td>-1.934e+10</td> <td> 3.52e+10</td> <td>   -0.550</td> <td> 0.582</td> <td>-8.83e+10</td> <td> 4.96e+10</td>\n",
       "</tr>\n",
       "<tr>\n",
       "  <th>lose</th>          <td>-4.741e+09</td> <td> 2.83e+10</td> <td>   -0.168</td> <td> 0.867</td> <td>-6.02e+10</td> <td> 5.07e+10</td>\n",
       "</tr>\n",
       "<tr>\n",
       "  <th>low</th>           <td>-3.906e+10</td> <td> 3.46e+10</td> <td>   -1.129</td> <td> 0.259</td> <td>-1.07e+11</td> <td> 2.88e+10</td>\n",
       "</tr>\n",
       "<tr>\n",
       "  <th>major</th>         <td> -8.66e+09</td> <td> 1.23e+11</td> <td>   -0.071</td> <td> 0.944</td> <td>-2.49e+11</td> <td> 2.32e+11</td>\n",
       "</tr>\n",
       "<tr>\n",
       "  <th>medication</th>    <td>-1.634e+10</td> <td> 2.17e+10</td> <td>   -0.752</td> <td> 0.452</td> <td>-5.89e+10</td> <td> 2.62e+10</td>\n",
       "</tr>\n",
       "<tr>\n",
       "  <th>need</th>          <td>-1.867e+09</td> <td> 1.38e+10</td> <td>   -0.135</td> <td> 0.892</td> <td>-2.89e+10</td> <td> 2.52e+10</td>\n",
       "</tr>\n",
       "<tr>\n",
       "  <th>newly</th>         <td>   -2.1135</td> <td>    0.118</td> <td>  -17.986</td> <td> 0.000</td> <td>   -2.344</td> <td>   -1.883</td>\n",
       "</tr>\n",
       "<tr>\n",
       "  <th>physically</th>    <td> 7.543e+09</td> <td> 1.13e+10</td> <td>    0.670</td> <td> 0.503</td> <td>-1.45e+10</td> <td> 2.96e+10</td>\n",
       "</tr>\n",
       "<tr>\n",
       "  <th>pneumococcal</th>  <td> 5.273e+10</td> <td> 5.83e+10</td> <td>    0.904</td> <td> 0.366</td> <td>-6.16e+10</td> <td> 1.67e+11</td>\n",
       "</tr>\n",
       "<tr>\n",
       "  <th>pressure</th>      <td> 1.182e+10</td> <td>  1.4e+10</td> <td>    0.843</td> <td> 0.399</td> <td>-1.57e+10</td> <td> 3.93e+10</td>\n",
       "</tr>\n",
       "<tr>\n",
       "  <th>received</th>      <td>-1.634e+10</td> <td> 2.17e+10</td> <td>   -0.752</td> <td> 0.452</td> <td>-5.89e+10</td> <td> 2.62e+10</td>\n",
       "</tr>\n",
       "<tr>\n",
       "  <th>restrained</th>    <td>-3.595e+09</td> <td> 6.73e+09</td> <td>   -0.534</td> <td> 0.593</td> <td>-1.68e+10</td> <td>  9.6e+09</td>\n",
       "</tr>\n",
       "<tr>\n",
       "  <th>risk</th>          <td>-3.994e+10</td> <td> 5.11e+10</td> <td>   -0.782</td> <td> 0.434</td> <td> -1.4e+11</td> <td> 6.02e+10</td>\n",
       "</tr>\n",
       "<tr>\n",
       "  <th>seasonal</th>      <td> 1.891e+10</td> <td>    2e+10</td> <td>    0.946</td> <td> 0.344</td> <td>-2.03e+10</td> <td> 5.81e+10</td>\n",
       "</tr>\n",
       "<tr>\n",
       "  <th>short</th>         <td>-9.652e+09</td> <td> 1.75e+10</td> <td>   -0.550</td> <td> 0.582</td> <td> -4.4e+10</td> <td> 2.47e+10</td>\n",
       "</tr>\n",
       "<tr>\n",
       "  <th>symptoms</th>      <td> 9.838e+09</td> <td> 5.24e+10</td> <td>    0.188</td> <td> 0.851</td> <td>-9.29e+10</td> <td> 1.13e+11</td>\n",
       "</tr>\n",
       "<tr>\n",
       "  <th>tract</th>         <td>-6.534e+08</td> <td> 3.24e+09</td> <td>   -0.202</td> <td> 0.840</td> <td>   -7e+09</td> <td> 5.69e+09</td>\n",
       "</tr>\n",
       "<tr>\n",
       "  <th>ulcers</th>        <td> 1.182e+10</td> <td>  1.4e+10</td> <td>    0.843</td> <td> 0.399</td> <td>-1.57e+10</td> <td> 3.93e+10</td>\n",
       "</tr>\n",
       "<tr>\n",
       "  <th>urinary</th>       <td>-6.534e+08</td> <td> 3.24e+09</td> <td>   -0.202</td> <td> 0.840</td> <td>   -7e+09</td> <td> 5.69e+09</td>\n",
       "</tr>\n",
       "<tr>\n",
       "  <th>vaccine</th>       <td>-3.714e+08</td> <td> 4.01e+10</td> <td>   -0.009</td> <td> 0.993</td> <td> -7.9e+10</td> <td> 7.83e+10</td>\n",
       "</tr>\n",
       "<tr>\n",
       "  <th>weight</th>        <td> 1.026e+10</td> <td> 1.87e+10</td> <td>    0.549</td> <td> 0.583</td> <td>-2.64e+10</td> <td> 4.69e+10</td>\n",
       "</tr>\n",
       "<tr>\n",
       "  <th>worsened</th>      <td> 1.724e+10</td> <td> 1.31e+10</td> <td>    1.317</td> <td> 0.188</td> <td>-8.42e+09</td> <td> 4.29e+10</td>\n",
       "</tr>\n",
       "</table>\n",
       "<table class=\"simpletable\">\n",
       "<tr>\n",
       "  <th>Omnibus:</th>       <td>39930.087</td> <th>  Durbin-Watson:     </th>  <td>   1.995</td> \n",
       "</tr>\n",
       "<tr>\n",
       "  <th>Prob(Omnibus):</th>  <td> 0.000</td>   <th>  Jarque-Bera (JB):  </th> <td>604268.632</td>\n",
       "</tr>\n",
       "<tr>\n",
       "  <th>Skew:</th>           <td>-0.952</td>   <th>  Prob(JB):          </th>  <td>    0.00</td> \n",
       "</tr>\n",
       "<tr>\n",
       "  <th>Kurtosis:</th>       <td>12.956</td>   <th>  Cond. No.          </th>  <td>3.05e+16</td> \n",
       "</tr>\n",
       "</table><br/><br/>Notes:<br/>[1] Standard Errors assume that the covariance matrix of the errors is correctly specified.<br/>[2] The smallest eigenvalue is 1.72e-28. This might indicate that there are<br/>strong multicollinearity problems or that the design matrix is singular."
      ],
      "text/plain": [
       "<class 'statsmodels.iolib.summary.Summary'>\n",
       "\"\"\"\n",
       "                            OLS Regression Results                            \n",
       "==============================================================================\n",
       "Dep. Variable:                      y   R-squared:                       0.909\n",
       "Model:                            OLS   Adj. R-squared:                  0.909\n",
       "Method:                 Least Squares   F-statistic:                 8.341e+04\n",
       "Date:                Wed, 15 Sep 2021   Prob (F-statistic):               0.00\n",
       "Time:                        18:23:00   Log-Likelihood:             1.1010e+05\n",
       "No. Observations:              141159   AIC:                        -2.202e+05\n",
       "Df Residuals:                  141141   BIC:                        -2.200e+05\n",
       "Df Model:                          17                                         \n",
       "Covariance Type:            nonrobust                                         \n",
       "=================================================================================\n",
       "                    coef    std err          t      P>|t|      [0.025      0.975]\n",
       "---------------------------------------------------------------------------------\n",
       "const             6.1344      0.346     17.731      0.000       5.456       6.812\n",
       "ability       -2.687e+10    2.4e+10     -1.119      0.263   -7.39e+10    2.02e+10\n",
       "activities    -5.969e+09   5.24e+10     -0.114      0.909   -1.09e+11    9.68e+10\n",
       "antianxiety    2.931e+10      3e+10      0.977      0.329   -2.95e+10    8.81e+10\n",
       "antipsychotic  3.539e+10   3.57e+10      0.992      0.321   -3.45e+10    1.05e+11\n",
       "appropriately  -3.28e+10   2.19e+10     -1.496      0.135   -7.58e+10    1.02e+10\n",
       "assessed      -2.656e+10   2.39e+10     -1.112      0.266   -7.34e+10    2.02e+10\n",
       "bladder       -1.863e+11   9.71e+10     -1.919      0.055   -3.77e+11       4e+09\n",
       "bowels          1.28e+11   4.03e+10      3.177      0.001     4.9e+10    2.07e+11\n",
       "catheter       2.363e+11   1.25e+11      1.888      0.059      -9e+09    4.82e+11\n",
       "control        1.105e+11    4.3e+10      2.567      0.010    2.61e+10    1.95e+11\n",
       "daily          1.695e+10    2.4e+10      0.705      0.481   -3.02e+10    6.41e+10\n",
       "depressive    -3.816e+09   5.32e+10     -0.072      0.943   -1.08e+11       1e+11\n",
       "experiencing   1.003e+10   1.29e+11      0.078      0.938   -2.43e+11    2.63e+11\n",
       "falls          1.492e+10   1.33e+11      0.112      0.911   -2.46e+11    2.76e+11\n",
       "function      -6.604e+09    2.6e+10     -0.254      0.799   -5.76e+10    4.43e+10\n",
       "given          1.794e+09   3.75e+10      0.048      0.962   -7.17e+10    7.53e+10\n",
       "help          -8.142e+08   1.36e+10     -0.060      0.952   -2.75e+10    2.59e+10\n",
       "high           1.541e+10      2e+10      0.769      0.442   -2.39e+10    5.47e+10\n",
       "hypnotic       1.279e+09   4.76e+10      0.027      0.979    -9.2e+10    9.45e+10\n",
       "improvements   1.276e+10    2.4e+10      0.531      0.595   -3.43e+10    5.98e+10\n",
       "increased     -1.884e+09   1.38e+10     -0.136      0.892    -2.9e+10    2.52e+10\n",
       "independently  1.602e+10   1.34e+10      1.194      0.232   -1.03e+10    4.23e+10\n",
       "infection      7.501e+09   1.28e+10      0.584      0.559   -1.77e+10    3.27e+10\n",
       "influenza      3.383e+10   3.85e+10      0.880      0.379   -4.16e+10    1.09e+11\n",
       "injury        -9.985e+09    1.3e+11     -0.077      0.939   -2.65e+11    2.45e+11\n",
       "inserted      -4.024e+10   2.74e+10     -1.467      0.142    -9.4e+10    1.35e+10\n",
       "left          -4.056e+10   2.76e+10     -1.472      0.141   -9.46e+10    1.35e+10\n",
       "long          -1.934e+10   3.52e+10     -0.550      0.582   -8.83e+10    4.96e+10\n",
       "lose          -4.741e+09   2.83e+10     -0.168      0.867   -6.02e+10    5.07e+10\n",
       "low           -3.906e+10   3.46e+10     -1.129      0.259   -1.07e+11    2.88e+10\n",
       "major          -8.66e+09   1.23e+11     -0.071      0.944   -2.49e+11    2.32e+11\n",
       "medication    -1.634e+10   2.17e+10     -0.752      0.452   -5.89e+10    2.62e+10\n",
       "need          -1.867e+09   1.38e+10     -0.135      0.892   -2.89e+10    2.52e+10\n",
       "newly            -2.1135      0.118    -17.986      0.000      -2.344      -1.883\n",
       "physically     7.543e+09   1.13e+10      0.670      0.503   -1.45e+10    2.96e+10\n",
       "pneumococcal   5.273e+10   5.83e+10      0.904      0.366   -6.16e+10    1.67e+11\n",
       "pressure       1.182e+10    1.4e+10      0.843      0.399   -1.57e+10    3.93e+10\n",
       "received      -1.634e+10   2.17e+10     -0.752      0.452   -5.89e+10    2.62e+10\n",
       "restrained    -3.595e+09   6.73e+09     -0.534      0.593   -1.68e+10     9.6e+09\n",
       "risk          -3.994e+10   5.11e+10     -0.782      0.434    -1.4e+11    6.02e+10\n",
       "seasonal       1.891e+10      2e+10      0.946      0.344   -2.03e+10    5.81e+10\n",
       "short         -9.652e+09   1.75e+10     -0.550      0.582    -4.4e+10    2.47e+10\n",
       "symptoms       9.838e+09   5.24e+10      0.188      0.851   -9.29e+10    1.13e+11\n",
       "tract         -6.534e+08   3.24e+09     -0.202      0.840      -7e+09    5.69e+09\n",
       "ulcers         1.182e+10    1.4e+10      0.843      0.399   -1.57e+10    3.93e+10\n",
       "urinary       -6.534e+08   3.24e+09     -0.202      0.840      -7e+09    5.69e+09\n",
       "vaccine       -3.714e+08   4.01e+10     -0.009      0.993    -7.9e+10    7.83e+10\n",
       "weight         1.026e+10   1.87e+10      0.549      0.583   -2.64e+10    4.69e+10\n",
       "worsened       1.724e+10   1.31e+10      1.317      0.188   -8.42e+09    4.29e+10\n",
       "==============================================================================\n",
       "Omnibus:                    39930.087   Durbin-Watson:                   1.995\n",
       "Prob(Omnibus):                  0.000   Jarque-Bera (JB):           604268.632\n",
       "Skew:                          -0.952   Prob(JB):                         0.00\n",
       "Kurtosis:                      12.956   Cond. No.                     3.05e+16\n",
       "==============================================================================\n",
       "\n",
       "Notes:\n",
       "[1] Standard Errors assume that the covariance matrix of the errors is correctly specified.\n",
       "[2] The smallest eigenvalue is 1.72e-28. This might indicate that there are\n",
       "strong multicollinearity problems or that the design matrix is singular.\n",
       "\"\"\""
      ]
     },
     "metadata": {},
     "output_type": "display_data"
    }
   ],
   "source": [
    "X_TFIDF_train_wconstant = sm.add_constant(X_TFIDF_train)\n",
    "model = sm.OLS(y_train,X_TFIDF_train_wconstant)\n",
    "TFIDF_fitted_lm = model.fit()\n",
    "\n",
    "display(TFIDF_fitted_lm.summary())"
   ]
  },
  {
   "cell_type": "code",
   "execution_count": 11,
   "metadata": {},
   "outputs": [
    {
     "name": "stderr",
     "output_type": "stream",
     "text": [
      "/Users/jonahwinninghoff/opt/anaconda3/lib/python3.8/site-packages/statsmodels/tsa/tsatools.py:142: FutureWarning: In a future version of pandas all arguments of concat except for the argument 'objs' will be keyword-only\n",
      "  x = pd.concat(x[::order], 1)\n"
     ]
    }
   ],
   "source": [
    "# Create the evaluation using r^2 as a guide\n",
    "def lm_eval(n_components):\n",
    "    pca_train = X_train.iloc[:,0:n_components].copy()\n",
    "    X_train_wconstant = sm.add_constant(pca_train)\n",
    "    model = sm.OLS(y_train,X_train_wconstant)\n",
    "    fitted_lm = model.fit()\n",
    "    return fitted_lm.rsquared\n",
    "\n",
    "components = {}\n",
    "for i in enumerate(X_train.columns):\n",
    "    result = [lm_eval(i[0])]\n",
    "    components[i[1]] = result"
   ]
  },
  {
   "cell_type": "code",
   "execution_count": 12,
   "metadata": {},
   "outputs": [
    {
     "data": {
      "image/png": "[encoded data removed]",
      "text/plain": [
       "<Figure size 720x432 with 1 Axes>"
      ]
     },
     "metadata": {},
     "output_type": "display_data"
    }
   ],
   "source": [
    "# Pandas Frame on components and find max accuracy of n components\n",
    "components = pd.DataFrame(components).melt()\n",
    "max_components = components[components['value'] == np.max(components['value'])].index[0]\n",
    "\n",
    "# Step plot\n",
    "plt.style.use('fivethirtyeight')\n",
    "plt.subplots(figsize=(10, 6))\n",
    "plt.plot(components['value'],drawstyle='steps')\n",
    "plt.axvline(max_components, linestyle=':',color='red',linewidth=1)\n",
    "plt.xlabel('Prinicipal components')\n",
    "plt.ylabel('R squared score')\n",
    "plt.title('Prinicipal components and r squared scores', family='monospace',fontsize=16)\n",
    "plt.grid(False)\n",
    "plt.show()"
   ]
  },
  {
   "cell_type": "code",
   "execution_count": 13,
   "metadata": {},
   "outputs": [
    {
     "name": "stderr",
     "output_type": "stream",
     "text": [
      "/Users/jonahwinninghoff/opt/anaconda3/lib/python3.8/site-packages/statsmodels/tsa/tsatools.py:142: FutureWarning: In a future version of pandas all arguments of concat except for the argument 'objs' will be keyword-only\n",
      "  x = pd.concat(x[::order], 1)\n"
     ]
    },
    {
     "data": {
      "text/html": [
       "<table class=\"simpletable\">\n",
       "<caption>OLS Regression Results</caption>\n",
       "<tr>\n",
       "  <th>Dep. Variable:</th>            <td>y</td>        <th>  R-squared:         </th>  <td>   0.909</td> \n",
       "</tr>\n",
       "<tr>\n",
       "  <th>Model:</th>                   <td>OLS</td>       <th>  Adj. R-squared:    </th>  <td>   0.909</td> \n",
       "</tr>\n",
       "<tr>\n",
       "  <th>Method:</th>             <td>Least Squares</td>  <th>  F-statistic:       </th>  <td>8.342e+04</td>\n",
       "</tr>\n",
       "<tr>\n",
       "  <th>Date:</th>             <td>Wed, 15 Sep 2021</td> <th>  Prob (F-statistic):</th>   <td>  0.00</td>  \n",
       "</tr>\n",
       "<tr>\n",
       "  <th>Time:</th>                 <td>18:23:15</td>     <th>  Log-Likelihood:    </th> <td>1.1011e+05</td>\n",
       "</tr>\n",
       "<tr>\n",
       "  <th>No. Observations:</th>      <td>141159</td>      <th>  AIC:               </th> <td>-2.202e+05</td>\n",
       "</tr>\n",
       "<tr>\n",
       "  <th>Df Residuals:</th>          <td>141141</td>      <th>  BIC:               </th> <td>-2.200e+05</td>\n",
       "</tr>\n",
       "<tr>\n",
       "  <th>Df Model:</th>              <td>    17</td>      <th>                     </th>      <td> </td>    \n",
       "</tr>\n",
       "<tr>\n",
       "  <th>Covariance Type:</th>      <td>nonrobust</td>    <th>                     </th>      <td> </td>    \n",
       "</tr>\n",
       "</table>\n",
       "<table class=\"simpletable\">\n",
       "<tr>\n",
       "    <td></td>       <th>coef</th>     <th>std err</th>      <th>t</th>      <th>P>|t|</th>  <th>[0.025</th>    <th>0.975]</th>  \n",
       "</tr>\n",
       "<tr>\n",
       "  <th>const</th> <td>    0.3573</td> <td>    0.000</td> <td> 1210.121</td> <td> 0.000</td> <td>    0.357</td> <td>    0.358</td>\n",
       "</tr>\n",
       "<tr>\n",
       "  <th>pc_0</th>  <td>    0.7746</td> <td>    0.001</td> <td> 1061.483</td> <td> 0.000</td> <td>    0.773</td> <td>    0.776</td>\n",
       "</tr>\n",
       "<tr>\n",
       "  <th>pc_1</th>  <td>    0.0366</td> <td>    0.001</td> <td>   38.903</td> <td> 0.000</td> <td>    0.035</td> <td>    0.038</td>\n",
       "</tr>\n",
       "<tr>\n",
       "  <th>pc_2</th>  <td>    0.1458</td> <td>    0.001</td> <td>  129.100</td> <td> 0.000</td> <td>    0.144</td> <td>    0.148</td>\n",
       "</tr>\n",
       "<tr>\n",
       "  <th>pc_3</th>  <td>   -0.0082</td> <td>    0.001</td> <td>   -6.848</td> <td> 0.000</td> <td>   -0.011</td> <td>   -0.006</td>\n",
       "</tr>\n",
       "<tr>\n",
       "  <th>pc_4</th>  <td>    0.0745</td> <td>    0.001</td> <td>   61.464</td> <td> 0.000</td> <td>    0.072</td> <td>    0.077</td>\n",
       "</tr>\n",
       "<tr>\n",
       "  <th>pc_5</th>  <td>   -0.0313</td> <td>    0.001</td> <td>  -25.601</td> <td> 0.000</td> <td>   -0.034</td> <td>   -0.029</td>\n",
       "</tr>\n",
       "<tr>\n",
       "  <th>pc_6</th>  <td>    0.3433</td> <td>    0.001</td> <td>  279.164</td> <td> 0.000</td> <td>    0.341</td> <td>    0.346</td>\n",
       "</tr>\n",
       "<tr>\n",
       "  <th>pc_7</th>  <td>   -0.1487</td> <td>    0.001</td> <td> -117.495</td> <td> 0.000</td> <td>   -0.151</td> <td>   -0.146</td>\n",
       "</tr>\n",
       "<tr>\n",
       "  <th>pc_8</th>  <td>   -0.0023</td> <td>    0.001</td> <td>   -1.769</td> <td> 0.077</td> <td>   -0.005</td> <td>    0.000</td>\n",
       "</tr>\n",
       "<tr>\n",
       "  <th>pc_9</th>  <td>   -0.0821</td> <td>    0.001</td> <td>  -60.887</td> <td> 0.000</td> <td>   -0.085</td> <td>   -0.079</td>\n",
       "</tr>\n",
       "<tr>\n",
       "  <th>pc_10</th> <td>   -0.0177</td> <td>    0.001</td> <td>  -12.552</td> <td> 0.000</td> <td>   -0.021</td> <td>   -0.015</td>\n",
       "</tr>\n",
       "<tr>\n",
       "  <th>pc_11</th> <td>    0.1630</td> <td>    0.001</td> <td>  110.376</td> <td> 0.000</td> <td>    0.160</td> <td>    0.166</td>\n",
       "</tr>\n",
       "<tr>\n",
       "  <th>pc_12</th> <td>    0.4478</td> <td>    0.001</td> <td>  299.796</td> <td> 0.000</td> <td>    0.445</td> <td>    0.451</td>\n",
       "</tr>\n",
       "<tr>\n",
       "  <th>pc_13</th> <td>   -0.5653</td> <td>    0.002</td> <td> -247.225</td> <td> 0.000</td> <td>   -0.570</td> <td>   -0.561</td>\n",
       "</tr>\n",
       "<tr>\n",
       "  <th>pc_14</th> <td>   -0.1624</td> <td>    0.004</td> <td>  -44.051</td> <td> 0.000</td> <td>   -0.170</td> <td>   -0.155</td>\n",
       "</tr>\n",
       "<tr>\n",
       "  <th>pc_15</th> <td>   -0.3522</td> <td>    0.004</td> <td>  -87.762</td> <td> 0.000</td> <td>   -0.360</td> <td>   -0.344</td>\n",
       "</tr>\n",
       "<tr>\n",
       "  <th>pc_16</th> <td>  -18.7512</td> <td>    1.098</td> <td>  -17.081</td> <td> 0.000</td> <td>  -20.903</td> <td>  -16.600</td>\n",
       "</tr>\n",
       "<tr>\n",
       "  <th>pc_17</th> <td> 9.171e-13</td> <td> 5.37e-14</td> <td>   17.088</td> <td> 0.000</td> <td> 8.12e-13</td> <td> 1.02e-12</td>\n",
       "</tr>\n",
       "</table>\n",
       "<table class=\"simpletable\">\n",
       "<tr>\n",
       "  <th>Omnibus:</th>       <td>39551.775</td> <th>  Durbin-Watson:     </th>  <td>   1.995</td> \n",
       "</tr>\n",
       "<tr>\n",
       "  <th>Prob(Omnibus):</th>  <td> 0.000</td>   <th>  Jarque-Bera (JB):  </th> <td>602320.938</td>\n",
       "</tr>\n",
       "<tr>\n",
       "  <th>Skew:</th>           <td>-0.937</td>   <th>  Prob(JB):          </th>  <td>    0.00</td> \n",
       "</tr>\n",
       "<tr>\n",
       "  <th>Kurtosis:</th>       <td>12.944</td>   <th>  Cond. No.          </th>  <td>1.18e+28</td> \n",
       "</tr>\n",
       "</table><br/><br/>Notes:<br/>[1] Standard Errors assume that the covariance matrix of the errors is correctly specified.<br/>[2] The smallest eigenvalue is 1.01e-51. This might indicate that there are<br/>strong multicollinearity problems or that the design matrix is singular."
      ],
      "text/plain": [
       "<class 'statsmodels.iolib.summary.Summary'>\n",
       "\"\"\"\n",
       "                            OLS Regression Results                            \n",
       "==============================================================================\n",
       "Dep. Variable:                      y   R-squared:                       0.909\n",
       "Model:                            OLS   Adj. R-squared:                  0.909\n",
       "Method:                 Least Squares   F-statistic:                 8.342e+04\n",
       "Date:                Wed, 15 Sep 2021   Prob (F-statistic):               0.00\n",
       "Time:                        18:23:15   Log-Likelihood:             1.1011e+05\n",
       "No. Observations:              141159   AIC:                        -2.202e+05\n",
       "Df Residuals:                  141141   BIC:                        -2.200e+05\n",
       "Df Model:                          17                                         \n",
       "Covariance Type:            nonrobust                                         \n",
       "==============================================================================\n",
       "                 coef    std err          t      P>|t|      [0.025      0.975]\n",
       "------------------------------------------------------------------------------\n",
       "const          0.3573      0.000   1210.121      0.000       0.357       0.358\n",
       "pc_0           0.7746      0.001   1061.483      0.000       0.773       0.776\n",
       "pc_1           0.0366      0.001     38.903      0.000       0.035       0.038\n",
       "pc_2           0.1458      0.001    129.100      0.000       0.144       0.148\n",
       "pc_3          -0.0082      0.001     -6.848      0.000      -0.011      -0.006\n",
       "pc_4           0.0745      0.001     61.464      0.000       0.072       0.077\n",
       "pc_5          -0.0313      0.001    -25.601      0.000      -0.034      -0.029\n",
       "pc_6           0.3433      0.001    279.164      0.000       0.341       0.346\n",
       "pc_7          -0.1487      0.001   -117.495      0.000      -0.151      -0.146\n",
       "pc_8          -0.0023      0.001     -1.769      0.077      -0.005       0.000\n",
       "pc_9          -0.0821      0.001    -60.887      0.000      -0.085      -0.079\n",
       "pc_10         -0.0177      0.001    -12.552      0.000      -0.021      -0.015\n",
       "pc_11          0.1630      0.001    110.376      0.000       0.160       0.166\n",
       "pc_12          0.4478      0.001    299.796      0.000       0.445       0.451\n",
       "pc_13         -0.5653      0.002   -247.225      0.000      -0.570      -0.561\n",
       "pc_14         -0.1624      0.004    -44.051      0.000      -0.170      -0.155\n",
       "pc_15         -0.3522      0.004    -87.762      0.000      -0.360      -0.344\n",
       "pc_16        -18.7512      1.098    -17.081      0.000     -20.903     -16.600\n",
       "pc_17       9.171e-13   5.37e-14     17.088      0.000    8.12e-13    1.02e-12\n",
       "==============================================================================\n",
       "Omnibus:                    39551.775   Durbin-Watson:                   1.995\n",
       "Prob(Omnibus):                  0.000   Jarque-Bera (JB):           602320.938\n",
       "Skew:                          -0.937   Prob(JB):                         0.00\n",
       "Kurtosis:                      12.944   Cond. No.                     1.18e+28\n",
       "==============================================================================\n",
       "\n",
       "Notes:\n",
       "[1] Standard Errors assume that the covariance matrix of the errors is correctly specified.\n",
       "[2] The smallest eigenvalue is 1.01e-51. This might indicate that there are\n",
       "strong multicollinearity problems or that the design matrix is singular.\n",
       "\"\"\""
      ]
     },
     "metadata": {},
     "output_type": "display_data"
    }
   ],
   "source": [
    "# Reduce from 49 columns to n_components columns\n",
    "pca_train = X_train.iloc[:,0:max_components]\n",
    "pca_valid = X_valid.iloc[:,0:max_components]\n",
    "pca_test = X_test.iloc[:,0:max_components]\n",
    "\n",
    "# Fit the best lm\n",
    "X_train_wconstant = sm.add_constant(pca_train)\n",
    "model = sm.OLS(y_train,X_train_wconstant)\n",
    "fitted_lm = model.fit()\n",
    "\n",
    "display(fitted_lm.summary())"
   ]
  },
  {
   "cell_type": "markdown",
   "metadata": {},
   "source": [
    "The OLS with TFIDF vectorization shows that a few variables are statistically significant at two-sided 5% alpha level. The Akaike and Bayesian Information Criterions (AIC and BIC) are −0.98 and −0.977. The R-squared score is 90.9%. The adjusted R-squared score shows that the number of parameters has little impact on the percentage of the target variable variation that this model explains. When the number of features reduces using cosine similarities, each variable is satistically significant at two-sided 1% alpha level, and AIC and BIC are lower. However, the R-squared score is 69.9, and the adjusted R-squared score is same. \n",
    "\n",
    "The kurtosis score lowers but it is still leptokurtotic. The skewness for OLS with TFIDF vectorization is extremely negative. When the cosine similarites are applied, the skewness shifts to postive or right skewness."
   ]
  },
  {
   "cell_type": "code",
   "execution_count": 14,
   "metadata": {},
   "outputs": [
    {
     "name": "stderr",
     "output_type": "stream",
     "text": [
      "/Users/jonahwinninghoff/opt/anaconda3/lib/python3.8/site-packages/statsmodels/tsa/tsatools.py:142: FutureWarning: In a future version of pandas all arguments of concat except for the argument 'objs' will be keyword-only\n",
      "  x = pd.concat(x[::order], 1)\n"
     ]
    }
   ],
   "source": [
    "X_valid_wconstant = sm.add_constant(pca_valid)\n",
    "y_predicted = fitted_lm.predict(X_valid_wconstant)\n",
    "\n",
    "X_TFIDF_valid_wconstant = sm.add_constant(X_TFIDF_valid)\n",
    "y_TFIDF_predicted = TFIDF_fitted_lm.predict(X_TFIDF_valid_wconstant)"
   ]
  },
  {
   "cell_type": "code",
   "execution_count": 15,
   "metadata": {},
   "outputs": [],
   "source": [
    "def r2_calculator(predict, true):\n",
    "    merged = pd.concat([pd.DataFrame(list(predict)).rename(columns={0:'predicted'}), \n",
    "           pd.DataFrame(list(true)).rename(columns={0:'true'})],axis=1)\n",
    "    \n",
    "    # 1 - (predict - true)^2/(true - mean(true))^2 = 1 - RSS/TSS = r_2\n",
    "    r2 = 1 - sum((merged['predicted'] - merged['true'])**2)/sum((merged['true'] - np.mean(merged['true']))**2)\n",
    "    \n",
    "    return r2\n",
    "\n",
    "def adjusted_r2_calculator(predict, true):\n",
    "    r2 = r2_calculator(predict, true) # r_2\n",
    "    n = len(true)                     # number of rows\n",
    "    k = len(fitted_lm.params)         # number of parameters\n",
    "    \n",
    "    adj_r2 = 1 - ((1-r2)*(n-1))/(n-k-1)    # 1 - [(1 - r_2)*(n - 1)/(n - k - 1)] = adjusted r^2\n",
    "    \n",
    "    return adj_r2\n",
    "\n",
    "def mae_and_mse_calculator(predict, true):\n",
    "    merged = pd.concat([pd.DataFrame(list(predict)).rename(columns={0:'predicted'}), \n",
    "           pd.DataFrame(list(true)).rename(columns={0:'true'})],axis=1)\n",
    "    mae = sum(np.abs(merged['true'] - merged['predicted']))/len(true) # 1/n ∑ |true - predict|   = MAE\n",
    "    mse = sum((merged['true'] - merged['predicted'])**2)/len(true)    # 1/n ∑ (true - predict)^2 = MSE\n",
    "    \n",
    "    return mae, mse"
   ]
  },
  {
   "cell_type": "code",
   "execution_count": 16,
   "metadata": {},
   "outputs": [
    {
     "name": "stdout",
     "output_type": "stream",
     "text": [
      "Validation Set\n",
      "R2: 0.9091\n",
      "Adjusted R2: 0.9091\n",
      "MAE: 0.0686\n",
      "RMSE: 0.1107\n"
     ]
    }
   ],
   "source": [
    "print('Validation Set')\n",
    "print('R2: '+str(round(r2_calculator(y_TFIDF_predicted, y_valid),4)))\n",
    "print('Adjusted R2: '+str(round(adjusted_r2_calculator(y_TFIDF_predicted,y_valid),4)))\n",
    "print('MAE: '+ str(round(mae_and_mse_calculator(y_TFIDF_predicted,y_valid)[0],4)))\n",
    "print('RMSE: '+ str(round(mae_and_mse_calculator(y_TFIDF_predicted,y_valid)[1]**0.5,4)))"
   ]
  },
  {
   "cell_type": "code",
   "execution_count": 17,
   "metadata": {},
   "outputs": [
    {
     "name": "stdout",
     "output_type": "stream",
     "text": [
      "Validation Set with PCA\n",
      "R2: 0.9091\n",
      "Adjusted R2: 0.9091\n",
      "MAE: 0.0687\n",
      "RMSE: 0.1107\n"
     ]
    }
   ],
   "source": [
    "print('Validation Set with PCA')\n",
    "print('R2: '+str(round(r2_calculator(y_predicted, y_valid),4)))\n",
    "print('Adjusted R2: '+str(round(adjusted_r2_calculator(y_predicted,y_valid),4)))\n",
    "print('MAE: '+ str(round(mae_and_mse_calculator(y_predicted,y_valid)[0],4)))\n",
    "print('RMSE: '+ str(round(mae_and_mse_calculator(y_predicted,y_valid)[1]**0.5,4)))"
   ]
  },
  {
   "cell_type": "markdown",
   "metadata": {},
   "source": [
    "When the model with either TFIDF vectorization or PCA is being generalized using validation set, it is already at highest accuracy and lowest loss."
   ]
  },
  {
   "cell_type": "markdown",
   "metadata": {},
   "source": [
    "### Lasso Regression <a id = 'lasso'></a>"
   ]
  },
  {
   "cell_type": "code",
   "execution_count": 18,
   "metadata": {},
   "outputs": [
    {
     "name": "stdout",
     "output_type": "stream",
     "text": [
      "|   iter    |  target   |   alpha   |\n",
      "-------------------------------------\n",
      "| \u001b[0m 1       \u001b[0m | \u001b[0m-7.81e-05\u001b[0m | \u001b[0m 0.1131  \u001b[0m |\n",
      "| \u001b[0m 2       \u001b[0m | \u001b[0m-7.81e-05\u001b[0m | \u001b[0m 0.129   \u001b[0m |\n",
      "| \u001b[0m 3       \u001b[0m | \u001b[0m-7.81e-05\u001b[0m | \u001b[0m 1.0     \u001b[0m |\n",
      "| \u001b[0m 4       \u001b[0m | \u001b[0m-7.81e-05\u001b[0m | \u001b[0m 1.0     \u001b[0m |\n",
      "| \u001b[95m 5       \u001b[0m | \u001b[95m 0.7454  \u001b[0m | \u001b[95m 0.01007 \u001b[0m |\n",
      "| \u001b[0m 6       \u001b[0m | \u001b[0m 0.3204  \u001b[0m | \u001b[0m 0.03734 \u001b[0m |\n",
      "| \u001b[0m 7       \u001b[0m | \u001b[0m-7.81e-05\u001b[0m | \u001b[0m 0.5624  \u001b[0m |\n",
      "| \u001b[0m 8       \u001b[0m | \u001b[0m-7.81e-05\u001b[0m | \u001b[0m 0.3436  \u001b[0m |\n",
      "| \u001b[0m 9       \u001b[0m | \u001b[0m 0.6187  \u001b[0m | \u001b[0m 0.01727 \u001b[0m |\n",
      "| \u001b[0m 10      \u001b[0m | \u001b[0m-7.81e-05\u001b[0m | \u001b[0m 0.7812  \u001b[0m |\n",
      "| \u001b[0m 11      \u001b[0m | \u001b[0m-7.81e-05\u001b[0m | \u001b[0m 0.4531  \u001b[0m |\n",
      "| \u001b[0m 12      \u001b[0m | \u001b[0m-7.81e-05\u001b[0m | \u001b[0m 0.6716  \u001b[0m |\n",
      "| \u001b[0m 13      \u001b[0m | \u001b[0m-7.81e-05\u001b[0m | \u001b[0m 0.8904  \u001b[0m |\n",
      "| \u001b[0m 14      \u001b[0m | \u001b[0m-7.81e-05\u001b[0m | \u001b[0m 0.2348  \u001b[0m |\n",
      "| \u001b[95m 15      \u001b[0m | \u001b[95m 0.7464  \u001b[0m | \u001b[95m 0.01    \u001b[0m |\n",
      "| \u001b[0m 16      \u001b[0m | \u001b[0m 0.7464  \u001b[0m | \u001b[0m 0.01    \u001b[0m |\n",
      "| \u001b[0m 17      \u001b[0m | \u001b[0m 0.7464  \u001b[0m | \u001b[0m 0.01    \u001b[0m |\n",
      "| \u001b[0m 18      \u001b[0m | \u001b[0m 0.7464  \u001b[0m | \u001b[0m 0.01    \u001b[0m |\n",
      "| \u001b[0m 19      \u001b[0m | \u001b[0m 0.7464  \u001b[0m | \u001b[0m 0.01    \u001b[0m |\n",
      "| \u001b[0m 20      \u001b[0m | \u001b[0m 0.7464  \u001b[0m | \u001b[0m 0.01    \u001b[0m |\n",
      "| \u001b[0m 21      \u001b[0m | \u001b[0m 0.7464  \u001b[0m | \u001b[0m 0.01    \u001b[0m |\n",
      "| \u001b[0m 22      \u001b[0m | \u001b[0m 0.7464  \u001b[0m | \u001b[0m 0.01    \u001b[0m |\n",
      "=====================================\n"
     ]
    }
   ],
   "source": [
    "# Optimize Lasso with TFIDF model\n",
    "def lasso_eval(alpha):\n",
    "    lasso = Lasso(alpha=alpha)\n",
    "    lasso.fit(X_TFIDF_train,y_train)\n",
    "    \n",
    "    return r2_calculator(lasso.predict(X_TFIDF_valid),y_valid)\n",
    "    \n",
    "\n",
    "# Instantiate Bayesian Optimization   \n",
    "TFIDF_lassoBO = BayesianOptimization(lasso_eval, {'alpha':(0.01,1)})\n",
    "TFIDF_lassoBO.maximize(n_iter=20, init_points=2)"
   ]
  },
  {
   "cell_type": "code",
   "execution_count": 19,
   "metadata": {},
   "outputs": [
    {
     "name": "stdout",
     "output_type": "stream",
     "text": [
      "|   iter    |  target   |   alpha   |\n",
      "-------------------------------------\n",
      "| \u001b[0m 1       \u001b[0m | \u001b[0m-7.81e-05\u001b[0m | \u001b[0m 0.7301  \u001b[0m |\n",
      "| \u001b[0m 2       \u001b[0m | \u001b[0m-7.81e-05\u001b[0m | \u001b[0m 0.9577  \u001b[0m |\n",
      "| \u001b[95m 3       \u001b[0m | \u001b[95m 0.7925  \u001b[0m | \u001b[95m 0.01    \u001b[0m |\n",
      "| \u001b[0m 4       \u001b[0m | \u001b[0m-7.81e-05\u001b[0m | \u001b[0m 0.2228  \u001b[0m |\n",
      "| \u001b[0m 5       \u001b[0m | \u001b[0m 0.7925  \u001b[0m | \u001b[0m 0.01001 \u001b[0m |\n",
      "| \u001b[0m 6       \u001b[0m | \u001b[0m 0.5473  \u001b[0m | \u001b[0m 0.06197 \u001b[0m |\n",
      "| \u001b[0m 7       \u001b[0m | \u001b[0m-7.81e-05\u001b[0m | \u001b[0m 0.4846  \u001b[0m |\n",
      "| \u001b[95m 8       \u001b[0m | \u001b[95m 0.7926  \u001b[0m | \u001b[95m 0.01    \u001b[0m |\n",
      "| \u001b[0m 9       \u001b[0m | \u001b[0m 0.7926  \u001b[0m | \u001b[0m 0.01    \u001b[0m |\n",
      "| \u001b[0m 10      \u001b[0m | \u001b[0m 0.7926  \u001b[0m | \u001b[0m 0.01    \u001b[0m |\n",
      "| \u001b[0m 11      \u001b[0m | \u001b[0m 0.7926  \u001b[0m | \u001b[0m 0.01    \u001b[0m |\n",
      "| \u001b[0m 12      \u001b[0m | \u001b[0m 0.7926  \u001b[0m | \u001b[0m 0.01    \u001b[0m |\n",
      "| \u001b[0m 13      \u001b[0m | \u001b[0m 0.7926  \u001b[0m | \u001b[0m 0.01    \u001b[0m |\n",
      "| \u001b[0m 14      \u001b[0m | \u001b[0m 0.7926  \u001b[0m | \u001b[0m 0.01    \u001b[0m |\n",
      "| \u001b[0m 15      \u001b[0m | \u001b[0m 0.7926  \u001b[0m | \u001b[0m 0.01    \u001b[0m |\n",
      "| \u001b[0m 16      \u001b[0m | \u001b[0m 0.7926  \u001b[0m | \u001b[0m 0.01    \u001b[0m |\n",
      "| \u001b[0m 17      \u001b[0m | \u001b[0m 0.7926  \u001b[0m | \u001b[0m 0.01    \u001b[0m |\n",
      "| \u001b[0m 18      \u001b[0m | \u001b[0m 0.7926  \u001b[0m | \u001b[0m 0.01    \u001b[0m |\n",
      "| \u001b[0m 19      \u001b[0m | \u001b[0m 0.7926  \u001b[0m | \u001b[0m 0.01    \u001b[0m |\n",
      "| \u001b[0m 20      \u001b[0m | \u001b[0m 0.7926  \u001b[0m | \u001b[0m 0.01    \u001b[0m |\n",
      "| \u001b[0m 21      \u001b[0m | \u001b[0m 0.7926  \u001b[0m | \u001b[0m 0.01    \u001b[0m |\n",
      "| \u001b[0m 22      \u001b[0m | \u001b[0m 0.7926  \u001b[0m | \u001b[0m 0.01    \u001b[0m |\n",
      "=====================================\n"
     ]
    }
   ],
   "source": [
    "# Optimize Lasso with TFIDF model\n",
    "def lasso_eval(alpha):\n",
    "    lasso = Lasso(alpha=alpha)\n",
    "    lasso.fit(pca_train,y_train)\n",
    "    \n",
    "    return r2_calculator(lasso.predict(pca_valid),y_valid)\n",
    "    \n",
    "\n",
    "# Instantiate Bayesian Optimization   \n",
    "lassoBO = BayesianOptimization(lasso_eval, {'alpha':(0.01,1)})\n",
    "lassoBO.maximize(n_iter=20, init_points=2)"
   ]
  },
  {
   "cell_type": "code",
   "execution_count": 20,
   "metadata": {},
   "outputs": [
    {
     "data": {
      "text/plain": [
       "Lasso(alpha=0.01)"
      ]
     },
     "execution_count": 20,
     "metadata": {},
     "output_type": "execute_result"
    }
   ],
   "source": [
    "# Fit best models with and without PCA\n",
    "TFIDF_lasso = Lasso(alpha = TFIDF_lassoBO.max['params']['alpha'])\n",
    "TFIDF_lasso.fit(X_TFIDF_train, y_train.ravel())\n",
    "\n",
    "lasso = Lasso(alpha = lassoBO.max['params']['alpha'])\n",
    "lasso.fit(pca_train, y_train.ravel())"
   ]
  },
  {
   "cell_type": "code",
   "execution_count": 21,
   "metadata": {},
   "outputs": [
    {
     "name": "stdout",
     "output_type": "stream",
     "text": [
      "Validation Set\n",
      "R2: 0.7464\n",
      "Adjusted R2: 0.7463\n",
      "MAE: 0.1552\n",
      "RMSE: 0.1849\n"
     ]
    }
   ],
   "source": [
    "print('Validation Set')\n",
    "print('R2: '+str(round(r2_calculator(TFIDF_lasso.predict(X_TFIDF_valid), y_valid),4)))\n",
    "print('Adjusted R2: '+str(round(adjusted_r2_calculator(TFIDF_lasso.predict(X_TFIDF_valid),y_valid),4)))\n",
    "print('MAE: '+ str(round(mae_and_mse_calculator(TFIDF_lasso.predict(X_TFIDF_valid),y_valid)[0],4)))\n",
    "print('RMSE: '+ str(round(mae_and_mse_calculator(TFIDF_lasso.predict(X_TFIDF_valid),y_valid)[1]**0.5,4)))"
   ]
  },
  {
   "cell_type": "code",
   "execution_count": 22,
   "metadata": {},
   "outputs": [
    {
     "name": "stdout",
     "output_type": "stream",
     "text": [
      "Validation Set with PCA\n",
      "R2: 0.7926\n",
      "Adjusted R2: 0.7925\n",
      "MAE: 0.1329\n",
      "RMSE: 0.1673\n"
     ]
    }
   ],
   "source": [
    "print('Validation Set with PCA')\n",
    "print('R2: '+str(round(r2_calculator(lasso.predict(pca_valid), y_valid),4)))\n",
    "print('Adjusted R2: '+str(round(adjusted_r2_calculator(lasso.predict(pca_valid),y_valid),4)))\n",
    "print('MAE: '+ str(round(mae_and_mse_calculator(lasso.predict(pca_valid),y_valid)[0],4)))\n",
    "print('RMSE: '+ str(round(mae_and_mse_calculator(lasso.predict(pca_valid),y_valid)[1]**0.5,4)))"
   ]
  },
  {
   "cell_type": "markdown",
   "metadata": {},
   "source": [
    "### Random Forest Regression <a id='rfr'></a>"
   ]
  },
  {
   "cell_type": "code",
   "execution_count": 23,
   "metadata": {},
   "outputs": [
    {
     "data": {
      "text/plain": [
       "RandomForestRegressor()"
      ]
     },
     "execution_count": 23,
     "metadata": {},
     "output_type": "execute_result"
    }
   ],
   "source": [
    "TFIDF_rfr_model = RandomForestRegressor()\n",
    "TFIDF_rfr_model.fit(X_TFIDF_train, y_train.ravel())\n",
    "\n",
    "rfr_model = RandomForestRegressor()\n",
    "rfr_model.fit(pca_train, y_train.ravel())"
   ]
  },
  {
   "cell_type": "code",
   "execution_count": 24,
   "metadata": {},
   "outputs": [
    {
     "name": "stdout",
     "output_type": "stream",
     "text": [
      "Validation Set\n",
      "R2: 0.9091\n",
      "Adjusted R2: 0.9091\n",
      "MAE: 0.0687\n",
      "RMSE: 0.1107\n"
     ]
    }
   ],
   "source": [
    "print('Validation Set')\n",
    "print('R2: ' + str(round(r2_calculator(TFIDF_rfr_model.predict(X_TFIDF_valid),y_valid),4)))\n",
    "print('Adjusted R2: ' + str(round(adjusted_r2_calculator(TFIDF_rfr_model.predict(X_TFIDF_valid),y_valid),4)))\n",
    "print('MAE: ' + str(round(mae_and_mse_calculator(TFIDF_rfr_model.predict(X_TFIDF_valid),y_valid)[0],4)))\n",
    "print('RMSE: ' + str(round(mae_and_mse_calculator(TFIDF_rfr_model.predict(X_TFIDF_valid),y_valid)[1]**0.5,4)))"
   ]
  },
  {
   "cell_type": "code",
   "execution_count": 25,
   "metadata": {
    "scrolled": true
   },
   "outputs": [
    {
     "name": "stdout",
     "output_type": "stream",
     "text": [
      "Validation Set with PCA\n",
      "R2: 0.9091\n",
      "Adjusted R2: 0.9091\n",
      "MAE: 0.0687\n",
      "RMSE: 0.1107\n"
     ]
    }
   ],
   "source": [
    "print('Validation Set with PCA')\n",
    "print('R2: ' + str(round(r2_calculator(rfr_model.predict(pca_valid),y_valid),4)))\n",
    "print('Adjusted R2: ' + str(round(adjusted_r2_calculator(rfr_model.predict(pca_valid),y_valid),4)))\n",
    "print('MAE: ' + str(round(mae_and_mse_calculator(rfr_model.predict(pca_valid),y_valid)[0],4)))\n",
    "print('RMSE: ' + str(round(mae_and_mse_calculator(rfr_model.predict(pca_valid),y_valid)[1]**0.5,4)))"
   ]
  },
  {
   "cell_type": "markdown",
   "metadata": {},
   "source": [
    "The result is identical even with different model."
   ]
  },
  {
   "cell_type": "markdown",
   "metadata": {},
   "source": [
    "### Light Gradient Boosting Model With Bayesian Optimization <a id='lgbm'></a>"
   ]
  },
  {
   "cell_type": "code",
   "execution_count": 26,
   "metadata": {},
   "outputs": [],
   "source": [
    "def lgbm_eval(lambda_l2,lambda_l1,max_depth,learning_rate,n_estimators):\n",
    "    lgbm_model = LGBMRegressor(lambda_l2 = lambda_l2, lambda_l1 = lambda_l1, \n",
    "                               max_depth = int(round(max_depth,0)),\n",
    "                               learning_rate = learning_rate, \n",
    "                               n_estimators = int(round(n_estimators,0)))\n",
    "    \n",
    "    lgbm_model.fit(pca_train, y_train.ravel())\n",
    "    return r2_calculator(lgbm_model.predict(pca_valid),y_valid)"
   ]
  },
  {
   "cell_type": "code",
   "execution_count": 27,
   "metadata": {},
   "outputs": [
    {
     "name": "stdout",
     "output_type": "stream",
     "text": [
      "|   iter    |  target   | lambda_l1 | lambda_l2 | learni... | max_depth | n_esti... |\n",
      "-------------------------------------------------------------------------------------\n",
      "| \u001b[0m 1       \u001b[0m | \u001b[0m 0.9091  \u001b[0m | \u001b[0m 0.1454  \u001b[0m | \u001b[0m 0.2879  \u001b[0m | \u001b[0m 0.469   \u001b[0m | \u001b[0m 1.65    \u001b[0m | \u001b[0m 108.2   \u001b[0m |\n",
      "| \u001b[0m 2       \u001b[0m | \u001b[0m 0.9091  \u001b[0m | \u001b[0m 0.106   \u001b[0m | \u001b[0m 0.3295  \u001b[0m | \u001b[0m 0.3927  \u001b[0m | \u001b[0m 4.273   \u001b[0m | \u001b[0m 101.7   \u001b[0m |\n",
      "| \u001b[0m 3       \u001b[0m | \u001b[0m 0.9091  \u001b[0m | \u001b[0m 0.006879\u001b[0m | \u001b[0m 0.1733  \u001b[0m | \u001b[0m 0.4625  \u001b[0m | \u001b[0m-0.4839  \u001b[0m | \u001b[0m 174.2   \u001b[0m |\n",
      "| \u001b[95m 4       \u001b[0m | \u001b[95m 0.9091  \u001b[0m | \u001b[95m 0.4807  \u001b[0m | \u001b[95m 0.3549  \u001b[0m | \u001b[95m 0.4336  \u001b[0m | \u001b[95m 1.986   \u001b[0m | \u001b[95m 109.4   \u001b[0m |\n",
      "| \u001b[0m 5       \u001b[0m | \u001b[0m 0.9091  \u001b[0m | \u001b[0m 0.297   \u001b[0m | \u001b[0m 0.1272  \u001b[0m | \u001b[0m 0.1949  \u001b[0m | \u001b[0m-0.9917  \u001b[0m | \u001b[0m 175.6   \u001b[0m |\n",
      "| \u001b[95m 6       \u001b[0m | \u001b[95m 0.9091  \u001b[0m | \u001b[95m 0.3857  \u001b[0m | \u001b[95m 0.3425  \u001b[0m | \u001b[95m 0.4981  \u001b[0m | \u001b[95m 4.704   \u001b[0m | \u001b[95m 161.6   \u001b[0m |\n",
      "| \u001b[0m 7       \u001b[0m | \u001b[0m 0.9071  \u001b[0m | \u001b[0m 0.4451  \u001b[0m | \u001b[0m 0.009344\u001b[0m | \u001b[0m 0.02166 \u001b[0m | \u001b[0m 4.295   \u001b[0m | \u001b[0m 139.1   \u001b[0m |\n",
      "| \u001b[95m 8       \u001b[0m | \u001b[95m 0.9091  \u001b[0m | \u001b[95m 0.4504  \u001b[0m | \u001b[95m 0.2243  \u001b[0m | \u001b[95m 0.2057  \u001b[0m | \u001b[95m 5.505   \u001b[0m | \u001b[95m 65.62   \u001b[0m |\n",
      "| \u001b[0m 9       \u001b[0m | \u001b[0m 0.9091  \u001b[0m | \u001b[0m 0.3701  \u001b[0m | \u001b[0m 0.1825  \u001b[0m | \u001b[0m 0.1444  \u001b[0m | \u001b[0m-0.2648  \u001b[0m | \u001b[0m 36.37   \u001b[0m |\n",
      "| \u001b[0m 10      \u001b[0m | \u001b[0m 0.8497  \u001b[0m | \u001b[0m 0.4633  \u001b[0m | \u001b[0m 0.331   \u001b[0m | \u001b[0m 0.1274  \u001b[0m | \u001b[0m 5.069   \u001b[0m | \u001b[0m 10.08   \u001b[0m |\n",
      "| \u001b[0m 11      \u001b[0m | \u001b[0m 0.9091  \u001b[0m | \u001b[0m 0.0     \u001b[0m | \u001b[0m 0.5     \u001b[0m | \u001b[0m 0.5     \u001b[0m | \u001b[0m 6.0     \u001b[0m | \u001b[0m 200.0   \u001b[0m |\n",
      "| \u001b[0m 12      \u001b[0m | \u001b[0m 0.9091  \u001b[0m | \u001b[0m 0.06517 \u001b[0m | \u001b[0m 0.1809  \u001b[0m | \u001b[0m 0.4596  \u001b[0m | \u001b[0m-0.9252  \u001b[0m | \u001b[0m 51.4    \u001b[0m |\n",
      "| \u001b[0m 13      \u001b[0m | \u001b[0m 0.7345  \u001b[0m | \u001b[0m 0.5     \u001b[0m | \u001b[0m 0.5     \u001b[0m | \u001b[0m 0.01    \u001b[0m | \u001b[0m-1.0     \u001b[0m | \u001b[0m 82.42   \u001b[0m |\n",
      "| \u001b[0m 14      \u001b[0m | \u001b[0m 0.9091  \u001b[0m | \u001b[0m 0.0     \u001b[0m | \u001b[0m 0.5     \u001b[0m | \u001b[0m 0.5     \u001b[0m | \u001b[0m-1.0     \u001b[0m | \u001b[0m 125.9   \u001b[0m |\n",
      "| \u001b[0m 15      \u001b[0m | \u001b[0m 0.9091  \u001b[0m | \u001b[0m 0.3392  \u001b[0m | \u001b[0m 0.4675  \u001b[0m | \u001b[0m 0.1672  \u001b[0m | \u001b[0m 5.888   \u001b[0m | \u001b[0m 186.6   \u001b[0m |\n",
      "| \u001b[0m 16      \u001b[0m | \u001b[0m 0.9091  \u001b[0m | \u001b[0m 0.0     \u001b[0m | \u001b[0m 0.5     \u001b[0m | \u001b[0m 0.5     \u001b[0m | \u001b[0m-1.0     \u001b[0m | \u001b[0m 150.6   \u001b[0m |\n",
      "| \u001b[95m 17      \u001b[0m | \u001b[95m 0.9091  \u001b[0m | \u001b[95m 0.2392  \u001b[0m | \u001b[95m 0.3627  \u001b[0m | \u001b[95m 0.1957  \u001b[0m | \u001b[95m 5.993   \u001b[0m | \u001b[95m 46.39   \u001b[0m |\n",
      "| \u001b[0m 18      \u001b[0m | \u001b[0m 0.9091  \u001b[0m | \u001b[0m 0.4879  \u001b[0m | \u001b[0m 0.488   \u001b[0m | \u001b[0m 0.3079  \u001b[0m | \u001b[0m-0.991   \u001b[0m | \u001b[0m 193.5   \u001b[0m |\n",
      "| \u001b[0m 19      \u001b[0m | \u001b[0m 0.6203  \u001b[0m | \u001b[0m 0.0     \u001b[0m | \u001b[0m 0.0     \u001b[0m | \u001b[0m 0.01    \u001b[0m | \u001b[0m 6.0     \u001b[0m | \u001b[0m 57.34   \u001b[0m |\n",
      "| \u001b[0m 20      \u001b[0m | \u001b[0m 0.9091  \u001b[0m | \u001b[0m 0.173   \u001b[0m | \u001b[0m 0.4111  \u001b[0m | \u001b[0m 0.5     \u001b[0m | \u001b[0m-1.0     \u001b[0m | \u001b[0m 44.36   \u001b[0m |\n",
      "| \u001b[0m 21      \u001b[0m | \u001b[0m 0.9091  \u001b[0m | \u001b[0m 0.01033 \u001b[0m | \u001b[0m 0.1585  \u001b[0m | \u001b[0m 0.3425  \u001b[0m | \u001b[0m 5.939   \u001b[0m | \u001b[0m 39.09   \u001b[0m |\n",
      "| \u001b[0m 22      \u001b[0m | \u001b[0m 0.9091  \u001b[0m | \u001b[0m 0.1656  \u001b[0m | \u001b[0m 0.0183  \u001b[0m | \u001b[0m 0.2443  \u001b[0m | \u001b[0m 5.958   \u001b[0m | \u001b[0m 71.92   \u001b[0m |\n",
      "=====================================================================================\n"
     ]
    }
   ],
   "source": [
    "lgbmBO = BayesianOptimization(lgbm_eval, {'lambda_l2':(0, 0.5),\n",
    "                                          'lambda_l1':(0,0.5),\n",
    "                                          'max_depth':(-1,6),\n",
    "                                          'learning_rate':(0.01,0.5),\n",
    "                                          'n_estimators':(10,200)})\n",
    "\n",
    "lgbmBO.maximize(n_iter=20, init_points=2)"
   ]
  },
  {
   "cell_type": "code",
   "execution_count": 28,
   "metadata": {},
   "outputs": [],
   "source": [
    "def TFIDF_lgbm_eval(lambda_l2,lambda_l1,max_depth,learning_rate,n_estimators):\n",
    "    lgbm_model = LGBMRegressor(lambda_l2 = lambda_l2, lambda_l1 = lambda_l1, \n",
    "                               max_depth = int(round(max_depth,0)),\n",
    "                               learning_rate = learning_rate, \n",
    "                               n_estimators = int(round(n_estimators,0)))\n",
    "    \n",
    "    lgbm_model.fit(X_TFIDF_train, y_train.ravel())\n",
    "    return r2_calculator(lgbm_model.predict(X_TFIDF_valid),y_valid)"
   ]
  },
  {
   "cell_type": "code",
   "execution_count": 29,
   "metadata": {},
   "outputs": [
    {
     "name": "stdout",
     "output_type": "stream",
     "text": [
      "|   iter    |  target   | lambda_l1 | lambda_l2 | learni... | max_depth | n_esti... |\n",
      "-------------------------------------------------------------------------------------\n",
      "| \u001b[0m 1       \u001b[0m | \u001b[0m 0.8702  \u001b[0m | \u001b[0m 0.3884  \u001b[0m | \u001b[0m 0.2732  \u001b[0m | \u001b[0m 0.07349 \u001b[0m | \u001b[0m 0.5105  \u001b[0m | \u001b[0m 93.48   \u001b[0m |\n",
      "| \u001b[95m 2       \u001b[0m | \u001b[95m 0.9091  \u001b[0m | \u001b[95m 0.196   \u001b[0m | \u001b[95m 0.2506  \u001b[0m | \u001b[95m 0.3807  \u001b[0m | \u001b[95m 3.377   \u001b[0m | \u001b[95m 45.87   \u001b[0m |\n",
      "| \u001b[0m 3       \u001b[0m | \u001b[0m 0.7691  \u001b[0m | \u001b[0m 0.2743  \u001b[0m | \u001b[0m 0.1114  \u001b[0m | \u001b[0m 0.02133 \u001b[0m | \u001b[0m 2.794   \u001b[0m | \u001b[0m 46.99   \u001b[0m |\n",
      "| \u001b[95m 4       \u001b[0m | \u001b[95m 0.9091  \u001b[0m | \u001b[95m 0.1096  \u001b[0m | \u001b[95m 0.1629  \u001b[0m | \u001b[95m 0.293   \u001b[0m | \u001b[95m 3.041   \u001b[0m | \u001b[95m 173.2   \u001b[0m |\n",
      "| \u001b[0m 5       \u001b[0m | \u001b[0m 0.9091  \u001b[0m | \u001b[0m 0.3473  \u001b[0m | \u001b[0m 0.086   \u001b[0m | \u001b[0m 0.4945  \u001b[0m | \u001b[0m 1.21    \u001b[0m | \u001b[0m 170.3   \u001b[0m |\n",
      "| \u001b[0m 6       \u001b[0m | \u001b[0m 0.9091  \u001b[0m | \u001b[0m 0.1605  \u001b[0m | \u001b[0m 0.3569  \u001b[0m | \u001b[0m 0.2786  \u001b[0m | \u001b[0m 1.156   \u001b[0m | \u001b[0m 190.9   \u001b[0m |\n",
      "| \u001b[0m 7       \u001b[0m | \u001b[0m 0.9088  \u001b[0m | \u001b[0m 0.3337  \u001b[0m | \u001b[0m 0.1919  \u001b[0m | \u001b[0m 0.05295 \u001b[0m | \u001b[0m 2.79    \u001b[0m | \u001b[0m 165.5   \u001b[0m |\n",
      "| \u001b[0m 8       \u001b[0m | \u001b[0m 0.8955  \u001b[0m | \u001b[0m 0.08018 \u001b[0m | \u001b[0m 0.4626  \u001b[0m | \u001b[0m 0.2297  \u001b[0m | \u001b[0m 1.014   \u001b[0m | \u001b[0m 52.08   \u001b[0m |\n",
      "| \u001b[0m 9       \u001b[0m | \u001b[0m 0.9091  \u001b[0m | \u001b[0m 0.1093  \u001b[0m | \u001b[0m 0.3295  \u001b[0m | \u001b[0m 0.3185  \u001b[0m | \u001b[0m 3.392   \u001b[0m | \u001b[0m 45.66   \u001b[0m |\n",
      "| \u001b[0m 10      \u001b[0m | \u001b[0m 0.9091  \u001b[0m | \u001b[0m 0.1165  \u001b[0m | \u001b[0m 0.3487  \u001b[0m | \u001b[0m 0.4322  \u001b[0m | \u001b[0m 4.52    \u001b[0m | \u001b[0m 46.03   \u001b[0m |\n",
      "| \u001b[0m 11      \u001b[0m | \u001b[0m 0.9091  \u001b[0m | \u001b[0m 0.3703  \u001b[0m | \u001b[0m 0.2297  \u001b[0m | \u001b[0m 0.3142  \u001b[0m | \u001b[0m 4.317   \u001b[0m | \u001b[0m 44.61   \u001b[0m |\n",
      "| \u001b[0m 12      \u001b[0m | \u001b[0m 0.9091  \u001b[0m | \u001b[0m 0.4553  \u001b[0m | \u001b[0m 0.2403  \u001b[0m | \u001b[0m 0.1387  \u001b[0m | \u001b[0m 5.341   \u001b[0m | \u001b[0m 45.02   \u001b[0m |\n",
      "| \u001b[95m 13      \u001b[0m | \u001b[95m 0.9091  \u001b[0m | \u001b[95m 0.0     \u001b[0m | \u001b[95m 0.0     \u001b[0m | \u001b[95m 0.5     \u001b[0m | \u001b[95m 5.327   \u001b[0m | \u001b[95m 43.86   \u001b[0m |\n",
      "| \u001b[0m 14      \u001b[0m | \u001b[0m 0.9091  \u001b[0m | \u001b[0m 0.3745  \u001b[0m | \u001b[0m 0.05293 \u001b[0m | \u001b[0m 0.3108  \u001b[0m | \u001b[0m 1.921   \u001b[0m | \u001b[0m 171.6   \u001b[0m |\n",
      "| \u001b[0m 15      \u001b[0m | \u001b[0m 0.9091  \u001b[0m | \u001b[0m 0.1056  \u001b[0m | \u001b[0m 0.2285  \u001b[0m | \u001b[0m 0.313   \u001b[0m | \u001b[0m 1.563   \u001b[0m | \u001b[0m 172.9   \u001b[0m |\n",
      "| \u001b[0m 16      \u001b[0m | \u001b[0m 0.9091  \u001b[0m | \u001b[0m 0.0     \u001b[0m | \u001b[0m 0.3122  \u001b[0m | \u001b[0m 0.5     \u001b[0m | \u001b[0m 0.6703  \u001b[0m | \u001b[0m 171.6   \u001b[0m |\n",
      "| \u001b[95m 17      \u001b[0m | \u001b[95m 0.9091  \u001b[0m | \u001b[95m 0.2853  \u001b[0m | \u001b[95m 0.3332  \u001b[0m | \u001b[95m 0.4683  \u001b[0m | \u001b[95m 3.219   \u001b[0m | \u001b[95m 172.0   \u001b[0m |\n",
      "| \u001b[0m 18      \u001b[0m | \u001b[0m 0.9091  \u001b[0m | \u001b[0m 0.1329  \u001b[0m | \u001b[0m 0.09076 \u001b[0m | \u001b[0m 0.4135  \u001b[0m | \u001b[0m 2.809   \u001b[0m | \u001b[0m 170.2   \u001b[0m |\n",
      "| \u001b[0m 19      \u001b[0m | \u001b[0m 0.9091  \u001b[0m | \u001b[0m 0.3342  \u001b[0m | \u001b[0m 0.4836  \u001b[0m | \u001b[0m 0.2074  \u001b[0m | \u001b[0m 1.97    \u001b[0m | \u001b[0m 168.9   \u001b[0m |\n",
      "| \u001b[0m 20      \u001b[0m | \u001b[0m 0.9086  \u001b[0m | \u001b[0m 0.02692 \u001b[0m | \u001b[0m 0.1827  \u001b[0m | \u001b[0m 0.1971  \u001b[0m | \u001b[0m 0.5076  \u001b[0m | \u001b[0m 168.8   \u001b[0m |\n",
      "| \u001b[0m 21      \u001b[0m | \u001b[0m 0.9088  \u001b[0m | \u001b[0m 0.139   \u001b[0m | \u001b[0m 0.02558 \u001b[0m | \u001b[0m 0.211   \u001b[0m | \u001b[0m 1.419   \u001b[0m | \u001b[0m 167.6   \u001b[0m |\n",
      "| \u001b[0m 22      \u001b[0m | \u001b[0m 0.9091  \u001b[0m | \u001b[0m 0.2434  \u001b[0m | \u001b[0m 0.212   \u001b[0m | \u001b[0m 0.4864  \u001b[0m | \u001b[0m 2.696   \u001b[0m | \u001b[0m 166.9   \u001b[0m |\n",
      "=====================================================================================\n"
     ]
    }
   ],
   "source": [
    "TFIDF_lgbmBO = BayesianOptimization(TFIDF_lgbm_eval, {'lambda_l2':(0, 0.5),\n",
    "                                          'lambda_l1':(0,0.5),\n",
    "                                          'max_depth':(-1,6),\n",
    "                                          'learning_rate':(0.01,0.5),\n",
    "                                          'n_estimators':(10,200)})\n",
    "\n",
    "TFIDF_lgbmBO.maximize(n_iter=20, init_points=2)"
   ]
  },
  {
   "cell_type": "code",
   "execution_count": 30,
   "metadata": {},
   "outputs": [
    {
     "name": "stdout",
     "output_type": "stream",
     "text": [
      "{'lambda_l1': 0.23919026602832588, 'lambda_l2': 0.3627241902938171, 'learning_rate': 0.19571053687205453, 'max_depth': 5.993480211264609, 'n_estimators': 46.39378407684369}\n",
      "{'lambda_l1': 0.28525283908447346, 'lambda_l2': 0.33317168991051427, 'learning_rate': 0.46829356000044503, 'max_depth': 3.218928149681375, 'n_estimators': 172.0227938688183}\n"
     ]
    }
   ],
   "source": [
    "print(lgbmBO.max['params'])\n",
    "print(TFIDF_lgbmBO.max['params'])"
   ]
  },
  {
   "cell_type": "code",
   "execution_count": 31,
   "metadata": {},
   "outputs": [
    {
     "data": {
      "text/plain": [
       "LGBMRegressor(lambda_l1=0.3627241902938171, lambda_l2=0.23919026602832588,\n",
       "              learning_rate=0.19571053687205453, max_depth=6, n_estimators=46)"
      ]
     },
     "execution_count": 31,
     "metadata": {},
     "output_type": "execute_result"
    }
   ],
   "source": [
    "lgbm_model = LGBMRegressor(lambda_l2 = lgbmBO.max['params']['lambda_l1'],\n",
    "                           lambda_l1 = lgbmBO.max['params']['lambda_l2'],\n",
    "                           max_depth = int(round(lgbmBO.max['params']['max_depth'],0)),\n",
    "                           learning_rate = lgbmBO.max['params']['learning_rate'],\n",
    "                           n_estimators = int(round(lgbmBO.max['params']['n_estimators'],0)))\n",
    "lgbm_model.fit(pca_train, y_train.ravel())"
   ]
  },
  {
   "cell_type": "code",
   "execution_count": 32,
   "metadata": {},
   "outputs": [
    {
     "data": {
      "text/plain": [
       "LGBMRegressor(lambda_l1=0.33317168991051427, lambda_l2=0.28525283908447346,\n",
       "              learning_rate=0.46829356000044503, max_depth=3, n_estimators=172)"
      ]
     },
     "execution_count": 32,
     "metadata": {},
     "output_type": "execute_result"
    }
   ],
   "source": [
    "TFIDF_lgbm_model = LGBMRegressor(lambda_l2 = TFIDF_lgbmBO.max['params']['lambda_l1'],\n",
    "                           lambda_l1 = TFIDF_lgbmBO.max['params']['lambda_l2'],\n",
    "                           max_depth = int(round(TFIDF_lgbmBO.max['params']['max_depth'],0)),\n",
    "                           learning_rate = TFIDF_lgbmBO.max['params']['learning_rate'],\n",
    "                           n_estimators = int(round(TFIDF_lgbmBO.max['params']['n_estimators'],0)))\n",
    "TFIDF_lgbm_model.fit(X_TFIDF_train, y_train.ravel())"
   ]
  },
  {
   "cell_type": "code",
   "execution_count": 33,
   "metadata": {},
   "outputs": [
    {
     "name": "stdout",
     "output_type": "stream",
     "text": [
      "Validation Set\n",
      "R2: 0.9091\n",
      "Adjusted R2: 0.9091\n",
      "MAE: 0.0687\n",
      "RMSE: 0.1107\n"
     ]
    }
   ],
   "source": [
    "print('Validation Set')\n",
    "print('R2: ' + str(round(r2_calculator(TFIDF_lgbm_model.predict(X_TFIDF_valid),y_valid),4)))\n",
    "print('Adjusted R2: ' + str(round(adjusted_r2_calculator(TFIDF_lgbm_model.predict(X_TFIDF_valid),y_valid),4)))\n",
    "print('MAE: ' + str(round(mae_and_mse_calculator(TFIDF_lgbm_model.predict(X_TFIDF_valid),y_valid)[0],4)))\n",
    "print('RMSE: ' + str(round(mae_and_mse_calculator(TFIDF_lgbm_model.predict(X_TFIDF_valid),y_valid)[1]**0.5,4)))"
   ]
  },
  {
   "cell_type": "code",
   "execution_count": 34,
   "metadata": {},
   "outputs": [
    {
     "name": "stdout",
     "output_type": "stream",
     "text": [
      "Validation Set with PCA\n",
      "R2: 0.9091\n",
      "Adjusted R2: 0.9091\n",
      "MAE: 0.0687\n",
      "RMSE: 0.1107\n"
     ]
    }
   ],
   "source": [
    "print('Validation Set with PCA')\n",
    "print('R2: ' + str(round(r2_calculator(lgbm_model.predict(pca_valid),y_valid),4)))\n",
    "print('Adjusted R2: ' + str(round(adjusted_r2_calculator(lgbm_model.predict(pca_valid),y_valid),4)))\n",
    "print('MAE: ' + str(round(mae_and_mse_calculator(lgbm_model.predict(pca_valid),y_valid)[0],4)))\n",
    "print('RMSE: ' + str(round(mae_and_mse_calculator(lgbm_model.predict(pca_valid),y_valid)[1]**0.5,4)))"
   ]
  },
  {
   "cell_type": "markdown",
   "metadata": {},
   "source": [
    "When the hyperparameter search completes, the result indicates that the error is irreducible. Two ways to reduce this error are feature engineering and data wrangling. Besides this, the random forest model is top choice for this problem because this model is more resistant to overfitting. "
   ]
  },
  {
   "cell_type": "code",
   "execution_count": 35,
   "metadata": {},
   "outputs": [
    {
     "name": "stdout",
     "output_type": "stream",
     "text": [
      "Testing Set with PCA\n",
      "R2: 0.9097\n",
      "Adjusted R2: 0.9097\n",
      "MAE: 0.0685\n",
      "RMSE: 0.1106\n"
     ]
    }
   ],
   "source": [
    "print('Testing Set with PCA')\n",
    "print('R2: ' + str(round(r2_calculator(rfr_model.predict(pca_test),y_test),4)))\n",
    "print('Adjusted R2: ' + str(round(adjusted_r2_calculator(rfr_model.predict(pca_test),y_test),4)))\n",
    "print('MAE: ' + str(round(mae_and_mse_calculator(rfr_model.predict(pca_test),y_test)[0],4)))\n",
    "print('RMSE: ' + str(round(mae_and_mse_calculator(rfr_model.predict(pca_test),y_test)[1]**0.5,4)))"
   ]
  },
  {
   "cell_type": "code",
   "execution_count": 36,
   "metadata": {},
   "outputs": [
    {
     "name": "stdout",
     "output_type": "stream",
     "text": [
      "Time taken to run: 140.35292172431946 seconds\n"
     ]
    }
   ],
   "source": [
    "print(f'Time taken to run: {time.time() - start} seconds')"
   ]
  }
 ],
 "metadata": {
  "kernelspec": {
   "display_name": "Python 3",
   "language": "python",
   "name": "python3"
  },
  "language_info": {
   "codemirror_mode": {
    "name": "ipython",
    "version": 3
   },
   "file_extension": ".py",
   "mimetype": "text/x-python",
   "name": "python",
   "nbconvert_exporter": "python",
   "pygments_lexer": "ipython3",
   "version": "3.8.5"
  }
 },
 "nbformat": 4,
 "nbformat_minor": 4
}
