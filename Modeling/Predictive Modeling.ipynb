{
 "cells": [
  {
   "cell_type": "markdown",
   "metadata": {},
   "source": [
    "## Model Selection and Modeling\n",
    "\n",
    "- [Linear Regression: OLS](#lm)\n",
    "- [Random Forest Regression](#rfr)\n",
    "- [Light Gradient Boosting Model With Bayesian Optimization](#lgbm)"
   ]
  },
  {
   "cell_type": "markdown",
   "metadata": {},
   "source": [
    "### Import Necessary Modules and Datasets"
   ]
  },
  {
   "cell_type": "code",
   "execution_count": 1,
   "metadata": {},
   "outputs": [],
   "source": [
    "# Import tools to get datasets\n",
    "from zipfile import ZipFile\n",
    "import urllib\n",
    "import requests\n",
    "import io\n",
    "\n",
    "# Import modules for data reading and plots\n",
    "import pandas as pd\n",
    "import numpy as np\n",
    "import matplotlib.pyplot as plt\n",
    "import seaborn as sns\n",
    "\n",
    "\n",
    "# Import all for model selections and modelling\n",
    "from bayes_opt import BayesianOptimization\n",
    "import statsmodels.api as sm\n",
    "from sklearn.ensemble import RandomForestRegressor, GradientBoostingRegressor\n",
    "from lightgbm import LGBMRegressor\n",
    "import time"
   ]
  },
  {
   "cell_type": "code",
   "execution_count": 2,
   "metadata": {},
   "outputs": [],
   "source": [
    "start = time.time() # Timer starts\n",
    "\n",
    "Xtrainurl = 'https://raw.githubusercontent.com/jonahwinninghoff/Springboard_Capstone_Project/main/Assets/X_train'\n",
    "Xvalidurl = 'https://raw.githubusercontent.com/jonahwinninghoff/Springboard_Capstone_Project/main/Assets/X_valid'\n",
    "Xtestiurl = 'https://raw.githubusercontent.com/jonahwinninghoff/Springboard_Capstone_Project/main/Assets/X_test'\n",
    "\n",
    "ytrainurl = 'https://github.com/jonahwinninghoff/Springboard_Capstone_Project/blob/main/Assets/y_train?raw=true'\n",
    "yvalidurl = 'https://github.com/jonahwinninghoff/Springboard_Capstone_Project/blob/main/Assets/y_valid?raw=true'\n",
    "ytestiurl = 'https://github.com/jonahwinninghoff/Springboard_Capstone_Project/blob/main/Assets/y_test?raw=true'"
   ]
  },
  {
   "cell_type": "code",
   "execution_count": 3,
   "metadata": {},
   "outputs": [],
   "source": [
    "# Read X_train dataset\n",
    "url = urllib.request.urlopen(Xtrainurl)\n",
    "file = io.BytesIO(url.read())\n",
    "X_train = pd.read_csv(file, encoding='cp1252').drop('Unnamed: 0', \n",
    "                                                    axis=1)\n",
    "\n",
    "# Read X_valid dataset\n",
    "url = urllib.request.urlopen(Xvalidurl)\n",
    "file = io.BytesIO(url.read())\n",
    "X_valid = pd.read_csv(file, encoding='cp1252').drop('Unnamed: 0', \n",
    "                                                    axis=1)\n",
    "\n",
    "# Read X_test dataset\n",
    "url = urllib.request.urlopen(Xtestiurl)\n",
    "file = io.BytesIO(url.read())\n",
    "X_test = pd.read_csv(file, encoding='cp1252').drop('Unnamed: 0', \n",
    "                                                    axis=1)"
   ]
  },
  {
   "cell_type": "code",
   "execution_count": 4,
   "metadata": {},
   "outputs": [],
   "source": [
    "# Read y_train dataset\n",
    "response = requests.get(ytrainurl)\n",
    "response.raise_for_status()\n",
    "y_train = np.load(io.BytesIO(response.content))\n",
    "\n",
    "# Read y_valid dataset\n",
    "response = requests.get(yvalidurl)\n",
    "response.raise_for_status()\n",
    "y_valid = np.load(io.BytesIO(response.content))\n",
    "\n",
    "# Read y_test dataset\n",
    "response = requests.get(ytestiurl)\n",
    "response.raise_for_status()\n",
    "y_test = np.load(io.BytesIO(response.content))"
   ]
  },
  {
   "cell_type": "code",
   "execution_count": 5,
   "metadata": {},
   "outputs": [],
   "source": [
    "# Read X_TFIDF_train\n",
    "url = urllib.request.urlopen('https://github.com/jonahwinninghoff/Springboard_Capstone_Project/blob/main/Assets/X_TFIDF_train.zip?raw=true')\n",
    "unzipfile = ZipFile(io.BytesIO(url.read()))\n",
    "file = unzipfile.open(\"X_TFIDF_train\")\n",
    "X_TFIDF_train = pd.read_csv(file, encoding='cp1252').drop('Unnamed: 0', \n",
    "                                                    axis=1)\n",
    "file.close()\n",
    "\n",
    "# Read X_TFIDF_valid\n",
    "url = urllib.request.urlopen('https://github.com/jonahwinninghoff/Springboard_Capstone_Project/blob/main/Assets/X_TFIDF_valid.zip?raw=true')\n",
    "unzipfile = ZipFile(io.BytesIO(url.read()))\n",
    "file = unzipfile.open(\"X_TFIDF_valid\")\n",
    "X_TFIDF_valid = pd.read_csv(file, encoding='cp1252').drop('Unnamed: 0', \n",
    "                                                    axis=1)\n",
    "file.close()\n",
    "\n",
    "# Read X_TFIDF_test\n",
    "url = urllib.request.urlopen('https://github.com/jonahwinninghoff/Springboard_Capstone_Project/blob/main/Assets/X_TFIDF_test.zip?raw=true')\n",
    "unzipfile = ZipFile(io.BytesIO(url.read()))\n",
    "file = unzipfile.open(\"X_TFIDF_test\")\n",
    "X_TFIDF_test = pd.read_csv(file, encoding='cp1252').drop('Unnamed: 0', \n",
    "                                                    axis=1)\n",
    "file.close()"
   ]
  },
  {
   "cell_type": "markdown",
   "metadata": {},
   "source": [
    "### Linear Regression: OLS <a id ='lm'></a>"
   ]
  },
  {
   "cell_type": "code",
   "execution_count": 6,
   "metadata": {},
   "outputs": [
    {
     "data": {
      "text/html": [
       "<table class=\"simpletable\">\n",
       "<caption>OLS Regression Results</caption>\n",
       "<tr>\n",
       "  <th>Dep. Variable:</th>            <td>y</td>        <th>  R-squared:         </th>  <td>   0.909</td> \n",
       "</tr>\n",
       "<tr>\n",
       "  <th>Model:</th>                   <td>OLS</td>       <th>  Adj. R-squared:    </th>  <td>   0.909</td> \n",
       "</tr>\n",
       "<tr>\n",
       "  <th>Method:</th>             <td>Least Squares</td>  <th>  F-statistic:       </th>  <td>8.340e+04</td>\n",
       "</tr>\n",
       "<tr>\n",
       "  <th>Date:</th>             <td>Fri, 03 Sep 2021</td> <th>  Prob (F-statistic):</th>   <td>  0.00</td>  \n",
       "</tr>\n",
       "<tr>\n",
       "  <th>Time:</th>                 <td>13:36:25</td>     <th>  Log-Likelihood:    </th> <td>1.1004e+05</td>\n",
       "</tr>\n",
       "<tr>\n",
       "  <th>No. Observations:</th>      <td>141159</td>      <th>  AIC:               </th> <td>-2.200e+05</td>\n",
       "</tr>\n",
       "<tr>\n",
       "  <th>Df Residuals:</th>          <td>141141</td>      <th>  BIC:               </th> <td>-2.199e+05</td>\n",
       "</tr>\n",
       "<tr>\n",
       "  <th>Df Model:</th>              <td>    17</td>      <th>                     </th>      <td> </td>    \n",
       "</tr>\n",
       "<tr>\n",
       "  <th>Covariance Type:</th>      <td>nonrobust</td>    <th>                     </th>      <td> </td>    \n",
       "</tr>\n",
       "</table>\n",
       "<table class=\"simpletable\">\n",
       "<tr>\n",
       "        <td></td>           <th>coef</th>     <th>std err</th>      <th>t</th>      <th>P>|t|</th>  <th>[0.025</th>    <th>0.975]</th>  \n",
       "</tr>\n",
       "<tr>\n",
       "  <th>const</th>         <td>    6.1332</td> <td>    0.346</td> <td>   17.721</td> <td> 0.000</td> <td>    5.455</td> <td>    6.812</td>\n",
       "</tr>\n",
       "<tr>\n",
       "  <th>ability</th>       <td>-1.745e+10</td> <td> 2.37e+10</td> <td>   -0.737</td> <td> 0.461</td> <td>-6.39e+10</td> <td>  2.9e+10</td>\n",
       "</tr>\n",
       "<tr>\n",
       "  <th>activities</th>    <td>-2.058e+10</td> <td>  5.1e+10</td> <td>   -0.403</td> <td> 0.687</td> <td>-1.21e+11</td> <td> 7.94e+10</td>\n",
       "</tr>\n",
       "<tr>\n",
       "  <th>antianxiety</th>   <td> 4.197e+10</td> <td>    3e+10</td> <td>    1.401</td> <td> 0.161</td> <td>-1.67e+10</td> <td> 1.01e+11</td>\n",
       "</tr>\n",
       "<tr>\n",
       "  <th>antipsychotic</th> <td> 1.241e+10</td> <td> 3.49e+10</td> <td>    0.356</td> <td> 0.722</td> <td> -5.6e+10</td> <td> 8.08e+10</td>\n",
       "</tr>\n",
       "<tr>\n",
       "  <th>appropriately</th> <td>-1.489e+10</td> <td> 2.41e+10</td> <td>   -0.618</td> <td> 0.537</td> <td>-6.22e+10</td> <td> 3.24e+10</td>\n",
       "</tr>\n",
       "<tr>\n",
       "  <th>assessed</th>      <td>-6.569e+09</td> <td> 2.66e+10</td> <td>   -0.247</td> <td> 0.805</td> <td>-5.86e+10</td> <td> 4.55e+10</td>\n",
       "</tr>\n",
       "<tr>\n",
       "  <th>bladder</th>       <td>-5.572e+09</td> <td> 1.39e+11</td> <td>   -0.040</td> <td> 0.968</td> <td>-2.79e+11</td> <td> 2.68e+11</td>\n",
       "</tr>\n",
       "<tr>\n",
       "  <th>bowels</th>        <td> 1.404e+11</td> <td>  7.8e+10</td> <td>    1.799</td> <td> 0.072</td> <td>-1.26e+10</td> <td> 2.93e+11</td>\n",
       "</tr>\n",
       "<tr>\n",
       "  <th>catheter</th>      <td> 3.022e+11</td> <td> 1.09e+11</td> <td>    2.766</td> <td> 0.006</td> <td> 8.81e+10</td> <td> 5.16e+11</td>\n",
       "</tr>\n",
       "<tr>\n",
       "  <th>control</th>       <td> 1.711e+11</td> <td> 9.85e+10</td> <td>    1.736</td> <td> 0.083</td> <td>-2.21e+10</td> <td> 3.64e+11</td>\n",
       "</tr>\n",
       "<tr>\n",
       "  <th>daily</th>         <td> 2.035e+10</td> <td> 1.85e+10</td> <td>    1.102</td> <td> 0.271</td> <td>-1.58e+10</td> <td> 5.65e+10</td>\n",
       "</tr>\n",
       "<tr>\n",
       "  <th>depressive</th>    <td>  4.38e+10</td> <td> 1.02e+11</td> <td>    0.430</td> <td> 0.668</td> <td>-1.56e+11</td> <td> 2.44e+11</td>\n",
       "</tr>\n",
       "<tr>\n",
       "  <th>experiencing</th>  <td> 2.383e+10</td> <td> 3.63e+10</td> <td>    0.657</td> <td> 0.511</td> <td>-4.72e+10</td> <td> 9.49e+10</td>\n",
       "</tr>\n",
       "<tr>\n",
       "  <th>falls</th>         <td>  1.41e+10</td> <td> 3.55e+10</td> <td>    0.397</td> <td> 0.691</td> <td>-5.55e+10</td> <td> 8.37e+10</td>\n",
       "</tr>\n",
       "<tr>\n",
       "  <th>function</th>      <td> 2.847e+10</td> <td> 1.23e+11</td> <td>    0.231</td> <td> 0.818</td> <td>-2.13e+11</td> <td>  2.7e+11</td>\n",
       "</tr>\n",
       "<tr>\n",
       "  <th>given</th>         <td> 2.843e+10</td> <td> 3.48e+10</td> <td>    0.816</td> <td> 0.414</td> <td>-3.98e+10</td> <td> 9.67e+10</td>\n",
       "</tr>\n",
       "<tr>\n",
       "  <th>help</th>          <td>  7.59e+09</td> <td> 1.33e+10</td> <td>    0.569</td> <td> 0.569</td> <td>-1.85e+10</td> <td> 3.37e+10</td>\n",
       "</tr>\n",
       "<tr>\n",
       "  <th>high</th>          <td> 5.732e+11</td> <td> 1.78e+11</td> <td>    3.228</td> <td> 0.001</td> <td> 2.25e+11</td> <td> 9.21e+11</td>\n",
       "</tr>\n",
       "<tr>\n",
       "  <th>hypnotic</th>      <td>-3.124e+10</td> <td> 4.66e+10</td> <td>   -0.670</td> <td> 0.503</td> <td>-1.23e+11</td> <td> 6.02e+10</td>\n",
       "</tr>\n",
       "<tr>\n",
       "  <th>improvements</th>  <td>-1.077e+10</td> <td> 1.16e+11</td> <td>   -0.093</td> <td> 0.926</td> <td>-2.37e+11</td> <td> 2.16e+11</td>\n",
       "</tr>\n",
       "<tr>\n",
       "  <th>increased</th>     <td> 4.964e+09</td> <td> 1.31e+10</td> <td>    0.379</td> <td> 0.705</td> <td>-2.07e+10</td> <td> 3.06e+10</td>\n",
       "</tr>\n",
       "<tr>\n",
       "  <th>independently</th> <td>  1.65e+10</td> <td> 1.28e+10</td> <td>    1.288</td> <td> 0.198</td> <td> -8.6e+09</td> <td> 4.16e+10</td>\n",
       "</tr>\n",
       "<tr>\n",
       "  <th>infection</th>     <td>-2.038e+11</td> <td> 7.43e+10</td> <td>   -2.742</td> <td> 0.006</td> <td>-3.49e+11</td> <td>-5.81e+10</td>\n",
       "</tr>\n",
       "<tr>\n",
       "  <th>influenza</th>     <td>-4.506e+09</td> <td>  2.3e+10</td> <td>   -0.196</td> <td> 0.845</td> <td>-4.96e+10</td> <td> 4.06e+10</td>\n",
       "</tr>\n",
       "<tr>\n",
       "  <th>injury</th>        <td>-9.604e+09</td> <td> 3.24e+10</td> <td>   -0.296</td> <td> 0.767</td> <td>-7.31e+10</td> <td> 5.39e+10</td>\n",
       "</tr>\n",
       "<tr>\n",
       "  <th>inserted</th>      <td>-1.405e+11</td> <td> 6.67e+10</td> <td>   -2.108</td> <td> 0.035</td> <td>-2.71e+11</td> <td>-9.86e+09</td>\n",
       "</tr>\n",
       "<tr>\n",
       "  <th>left</th>          <td>-1.397e+11</td> <td> 6.67e+10</td> <td>   -2.095</td> <td> 0.036</td> <td> -2.7e+11</td> <td>-9.03e+09</td>\n",
       "</tr>\n",
       "<tr>\n",
       "  <th>long</th>          <td>-5.566e+10</td> <td> 3.95e+10</td> <td>   -1.410</td> <td> 0.158</td> <td>-1.33e+11</td> <td> 2.17e+10</td>\n",
       "</tr>\n",
       "<tr>\n",
       "  <th>lose</th>          <td>-3.698e+10</td> <td> 4.61e+10</td> <td>   -0.803</td> <td> 0.422</td> <td>-1.27e+11</td> <td> 5.33e+10</td>\n",
       "</tr>\n",
       "<tr>\n",
       "  <th>low</th>           <td>-7.767e+10</td> <td> 1.01e+11</td> <td>   -0.766</td> <td> 0.444</td> <td>-2.76e+11</td> <td> 1.21e+11</td>\n",
       "</tr>\n",
       "<tr>\n",
       "  <th>major</th>         <td>-1.017e+10</td> <td> 3.35e+10</td> <td>   -0.304</td> <td> 0.761</td> <td>-7.57e+10</td> <td> 5.54e+10</td>\n",
       "</tr>\n",
       "<tr>\n",
       "  <th>medication</th>    <td> 5.234e+09</td> <td> 2.31e+10</td> <td>    0.227</td> <td> 0.821</td> <td>   -4e+10</td> <td> 5.05e+10</td>\n",
       "</tr>\n",
       "<tr>\n",
       "  <th>need</th>          <td> 6.132e+09</td> <td> 1.32e+10</td> <td>    0.466</td> <td> 0.641</td> <td>-1.96e+10</td> <td> 3.19e+10</td>\n",
       "</tr>\n",
       "<tr>\n",
       "  <th>newly</th>         <td>   -2.1122</td> <td>    0.118</td> <td>  -17.968</td> <td> 0.000</td> <td>   -2.343</td> <td>   -1.882</td>\n",
       "</tr>\n",
       "<tr>\n",
       "  <th>physically</th>    <td> 7.887e+09</td> <td> 5.48e+09</td> <td>    1.438</td> <td> 0.150</td> <td>-2.86e+09</td> <td> 1.86e+10</td>\n",
       "</tr>\n",
       "<tr>\n",
       "  <th>pneumococcal</th>  <td>-5.755e+09</td> <td> 4.34e+10</td> <td>   -0.133</td> <td> 0.895</td> <td>-9.09e+10</td> <td> 7.94e+10</td>\n",
       "</tr>\n",
       "<tr>\n",
       "  <th>pressure</th>      <td> -1.87e+11</td> <td> 7.49e+10</td> <td>   -2.498</td> <td> 0.013</td> <td>-3.34e+11</td> <td>-4.03e+10</td>\n",
       "</tr>\n",
       "<tr>\n",
       "  <th>received</th>      <td> 5.234e+09</td> <td> 2.31e+10</td> <td>    0.227</td> <td> 0.821</td> <td>   -4e+10</td> <td> 5.05e+10</td>\n",
       "</tr>\n",
       "<tr>\n",
       "  <th>restrained</th>    <td> 3.474e+09</td> <td> 3.15e+09</td> <td>    1.103</td> <td> 0.270</td> <td> -2.7e+09</td> <td> 9.65e+09</td>\n",
       "</tr>\n",
       "<tr>\n",
       "  <th>risk</th>          <td>-2.211e+11</td> <td> 8.74e+10</td> <td>   -2.529</td> <td> 0.011</td> <td>-3.92e+11</td> <td>-4.98e+10</td>\n",
       "</tr>\n",
       "<tr>\n",
       "  <th>seasonal</th>      <td>-1.251e+09</td> <td> 2.05e+10</td> <td>   -0.061</td> <td> 0.951</td> <td>-4.13e+10</td> <td> 3.88e+10</td>\n",
       "</tr>\n",
       "<tr>\n",
       "  <th>short</th>         <td>-2.777e+10</td> <td> 1.97e+10</td> <td>   -1.410</td> <td> 0.158</td> <td>-6.64e+10</td> <td> 1.08e+10</td>\n",
       "</tr>\n",
       "<tr>\n",
       "  <th>symptoms</th>      <td>-2.648e+10</td> <td> 9.28e+10</td> <td>   -0.285</td> <td> 0.776</td> <td>-2.08e+11</td> <td> 1.56e+11</td>\n",
       "</tr>\n",
       "<tr>\n",
       "  <th>tract</th>         <td> 1.108e+11</td> <td> 3.67e+10</td> <td>    3.020</td> <td> 0.003</td> <td> 3.89e+10</td> <td> 1.83e+11</td>\n",
       "</tr>\n",
       "<tr>\n",
       "  <th>ulcers</th>        <td> -1.87e+11</td> <td> 7.49e+10</td> <td>   -2.498</td> <td> 0.013</td> <td>-3.34e+11</td> <td>-4.03e+10</td>\n",
       "</tr>\n",
       "<tr>\n",
       "  <th>urinary</th>       <td> 1.108e+11</td> <td> 3.67e+10</td> <td>    3.020</td> <td> 0.003</td> <td> 3.89e+10</td> <td> 1.83e+11</td>\n",
       "</tr>\n",
       "<tr>\n",
       "  <th>vaccine</th>       <td> 2.974e+10</td> <td> 3.27e+10</td> <td>    0.911</td> <td> 0.362</td> <td>-3.43e+10</td> <td> 9.37e+10</td>\n",
       "</tr>\n",
       "<tr>\n",
       "  <th>weight</th>        <td> 4.864e+10</td> <td> 4.28e+10</td> <td>    1.137</td> <td> 0.255</td> <td>-3.52e+10</td> <td> 1.32e+11</td>\n",
       "</tr>\n",
       "<tr>\n",
       "  <th>worsened</th>      <td> 1.937e+10</td> <td> 1.26e+10</td> <td>    1.540</td> <td> 0.124</td> <td>-5.28e+09</td> <td>  4.4e+10</td>\n",
       "</tr>\n",
       "</table>\n",
       "<table class=\"simpletable\">\n",
       "<tr>\n",
       "  <th>Omnibus:</th>       <td>39867.364</td> <th>  Durbin-Watson:     </th>  <td>   1.995</td> \n",
       "</tr>\n",
       "<tr>\n",
       "  <th>Prob(Omnibus):</th>  <td> 0.000</td>   <th>  Jarque-Bera (JB):  </th> <td>602595.200</td>\n",
       "</tr>\n",
       "<tr>\n",
       "  <th>Skew:</th>           <td>-0.950</td>   <th>  Prob(JB):          </th>  <td>    0.00</td> \n",
       "</tr>\n",
       "<tr>\n",
       "  <th>Kurtosis:</th>       <td>12.942</td>   <th>  Cond. No.          </th>  <td>5.37e+16</td> \n",
       "</tr>\n",
       "</table><br/><br/>Notes:<br/>[1] Standard Errors assume that the covariance matrix of the errors is correctly specified.<br/>[2] The smallest eigenvalue is 5.55e-29. This might indicate that there are<br/>strong multicollinearity problems or that the design matrix is singular."
      ],
      "text/plain": [
       "<class 'statsmodels.iolib.summary.Summary'>\n",
       "\"\"\"\n",
       "                            OLS Regression Results                            \n",
       "==============================================================================\n",
       "Dep. Variable:                      y   R-squared:                       0.909\n",
       "Model:                            OLS   Adj. R-squared:                  0.909\n",
       "Method:                 Least Squares   F-statistic:                 8.340e+04\n",
       "Date:                Fri, 03 Sep 2021   Prob (F-statistic):               0.00\n",
       "Time:                        13:36:25   Log-Likelihood:             1.1004e+05\n",
       "No. Observations:              141159   AIC:                        -2.200e+05\n",
       "Df Residuals:                  141141   BIC:                        -2.199e+05\n",
       "Df Model:                          17                                         \n",
       "Covariance Type:            nonrobust                                         \n",
       "=================================================================================\n",
       "                    coef    std err          t      P>|t|      [0.025      0.975]\n",
       "---------------------------------------------------------------------------------\n",
       "const             6.1332      0.346     17.721      0.000       5.455       6.812\n",
       "ability       -1.745e+10   2.37e+10     -0.737      0.461   -6.39e+10     2.9e+10\n",
       "activities    -2.058e+10    5.1e+10     -0.403      0.687   -1.21e+11    7.94e+10\n",
       "antianxiety    4.197e+10      3e+10      1.401      0.161   -1.67e+10    1.01e+11\n",
       "antipsychotic  1.241e+10   3.49e+10      0.356      0.722    -5.6e+10    8.08e+10\n",
       "appropriately -1.489e+10   2.41e+10     -0.618      0.537   -6.22e+10    3.24e+10\n",
       "assessed      -6.569e+09   2.66e+10     -0.247      0.805   -5.86e+10    4.55e+10\n",
       "bladder       -5.572e+09   1.39e+11     -0.040      0.968   -2.79e+11    2.68e+11\n",
       "bowels         1.404e+11    7.8e+10      1.799      0.072   -1.26e+10    2.93e+11\n",
       "catheter       3.022e+11   1.09e+11      2.766      0.006    8.81e+10    5.16e+11\n",
       "control        1.711e+11   9.85e+10      1.736      0.083   -2.21e+10    3.64e+11\n",
       "daily          2.035e+10   1.85e+10      1.102      0.271   -1.58e+10    5.65e+10\n",
       "depressive      4.38e+10   1.02e+11      0.430      0.668   -1.56e+11    2.44e+11\n",
       "experiencing   2.383e+10   3.63e+10      0.657      0.511   -4.72e+10    9.49e+10\n",
       "falls           1.41e+10   3.55e+10      0.397      0.691   -5.55e+10    8.37e+10\n",
       "function       2.847e+10   1.23e+11      0.231      0.818   -2.13e+11     2.7e+11\n",
       "given          2.843e+10   3.48e+10      0.816      0.414   -3.98e+10    9.67e+10\n",
       "help            7.59e+09   1.33e+10      0.569      0.569   -1.85e+10    3.37e+10\n",
       "high           5.732e+11   1.78e+11      3.228      0.001    2.25e+11    9.21e+11\n",
       "hypnotic      -3.124e+10   4.66e+10     -0.670      0.503   -1.23e+11    6.02e+10\n",
       "improvements  -1.077e+10   1.16e+11     -0.093      0.926   -2.37e+11    2.16e+11\n",
       "increased      4.964e+09   1.31e+10      0.379      0.705   -2.07e+10    3.06e+10\n",
       "independently   1.65e+10   1.28e+10      1.288      0.198    -8.6e+09    4.16e+10\n",
       "infection     -2.038e+11   7.43e+10     -2.742      0.006   -3.49e+11   -5.81e+10\n",
       "influenza     -4.506e+09    2.3e+10     -0.196      0.845   -4.96e+10    4.06e+10\n",
       "injury        -9.604e+09   3.24e+10     -0.296      0.767   -7.31e+10    5.39e+10\n",
       "inserted      -1.405e+11   6.67e+10     -2.108      0.035   -2.71e+11   -9.86e+09\n",
       "left          -1.397e+11   6.67e+10     -2.095      0.036    -2.7e+11   -9.03e+09\n",
       "long          -5.566e+10   3.95e+10     -1.410      0.158   -1.33e+11    2.17e+10\n",
       "lose          -3.698e+10   4.61e+10     -0.803      0.422   -1.27e+11    5.33e+10\n",
       "low           -7.767e+10   1.01e+11     -0.766      0.444   -2.76e+11    1.21e+11\n",
       "major         -1.017e+10   3.35e+10     -0.304      0.761   -7.57e+10    5.54e+10\n",
       "medication     5.234e+09   2.31e+10      0.227      0.821      -4e+10    5.05e+10\n",
       "need           6.132e+09   1.32e+10      0.466      0.641   -1.96e+10    3.19e+10\n",
       "newly            -2.1122      0.118    -17.968      0.000      -2.343      -1.882\n",
       "physically     7.887e+09   5.48e+09      1.438      0.150   -2.86e+09    1.86e+10\n",
       "pneumococcal  -5.755e+09   4.34e+10     -0.133      0.895   -9.09e+10    7.94e+10\n",
       "pressure       -1.87e+11   7.49e+10     -2.498      0.013   -3.34e+11   -4.03e+10\n",
       "received       5.234e+09   2.31e+10      0.227      0.821      -4e+10    5.05e+10\n",
       "restrained     3.474e+09   3.15e+09      1.103      0.270    -2.7e+09    9.65e+09\n",
       "risk          -2.211e+11   8.74e+10     -2.529      0.011   -3.92e+11   -4.98e+10\n",
       "seasonal      -1.251e+09   2.05e+10     -0.061      0.951   -4.13e+10    3.88e+10\n",
       "short         -2.777e+10   1.97e+10     -1.410      0.158   -6.64e+10    1.08e+10\n",
       "symptoms      -2.648e+10   9.28e+10     -0.285      0.776   -2.08e+11    1.56e+11\n",
       "tract          1.108e+11   3.67e+10      3.020      0.003    3.89e+10    1.83e+11\n",
       "ulcers         -1.87e+11   7.49e+10     -2.498      0.013   -3.34e+11   -4.03e+10\n",
       "urinary        1.108e+11   3.67e+10      3.020      0.003    3.89e+10    1.83e+11\n",
       "vaccine        2.974e+10   3.27e+10      0.911      0.362   -3.43e+10    9.37e+10\n",
       "weight         4.864e+10   4.28e+10      1.137      0.255   -3.52e+10    1.32e+11\n",
       "worsened       1.937e+10   1.26e+10      1.540      0.124   -5.28e+09     4.4e+10\n",
       "==============================================================================\n",
       "Omnibus:                    39867.364   Durbin-Watson:                   1.995\n",
       "Prob(Omnibus):                  0.000   Jarque-Bera (JB):           602595.200\n",
       "Skew:                          -0.950   Prob(JB):                         0.00\n",
       "Kurtosis:                      12.942   Cond. No.                     5.37e+16\n",
       "==============================================================================\n",
       "\n",
       "Notes:\n",
       "[1] Standard Errors assume that the covariance matrix of the errors is correctly specified.\n",
       "[2] The smallest eigenvalue is 5.55e-29. This might indicate that there are\n",
       "strong multicollinearity problems or that the design matrix is singular.\n",
       "\"\"\""
      ]
     },
     "metadata": {},
     "output_type": "display_data"
    }
   ],
   "source": [
    "X_TFIDF_train_wconstant = sm.add_constant(X_TFIDF_train)\n",
    "model = sm.OLS(y_train,X_TFIDF_train_wconstant)\n",
    "TFIDF_fitted_lm = model.fit()\n",
    "\n",
    "display(TFIDF_fitted_lm.summary())"
   ]
  },
  {
   "cell_type": "code",
   "execution_count": 7,
   "metadata": {},
   "outputs": [
    {
     "data": {
      "text/html": [
       "<table class=\"simpletable\">\n",
       "<caption>OLS Regression Results</caption>\n",
       "<tr>\n",
       "  <th>Dep. Variable:</th>            <td>y</td>        <th>  R-squared:         </th>  <td>   0.696</td> \n",
       "</tr>\n",
       "<tr>\n",
       "  <th>Model:</th>                   <td>OLS</td>       <th>  Adj. R-squared:    </th>  <td>   0.696</td> \n",
       "</tr>\n",
       "<tr>\n",
       "  <th>Method:</th>             <td>Least Squares</td>  <th>  F-statistic:       </th>  <td>6.464e+04</td>\n",
       "</tr>\n",
       "<tr>\n",
       "  <th>Date:</th>             <td>Fri, 03 Sep 2021</td> <th>  Prob (F-statistic):</th>   <td>  0.00</td>  \n",
       "</tr>\n",
       "<tr>\n",
       "  <th>Time:</th>                 <td>13:36:25</td>     <th>  Log-Likelihood:    </th>  <td>  24551.</td> \n",
       "</tr>\n",
       "<tr>\n",
       "  <th>No. Observations:</th>      <td>141159</td>      <th>  AIC:               </th> <td>-4.909e+04</td>\n",
       "</tr>\n",
       "<tr>\n",
       "  <th>Df Residuals:</th>          <td>141153</td>      <th>  BIC:               </th> <td>-4.903e+04</td>\n",
       "</tr>\n",
       "<tr>\n",
       "  <th>Df Model:</th>              <td>     5</td>      <th>                     </th>      <td> </td>    \n",
       "</tr>\n",
       "<tr>\n",
       "  <th>Covariance Type:</th>      <td>nonrobust</td>    <th>                     </th>      <td> </td>    \n",
       "</tr>\n",
       "</table>\n",
       "<table class=\"simpletable\">\n",
       "<tr>\n",
       "         <td></td>           <th>coef</th>     <th>std err</th>      <th>t</th>      <th>P>|t|</th>  <th>[0.025</th>    <th>0.975]</th>  \n",
       "</tr>\n",
       "<tr>\n",
       "  <th>const</th>          <td>    0.1596</td> <td>    0.007</td> <td>   23.924</td> <td> 0.000</td> <td>    0.146</td> <td>    0.173</td>\n",
       "</tr>\n",
       "<tr>\n",
       "  <th>cosine median</th>  <td>   -0.0452</td> <td>    0.002</td> <td>  -19.139</td> <td> 0.000</td> <td>   -0.050</td> <td>   -0.041</td>\n",
       "</tr>\n",
       "<tr>\n",
       "  <th>cosine mean</th>    <td>    0.7183</td> <td>    0.015</td> <td>   47.088</td> <td> 0.000</td> <td>    0.688</td> <td>    0.748</td>\n",
       "</tr>\n",
       "<tr>\n",
       "  <th>cosine minimum</th> <td>   -0.1735</td> <td>    0.009</td> <td>  -20.246</td> <td> 0.000</td> <td>   -0.190</td> <td>   -0.157</td>\n",
       "</tr>\n",
       "<tr>\n",
       "  <th>cosine maximum</th> <td>    0.6937</td> <td>    0.003</td> <td>  198.503</td> <td> 0.000</td> <td>    0.687</td> <td>    0.701</td>\n",
       "</tr>\n",
       "<tr>\n",
       "  <th>cosine std</th>     <td>   -0.6243</td> <td>    0.035</td> <td>  -18.031</td> <td> 0.000</td> <td>   -0.692</td> <td>   -0.556</td>\n",
       "</tr>\n",
       "</table>\n",
       "<table class=\"simpletable\">\n",
       "<tr>\n",
       "  <th>Omnibus:</th>       <td>16213.742</td> <th>  Durbin-Watson:     </th> <td>   1.995</td> \n",
       "</tr>\n",
       "<tr>\n",
       "  <th>Prob(Omnibus):</th>  <td> 0.000</td>   <th>  Jarque-Bera (JB):  </th> <td>28286.985</td>\n",
       "</tr>\n",
       "<tr>\n",
       "  <th>Skew:</th>           <td> 0.786</td>   <th>  Prob(JB):          </th> <td>    0.00</td> \n",
       "</tr>\n",
       "<tr>\n",
       "  <th>Kurtosis:</th>       <td> 4.530</td>   <th>  Cond. No.          </th> <td>    80.1</td> \n",
       "</tr>\n",
       "</table><br/><br/>Notes:<br/>[1] Standard Errors assume that the covariance matrix of the errors is correctly specified."
      ],
      "text/plain": [
       "<class 'statsmodels.iolib.summary.Summary'>\n",
       "\"\"\"\n",
       "                            OLS Regression Results                            \n",
       "==============================================================================\n",
       "Dep. Variable:                      y   R-squared:                       0.696\n",
       "Model:                            OLS   Adj. R-squared:                  0.696\n",
       "Method:                 Least Squares   F-statistic:                 6.464e+04\n",
       "Date:                Fri, 03 Sep 2021   Prob (F-statistic):               0.00\n",
       "Time:                        13:36:25   Log-Likelihood:                 24551.\n",
       "No. Observations:              141159   AIC:                        -4.909e+04\n",
       "Df Residuals:                  141153   BIC:                        -4.903e+04\n",
       "Df Model:                           5                                         \n",
       "Covariance Type:            nonrobust                                         \n",
       "==================================================================================\n",
       "                     coef    std err          t      P>|t|      [0.025      0.975]\n",
       "----------------------------------------------------------------------------------\n",
       "const              0.1596      0.007     23.924      0.000       0.146       0.173\n",
       "cosine median     -0.0452      0.002    -19.139      0.000      -0.050      -0.041\n",
       "cosine mean        0.7183      0.015     47.088      0.000       0.688       0.748\n",
       "cosine minimum    -0.1735      0.009    -20.246      0.000      -0.190      -0.157\n",
       "cosine maximum     0.6937      0.003    198.503      0.000       0.687       0.701\n",
       "cosine std        -0.6243      0.035    -18.031      0.000      -0.692      -0.556\n",
       "==============================================================================\n",
       "Omnibus:                    16213.742   Durbin-Watson:                   1.995\n",
       "Prob(Omnibus):                  0.000   Jarque-Bera (JB):            28286.985\n",
       "Skew:                           0.786   Prob(JB):                         0.00\n",
       "Kurtosis:                       4.530   Cond. No.                         80.1\n",
       "==============================================================================\n",
       "\n",
       "Notes:\n",
       "[1] Standard Errors assume that the covariance matrix of the errors is correctly specified.\n",
       "\"\"\""
      ]
     },
     "metadata": {},
     "output_type": "display_data"
    }
   ],
   "source": [
    "X_train_wconstant = sm.add_constant(X_train)\n",
    "model = sm.OLS(y_train,X_train_wconstant)\n",
    "fitted_lm = model.fit()\n",
    "\n",
    "display(fitted_lm.summary())"
   ]
  },
  {
   "cell_type": "markdown",
   "metadata": {},
   "source": [
    "The OLS with TFIDF vectorization shows that a few variables are statistically significant at two-sided 5% alpha level. The Akaike and Bayesian Information Criterions (AIC and BIC) are −0.98 and −0.977. The R-squared score is 90.9%. The adjusted R-squared score shows that the number of parameters has little impact on the percentage of the target variable variation that this model explains. When the number of features reduces using cosine similarities, each variable is satistically significant at two-sided 1% alpha level, and AIC and BIC are lower. However, the R-squared score is 69.9, and the adjusted R-squared score is same. \n",
    "\n",
    "The kurtosis score lowers but it is still leptokurtotic. The skewness for OLS with TFIDF vectorization is extremely negative. When the cosine similarites are applied, the skewness shifts to postive or right skewness."
   ]
  },
  {
   "cell_type": "code",
   "execution_count": 8,
   "metadata": {},
   "outputs": [],
   "source": [
    "X_valid_wconstant = sm.add_constant(X_valid)\n",
    "y_predicted = fitted_lm.predict(X_valid_wconstant)\n",
    "\n",
    "X_TFIDF_valid_wconstant = sm.add_constant(X_TFIDF_valid)\n",
    "y_TFIDF_predicted = TFIDF_fitted_lm.predict(X_TFIDF_valid_wconstant)"
   ]
  },
  {
   "cell_type": "code",
   "execution_count": 9,
   "metadata": {},
   "outputs": [],
   "source": [
    "def r2_calculator(predict, true):\n",
    "    merged = pd.concat([pd.DataFrame(list(predict)).rename(columns={0:'predicted'}), \n",
    "           pd.DataFrame(list(true)).rename(columns={0:'true'})],axis=1)\n",
    "    \n",
    "    # 1 - (predict - true)^2/(true - mean(true))^2 = 1 - RSS/TSS = r_2\n",
    "    r2 = 1 - sum((merged['predicted'] - merged['true'])**2)/sum((merged['true'] - np.mean(merged['true']))**2)\n",
    "    \n",
    "    return r2\n",
    "\n",
    "def adjusted_r2_calculator(predict, true):\n",
    "    r2 = r2_calculator(predict, true) # r_2\n",
    "    n = len(true)                     # number of rows\n",
    "    k = len(fitted_lm.params)         # number of parameters\n",
    "    \n",
    "    adj_r2 = 1 - ((1-r2)*(n-1))/(n-k-1)    # 1 - [(1 - r_2)*(n - 1)/(n - k - 1)] = adjusted r^2\n",
    "    \n",
    "    return adj_r2\n",
    "\n",
    "def mae_and_mse_calculator(predict, true):\n",
    "    merged = pd.concat([pd.DataFrame(list(predict)).rename(columns={0:'predicted'}), \n",
    "           pd.DataFrame(list(true)).rename(columns={0:'true'})],axis=1)\n",
    "    mae = sum(np.abs(merged['true'] - merged['predicted']))/len(true) # 1/n ∑ |true - predict|   = MAE\n",
    "    mse = sum((merged['true'] - merged['predicted'])**2)/len(true)    # 1/n ∑ (true - predict)^2 = MSE\n",
    "    \n",
    "    return mae, mse"
   ]
  },
  {
   "cell_type": "code",
   "execution_count": 10,
   "metadata": {},
   "outputs": [
    {
     "name": "stdout",
     "output_type": "stream",
     "text": [
      "TFIDF Validation Set\n",
      "R2: 0.9091\n",
      "Adjusted R2: 0.9091\n",
      "MAE: 0.0687\n",
      "RMSE: 0.1108\n"
     ]
    }
   ],
   "source": [
    "print('TFIDF Validation Set')\n",
    "print('R2: '+str(round(r2_calculator(y_TFIDF_predicted, y_valid),4)))\n",
    "print('Adjusted R2: '+str(round(adjusted_r2_calculator(y_TFIDF_predicted,y_valid),4)))\n",
    "print('MAE: '+ str(round(mae_and_mse_calculator(y_TFIDF_predicted,y_valid)[0],4)))\n",
    "print('RMSE: '+ str(round(mae_and_mse_calculator(y_TFIDF_predicted,y_valid)[1]**0.5,4)))"
   ]
  },
  {
   "cell_type": "code",
   "execution_count": 11,
   "metadata": {},
   "outputs": [
    {
     "name": "stdout",
     "output_type": "stream",
     "text": [
      "Cos Similarity Validation Set\n",
      "R2: 0.6928\n",
      "Adjusted R2: 0.6928\n",
      "MAE: 0.1531\n",
      "RMSE: 0.2036\n"
     ]
    }
   ],
   "source": [
    "print('Cos Similarity Validation Set')\n",
    "print('R2: '+str(round(r2_calculator(y_predicted, y_valid),4)))\n",
    "print('Adjusted R2: '+str(round(adjusted_r2_calculator(y_predicted,y_valid),4)))\n",
    "print('MAE: '+ str(round(mae_and_mse_calculator(y_predicted,y_valid)[0],4)))\n",
    "print('RMSE: '+ str(round(mae_and_mse_calculator(y_predicted,y_valid)[1]**0.5,4)))"
   ]
  },
  {
   "cell_type": "markdown",
   "metadata": {},
   "source": [
    "When the model with TFIDF vectorization is being generalized using validation set, it is already at highest accuracy and lowest loss. The model with cosine similarities still performs well when it generalizes. The problem with TFIDF vectorization is that the number of parameters is too wide."
   ]
  },
  {
   "cell_type": "markdown",
   "metadata": {},
   "source": [
    "## Random Forest Regression <a id='rfr'></a>"
   ]
  },
  {
   "cell_type": "code",
   "execution_count": 12,
   "metadata": {},
   "outputs": [
    {
     "data": {
      "text/plain": [
       "RandomForestRegressor()"
      ]
     },
     "execution_count": 12,
     "metadata": {},
     "output_type": "execute_result"
    }
   ],
   "source": [
    "TFIDF_rfr_model = RandomForestRegressor()\n",
    "TFIDF_rfr_model.fit(X_TFIDF_train, y_train.ravel())\n",
    "\n",
    "rfr_model = RandomForestRegressor()\n",
    "rfr_model.fit(X_train, y_train.ravel())"
   ]
  },
  {
   "cell_type": "code",
   "execution_count": 13,
   "metadata": {},
   "outputs": [
    {
     "name": "stdout",
     "output_type": "stream",
     "text": [
      "TFIDF Similarity Validation Set\n",
      "R2: 0.9091\n",
      "Adjusted R2: 0.9091\n",
      "MAE: 0.0687\n",
      "RMSE: 0.1107\n"
     ]
    }
   ],
   "source": [
    "print('TFIDF Similarity Validation Set')\n",
    "print('R2: ' + str(round(r2_calculator(TFIDF_rfr_model.predict(X_TFIDF_valid),y_valid),4)))\n",
    "print('Adjusted R2: ' + str(round(adjusted_r2_calculator(TFIDF_rfr_model.predict(X_TFIDF_valid),y_valid),4)))\n",
    "print('MAE: ' + str(round(mae_and_mse_calculator(TFIDF_rfr_model.predict(X_TFIDF_valid),y_valid)[0],4)))\n",
    "print('RMSE: ' + str(round(mae_and_mse_calculator(TFIDF_rfr_model.predict(X_TFIDF_valid),y_valid)[1]**0.5,4)))"
   ]
  },
  {
   "cell_type": "code",
   "execution_count": 14,
   "metadata": {
    "scrolled": true
   },
   "outputs": [
    {
     "name": "stdout",
     "output_type": "stream",
     "text": [
      "Cos Similarity Validation Set\n",
      "R2: 0.9091\n",
      "Adjusted R2: 0.9091\n",
      "MAE: 0.0687\n",
      "RMSE: 0.1107\n"
     ]
    }
   ],
   "source": [
    "print('Cos Similarity Validation Set')\n",
    "print('R2: ' + str(round(r2_calculator(rfr_model.predict(X_valid),y_valid),4)))\n",
    "print('Adjusted R2: ' + str(round(adjusted_r2_calculator(rfr_model.predict(X_valid),y_valid),4)))\n",
    "print('MAE: ' + str(round(mae_and_mse_calculator(rfr_model.predict(X_valid),y_valid)[0],4)))\n",
    "print('RMSE: ' + str(round(mae_and_mse_calculator(rfr_model.predict(X_valid),y_valid)[1]**0.5,4)))"
   ]
  },
  {
   "cell_type": "markdown",
   "metadata": {},
   "source": [
    "As a result, the random forest regressor proves to be capable of performing the model at highest level even if the number of parameters reduce using cosine similarities. "
   ]
  },
  {
   "cell_type": "markdown",
   "metadata": {},
   "source": [
    "## Light Gradient Boosting Model With Bayesian Optimization <a id='lgbm'></a>"
   ]
  },
  {
   "cell_type": "code",
   "execution_count": 15,
   "metadata": {},
   "outputs": [],
   "source": [
    "def lgbm_eval(lambda_l2,lambda_l1,max_depth,learning_rate,n_estimators):\n",
    "    lgbm_model = LGBMRegressor(lambda_l2 = lambda_l2, lambda_l1 = lambda_l1, \n",
    "                               max_depth = int(round(max_depth,0)),\n",
    "                               learning_rate = learning_rate, \n",
    "                               n_estimators = int(round(n_estimators,0)))\n",
    "    \n",
    "    lgbm_model.fit(X_train, y_train.ravel())\n",
    "    return r2_calculator(lgbm_model.predict(X_valid),y_valid)"
   ]
  },
  {
   "cell_type": "code",
   "execution_count": 16,
   "metadata": {},
   "outputs": [
    {
     "name": "stdout",
     "output_type": "stream",
     "text": [
      "|   iter    |  target   | lambda_l1 | lambda_l2 | learni... | max_depth | n_esti... |\n",
      "-------------------------------------------------------------------------------------\n",
      "| \u001b[0m 1       \u001b[0m | \u001b[0m 0.9091  \u001b[0m | \u001b[0m 0.09487 \u001b[0m | \u001b[0m 0.1745  \u001b[0m | \u001b[0m 0.2014  \u001b[0m | \u001b[0m-0.8501  \u001b[0m | \u001b[0m 80.65   \u001b[0m |\n",
      "| \u001b[0m 2       \u001b[0m | \u001b[0m 0.9091  \u001b[0m | \u001b[0m 0.3941  \u001b[0m | \u001b[0m 0.1887  \u001b[0m | \u001b[0m 0.1184  \u001b[0m | \u001b[0m 2.559   \u001b[0m | \u001b[0m 104.9   \u001b[0m |\n",
      "| \u001b[0m 3       \u001b[0m | \u001b[0m 0.9091  \u001b[0m | \u001b[0m 0.001538\u001b[0m | \u001b[0m 0.2456  \u001b[0m | \u001b[0m 0.4179  \u001b[0m | \u001b[0m 0.2545  \u001b[0m | \u001b[0m 80.02   \u001b[0m |\n",
      "| \u001b[95m 4       \u001b[0m | \u001b[95m 0.9091  \u001b[0m | \u001b[95m 0.2373  \u001b[0m | \u001b[95m 0.1865  \u001b[0m | \u001b[95m 0.3677  \u001b[0m | \u001b[95m 4.104   \u001b[0m | \u001b[95m 197.4   \u001b[0m |\n",
      "| \u001b[95m 5       \u001b[0m | \u001b[95m 0.9091  \u001b[0m | \u001b[95m 0.05774 \u001b[0m | \u001b[95m 0.07863 \u001b[0m | \u001b[95m 0.1766  \u001b[0m | \u001b[95m 4.936   \u001b[0m | \u001b[95m 44.38   \u001b[0m |\n",
      "| \u001b[95m 6       \u001b[0m | \u001b[95m 0.9091  \u001b[0m | \u001b[95m 0.3401  \u001b[0m | \u001b[95m 0.1508  \u001b[0m | \u001b[95m 0.1808  \u001b[0m | \u001b[95m 4.572   \u001b[0m | \u001b[95m 39.32   \u001b[0m |\n",
      "| \u001b[0m 7       \u001b[0m | \u001b[0m 0.9087  \u001b[0m | \u001b[0m 0.281   \u001b[0m | \u001b[0m 0.4214  \u001b[0m | \u001b[0m 0.1559  \u001b[0m | \u001b[0m 3.108   \u001b[0m | \u001b[0m 33.88   \u001b[0m |\n",
      "| \u001b[0m 8       \u001b[0m | \u001b[0m 0.9091  \u001b[0m | \u001b[0m 0.3007  \u001b[0m | \u001b[0m 0.1272  \u001b[0m | \u001b[0m 0.185   \u001b[0m | \u001b[0m-0.5646  \u001b[0m | \u001b[0m 43.37   \u001b[0m |\n",
      "| \u001b[0m 9       \u001b[0m | \u001b[0m 0.9091  \u001b[0m | \u001b[0m 0.1609  \u001b[0m | \u001b[0m 0.3068  \u001b[0m | \u001b[0m 0.2906  \u001b[0m | \u001b[0m 0.1803  \u001b[0m | \u001b[0m 49.78   \u001b[0m |\n",
      "| \u001b[0m 10      \u001b[0m | \u001b[0m 0.9091  \u001b[0m | \u001b[0m 0.4575  \u001b[0m | \u001b[0m 0.487   \u001b[0m | \u001b[0m 0.1221  \u001b[0m | \u001b[0m 3.341   \u001b[0m | \u001b[0m 85.74   \u001b[0m |\n",
      "| \u001b[0m 11      \u001b[0m | \u001b[0m 0.9091  \u001b[0m | \u001b[0m 0.4527  \u001b[0m | \u001b[0m 0.02913 \u001b[0m | \u001b[0m 0.1615  \u001b[0m | \u001b[0m 2.905   \u001b[0m | \u001b[0m 98.24   \u001b[0m |\n",
      "| \u001b[0m 12      \u001b[0m | \u001b[0m 0.9091  \u001b[0m | \u001b[0m 0.3536  \u001b[0m | \u001b[0m 0.006627\u001b[0m | \u001b[0m 0.09956 \u001b[0m | \u001b[0m 0.003525\u001b[0m | \u001b[0m 92.03   \u001b[0m |\n",
      "| \u001b[0m 13      \u001b[0m | \u001b[0m 0.9091  \u001b[0m | \u001b[0m 0.2143  \u001b[0m | \u001b[0m 0.2407  \u001b[0m | \u001b[0m 0.3727  \u001b[0m | \u001b[0m 5.951   \u001b[0m | \u001b[0m 91.94   \u001b[0m |\n",
      "| \u001b[0m 14      \u001b[0m | \u001b[0m 0.9091  \u001b[0m | \u001b[0m 0.3832  \u001b[0m | \u001b[0m 0.3609  \u001b[0m | \u001b[0m 0.3779  \u001b[0m | \u001b[0m 5.992   \u001b[0m | \u001b[0m 190.8   \u001b[0m |\n",
      "| \u001b[0m 15      \u001b[0m | \u001b[0m 0.9091  \u001b[0m | \u001b[0m 0.4912  \u001b[0m | \u001b[0m 0.2792  \u001b[0m | \u001b[0m 0.07906 \u001b[0m | \u001b[0m-0.5184  \u001b[0m | \u001b[0m 192.8   \u001b[0m |\n",
      "| \u001b[0m 16      \u001b[0m | \u001b[0m 0.9089  \u001b[0m | \u001b[0m 0.2865  \u001b[0m | \u001b[0m 0.004412\u001b[0m | \u001b[0m 0.3621  \u001b[0m | \u001b[0m 0.9659  \u001b[0m | \u001b[0m 186.0   \u001b[0m |\n",
      "| \u001b[0m 17      \u001b[0m | \u001b[0m 0.9091  \u001b[0m | \u001b[0m 0.08668 \u001b[0m | \u001b[0m 0.3766  \u001b[0m | \u001b[0m 0.2613  \u001b[0m | \u001b[0m-0.9456  \u001b[0m | \u001b[0m 199.3   \u001b[0m |\n",
      "| \u001b[0m 18      \u001b[0m | \u001b[0m 0.9091  \u001b[0m | \u001b[0m 0.1822  \u001b[0m | \u001b[0m 0.483   \u001b[0m | \u001b[0m 0.2889  \u001b[0m | \u001b[0m 5.933   \u001b[0m | \u001b[0m 51.91   \u001b[0m |\n",
      "| \u001b[0m 19      \u001b[0m | \u001b[0m 0.8916  \u001b[0m | \u001b[0m 0.4299  \u001b[0m | \u001b[0m 0.05268 \u001b[0m | \u001b[0m 0.2054  \u001b[0m | \u001b[0m 1.085   \u001b[0m | \u001b[0m 56.32   \u001b[0m |\n",
      "| \u001b[0m 20      \u001b[0m | \u001b[0m 0.9091  \u001b[0m | \u001b[0m 0.172   \u001b[0m | \u001b[0m 0.1673  \u001b[0m | \u001b[0m 0.1093  \u001b[0m | \u001b[0m 5.737   \u001b[0m | \u001b[0m 112.1   \u001b[0m |\n",
      "| \u001b[0m 21      \u001b[0m | \u001b[0m 0.9091  \u001b[0m | \u001b[0m 0.2941  \u001b[0m | \u001b[0m 0.252   \u001b[0m | \u001b[0m 0.2108  \u001b[0m | \u001b[0m-0.877   \u001b[0m | \u001b[0m 111.8   \u001b[0m |\n",
      "| \u001b[0m 22      \u001b[0m | \u001b[0m 0.9066  \u001b[0m | \u001b[0m 0.3465  \u001b[0m | \u001b[0m 0.08555 \u001b[0m | \u001b[0m 0.05765 \u001b[0m | \u001b[0m 2.33    \u001b[0m | \u001b[0m 118.8   \u001b[0m |\n",
      "=====================================================================================\n"
     ]
    }
   ],
   "source": [
    "lgbmBO = BayesianOptimization(lgbm_eval, {'lambda_l2':(0, 0.5),\n",
    "                                          'lambda_l1':(0,0.5),\n",
    "                                          'max_depth':(-1,6),\n",
    "                                          'learning_rate':(0.01,0.5),\n",
    "                                          'n_estimators':(10,200)})\n",
    "\n",
    "lgbmBO.maximize(n_iter=20, init_points=2)"
   ]
  },
  {
   "cell_type": "code",
   "execution_count": 17,
   "metadata": {},
   "outputs": [],
   "source": [
    "def TFIDF_lgbm_eval(lambda_l2,lambda_l1,max_depth,learning_rate,n_estimators):\n",
    "    lgbm_model = LGBMRegressor(lambda_l2 = lambda_l2, lambda_l1 = lambda_l1, \n",
    "                               max_depth = int(round(max_depth,0)),\n",
    "                               learning_rate = learning_rate, \n",
    "                               n_estimators = int(round(n_estimators,0)))\n",
    "    \n",
    "    lgbm_model.fit(X_TFIDF_train, y_train.ravel())\n",
    "    return r2_calculator(lgbm_model.predict(X_TFIDF_valid),y_valid)"
   ]
  },
  {
   "cell_type": "code",
   "execution_count": 18,
   "metadata": {},
   "outputs": [
    {
     "name": "stdout",
     "output_type": "stream",
     "text": [
      "|   iter    |  target   | lambda_l1 | lambda_l2 | learni... | max_depth | n_esti... |\n",
      "-------------------------------------------------------------------------------------\n",
      "| \u001b[0m 1       \u001b[0m | \u001b[0m 0.9091  \u001b[0m | \u001b[0m 0.4742  \u001b[0m | \u001b[0m 0.0881  \u001b[0m | \u001b[0m 0.259   \u001b[0m | \u001b[0m 4.581   \u001b[0m | \u001b[0m 135.8   \u001b[0m |\n",
      "| \u001b[0m 2       \u001b[0m | \u001b[0m 0.906   \u001b[0m | \u001b[0m 0.3256  \u001b[0m | \u001b[0m 0.3623  \u001b[0m | \u001b[0m 0.3262  \u001b[0m | \u001b[0m 0.7226  \u001b[0m | \u001b[0m 61.46   \u001b[0m |\n",
      "| \u001b[95m 3       \u001b[0m | \u001b[95m 0.9091  \u001b[0m | \u001b[95m 0.4992  \u001b[0m | \u001b[95m 0.1555  \u001b[0m | \u001b[95m 0.4905  \u001b[0m | \u001b[95m 5.784   \u001b[0m | \u001b[95m 136.3   \u001b[0m |\n",
      "| \u001b[0m 4       \u001b[0m | \u001b[0m 0.9082  \u001b[0m | \u001b[0m 0.4417  \u001b[0m | \u001b[0m 0.1758  \u001b[0m | \u001b[0m 0.01701 \u001b[0m | \u001b[0m-0.8859  \u001b[0m | \u001b[0m 199.8   \u001b[0m |\n",
      "| \u001b[0m 5       \u001b[0m | \u001b[0m 0.8736  \u001b[0m | \u001b[0m 0.0     \u001b[0m | \u001b[0m 0.2158  \u001b[0m | \u001b[0m 0.01    \u001b[0m | \u001b[0m-1.0     \u001b[0m | \u001b[0m 161.1   \u001b[0m |\n",
      "| \u001b[0m 6       \u001b[0m | \u001b[0m 0.9091  \u001b[0m | \u001b[0m 0.5     \u001b[0m | \u001b[0m 0.4773  \u001b[0m | \u001b[0m 0.5     \u001b[0m | \u001b[0m 6.0     \u001b[0m | \u001b[0m 115.1   \u001b[0m |\n",
      "| \u001b[0m 7       \u001b[0m | \u001b[0m 0.7605  \u001b[0m | \u001b[0m 0.0     \u001b[0m | \u001b[0m 0.0     \u001b[0m | \u001b[0m 0.01    \u001b[0m | \u001b[0m-1.0     \u001b[0m | \u001b[0m 89.65   \u001b[0m |\n",
      "| \u001b[0m 8       \u001b[0m | \u001b[0m 0.9091  \u001b[0m | \u001b[0m 0.5     \u001b[0m | \u001b[0m 0.5     \u001b[0m | \u001b[0m 0.5     \u001b[0m | \u001b[0m 2.242   \u001b[0m | \u001b[0m 40.88   \u001b[0m |\n",
      "| \u001b[95m 9       \u001b[0m | \u001b[95m 0.9091  \u001b[0m | \u001b[95m 0.05308 \u001b[0m | \u001b[95m 0.02874 \u001b[0m | \u001b[95m 0.3753  \u001b[0m | \u001b[95m-0.9437  \u001b[0m | \u001b[95m 14.95   \u001b[0m |\n",
      "| \u001b[0m 10      \u001b[0m | \u001b[0m 0.9091  \u001b[0m | \u001b[0m 0.0     \u001b[0m | \u001b[0m 0.5     \u001b[0m | \u001b[0m 0.5     \u001b[0m | \u001b[0m 6.0     \u001b[0m | \u001b[0m 183.7   \u001b[0m |\n",
      "| \u001b[0m 11      \u001b[0m | \u001b[0m 0.9064  \u001b[0m | \u001b[0m 0.07344 \u001b[0m | \u001b[0m 0.1234  \u001b[0m | \u001b[0m 0.102   \u001b[0m | \u001b[0m 5.965   \u001b[0m | \u001b[0m 27.29   \u001b[0m |\n",
      "| \u001b[0m 12      \u001b[0m | \u001b[0m 0.9091  \u001b[0m | \u001b[0m 0.0     \u001b[0m | \u001b[0m 0.0     \u001b[0m | \u001b[0m 0.5     \u001b[0m | \u001b[0m-1.0     \u001b[0m | \u001b[0m 123.2   \u001b[0m |\n",
      "| \u001b[0m 13      \u001b[0m | \u001b[0m 0.5897  \u001b[0m | \u001b[0m 0.0     \u001b[0m | \u001b[0m 0.0     \u001b[0m | \u001b[0m 0.01    \u001b[0m | \u001b[0m 6.0     \u001b[0m | \u001b[0m 52.27   \u001b[0m |\n",
      "| \u001b[0m 14      \u001b[0m | \u001b[0m 0.9091  \u001b[0m | \u001b[0m 0.09492 \u001b[0m | \u001b[0m 0.1361  \u001b[0m | \u001b[0m 0.1721  \u001b[0m | \u001b[0m-0.4028  \u001b[0m | \u001b[0m 33.64   \u001b[0m |\n",
      "| \u001b[0m 15      \u001b[0m | \u001b[0m 0.9091  \u001b[0m | \u001b[0m 0.5     \u001b[0m | \u001b[0m 0.5     \u001b[0m | \u001b[0m 0.5     \u001b[0m | \u001b[0m-1.0     \u001b[0m | \u001b[0m 69.29   \u001b[0m |\n",
      "| \u001b[0m 16      \u001b[0m | \u001b[0m 0.9091  \u001b[0m | \u001b[0m 0.0     \u001b[0m | \u001b[0m 0.0     \u001b[0m | \u001b[0m 0.5     \u001b[0m | \u001b[0m 6.0     \u001b[0m | \u001b[0m 193.3   \u001b[0m |\n",
      "| \u001b[0m 17      \u001b[0m | \u001b[0m 0.9091  \u001b[0m | \u001b[0m 0.1945  \u001b[0m | \u001b[0m 0.07688 \u001b[0m | \u001b[0m 0.2261  \u001b[0m | \u001b[0m-0.9943  \u001b[0m | \u001b[0m 188.4   \u001b[0m |\n",
      "| \u001b[0m 18      \u001b[0m | \u001b[0m 0.8828  \u001b[0m | \u001b[0m 0.5     \u001b[0m | \u001b[0m 0.0     \u001b[0m | \u001b[0m 0.01    \u001b[0m | \u001b[0m-1.0     \u001b[0m | \u001b[0m 176.1   \u001b[0m |\n",
      "| \u001b[0m 19      \u001b[0m | \u001b[0m 0.9091  \u001b[0m | \u001b[0m 0.0     \u001b[0m | \u001b[0m 0.5     \u001b[0m | \u001b[0m 0.5     \u001b[0m | \u001b[0m 0.4554  \u001b[0m | \u001b[0m 145.6   \u001b[0m |\n",
      "| \u001b[0m 20      \u001b[0m | \u001b[0m 0.9091  \u001b[0m | \u001b[0m 0.5     \u001b[0m | \u001b[0m 0.5     \u001b[0m | \u001b[0m 0.5     \u001b[0m | \u001b[0m 6.0     \u001b[0m | \u001b[0m 10.0    \u001b[0m |\n",
      "| \u001b[0m 21      \u001b[0m | \u001b[0m 0.8078  \u001b[0m | \u001b[0m 0.0     \u001b[0m | \u001b[0m 0.0     \u001b[0m | \u001b[0m 0.01    \u001b[0m | \u001b[0m-1.0     \u001b[0m | \u001b[0m 109.0   \u001b[0m |\n",
      "| \u001b[0m 22      \u001b[0m | \u001b[0m 0.837   \u001b[0m | \u001b[0m 0.5     \u001b[0m | \u001b[0m 0.5     \u001b[0m | \u001b[0m 0.01    \u001b[0m | \u001b[0m 6.0     \u001b[0m | \u001b[0m 126.0   \u001b[0m |\n",
      "=====================================================================================\n"
     ]
    }
   ],
   "source": [
    "TFIDF_lgbmBO = BayesianOptimization(TFIDF_lgbm_eval, {'lambda_l2':(0, 0.5),\n",
    "                                          'lambda_l1':(0,0.5),\n",
    "                                          'max_depth':(-1,6),\n",
    "                                          'learning_rate':(0.01,0.5),\n",
    "                                          'n_estimators':(10,200)})\n",
    "\n",
    "TFIDF_lgbmBO.maximize(n_iter=20, init_points=2)"
   ]
  },
  {
   "cell_type": "code",
   "execution_count": 19,
   "metadata": {},
   "outputs": [
    {
     "name": "stdout",
     "output_type": "stream",
     "text": [
      "{'lambda_l1': 0.340093247157719, 'lambda_l2': 0.15080299601720903, 'learning_rate': 0.1808274612032137, 'max_depth': 4.572273005043445, 'n_estimators': 39.323025009117075}\n",
      "{'lambda_l1': 0.053083311782776144, 'lambda_l2': 0.028736780795506844, 'learning_rate': 0.3752551731221079, 'max_depth': -0.9437298530160639, 'n_estimators': 14.950985278511745}\n"
     ]
    }
   ],
   "source": [
    "print(lgbmBO.max['params'])\n",
    "print(TFIDF_lgbmBO.max['params'])"
   ]
  },
  {
   "cell_type": "code",
   "execution_count": 20,
   "metadata": {},
   "outputs": [
    {
     "data": {
      "text/plain": [
       "LGBMRegressor(lambda_l1=0.15080299601720903, lambda_l2=0.340093247157719,\n",
       "              learning_rate=0.1808274612032137, max_depth=5, n_estimators=39)"
      ]
     },
     "execution_count": 20,
     "metadata": {},
     "output_type": "execute_result"
    }
   ],
   "source": [
    "lgbm_model = LGBMRegressor(lambda_l2 = lgbmBO.max['params']['lambda_l1'],\n",
    "                           lambda_l1 = lgbmBO.max['params']['lambda_l2'],\n",
    "                           max_depth = int(round(lgbmBO.max['params']['max_depth'],0)),\n",
    "                           learning_rate = lgbmBO.max['params']['learning_rate'],\n",
    "                           n_estimators = int(round(lgbmBO.max['params']['n_estimators'],0)))\n",
    "lgbm_model.fit(X_train, y_train.ravel())"
   ]
  },
  {
   "cell_type": "code",
   "execution_count": 21,
   "metadata": {},
   "outputs": [
    {
     "data": {
      "text/plain": [
       "LGBMRegressor(lambda_l1=0.028736780795506844, lambda_l2=0.053083311782776144,\n",
       "              learning_rate=0.3752551731221079, n_estimators=15)"
      ]
     },
     "execution_count": 21,
     "metadata": {},
     "output_type": "execute_result"
    }
   ],
   "source": [
    "TFIDF_lgbm_model = LGBMRegressor(lambda_l2 = TFIDF_lgbmBO.max['params']['lambda_l1'],\n",
    "                           lambda_l1 = TFIDF_lgbmBO.max['params']['lambda_l2'],\n",
    "                           max_depth = int(round(TFIDF_lgbmBO.max['params']['max_depth'],0)),\n",
    "                           learning_rate = TFIDF_lgbmBO.max['params']['learning_rate'],\n",
    "                           n_estimators = int(round(TFIDF_lgbmBO.max['params']['n_estimators'],0)))\n",
    "TFIDF_lgbm_model.fit(X_TFIDF_train, y_train.ravel())"
   ]
  },
  {
   "cell_type": "code",
   "execution_count": 22,
   "metadata": {},
   "outputs": [
    {
     "name": "stdout",
     "output_type": "stream",
     "text": [
      "TFIDF Validation Set\n",
      "R2: 0.9091\n",
      "Adjusted R2: 0.9091\n",
      "MAE: 0.0688\n",
      "RMSE: 0.1107\n"
     ]
    }
   ],
   "source": [
    "print('TFIDF Validation Set')\n",
    "print('R2: ' + str(round(r2_calculator(TFIDF_lgbm_model.predict(X_TFIDF_valid),y_valid),4)))\n",
    "print('Adjusted R2: ' + str(round(adjusted_r2_calculator(TFIDF_lgbm_model.predict(X_TFIDF_valid),y_valid),4)))\n",
    "print('MAE: ' + str(round(mae_and_mse_calculator(TFIDF_lgbm_model.predict(X_TFIDF_valid),y_valid)[0],4)))\n",
    "print('RMSE: ' + str(round(mae_and_mse_calculator(TFIDF_lgbm_model.predict(X_TFIDF_valid),y_valid)[1]**0.5,4)))"
   ]
  },
  {
   "cell_type": "code",
   "execution_count": 23,
   "metadata": {},
   "outputs": [
    {
     "name": "stdout",
     "output_type": "stream",
     "text": [
      "Cosine Similarity Validation Set\n",
      "R2: 0.9091\n",
      "Adjusted R2: 0.9091\n",
      "MAE: 0.0688\n",
      "RMSE: 0.1107\n"
     ]
    }
   ],
   "source": [
    "print('Cosine Similarity Validation Set')\n",
    "print('R2: ' + str(round(r2_calculator(lgbm_model.predict(X_valid),y_valid),4)))\n",
    "print('Adjusted R2: ' + str(round(adjusted_r2_calculator(lgbm_model.predict(X_valid),y_valid),4)))\n",
    "print('MAE: ' + str(round(mae_and_mse_calculator(lgbm_model.predict(X_valid),y_valid)[0],4)))\n",
    "print('RMSE: ' + str(round(mae_and_mse_calculator(lgbm_model.predict(X_valid),y_valid)[1]**0.5,4)))"
   ]
  },
  {
   "cell_type": "markdown",
   "metadata": {},
   "source": [
    "When the hyperparameter search completes, the result indicates that the error is irreducible. Two ways to reduce this error are feature engineering and data wrangling. Besides this, the random forest model is top choice for this problem because this model is more resistant to overfitting. "
   ]
  },
  {
   "cell_type": "code",
   "execution_count": 24,
   "metadata": {},
   "outputs": [
    {
     "name": "stdout",
     "output_type": "stream",
     "text": [
      "Cos Similarity Testing Set\n",
      "R2: 0.9097\n",
      "Adjusted R2: 0.9097\n",
      "MAE: 0.0686\n",
      "RMSE: 0.1106\n"
     ]
    }
   ],
   "source": [
    "print('Cos Similarity Testing Set')\n",
    "print('R2: ' + str(round(r2_calculator(rfr_model.predict(X_test),y_test),4)))\n",
    "print('Adjusted R2: ' + str(round(adjusted_r2_calculator(rfr_model.predict(X_test),y_test),4)))\n",
    "print('MAE: ' + str(round(mae_and_mse_calculator(rfr_model.predict(X_test),y_test)[0],4)))\n",
    "print('RMSE: ' + str(round(mae_and_mse_calculator(rfr_model.predict(X_test),y_test)[1]**0.5,4)))"
   ]
  },
  {
   "cell_type": "code",
   "execution_count": 25,
   "metadata": {},
   "outputs": [
    {
     "name": "stdout",
     "output_type": "stream",
     "text": [
      "Time taken to run: 77.93327593803406 seconds\n"
     ]
    }
   ],
   "source": [
    "print(f'Time taken to run: {time.time() - start} seconds')"
   ]
  }
 ],
 "metadata": {
  "kernelspec": {
   "display_name": "Python 3",
   "language": "python",
   "name": "python3"
  },
  "language_info": {
   "codemirror_mode": {
    "name": "ipython",
    "version": 3
   },
   "file_extension": ".py",
   "mimetype": "text/x-python",
   "name": "python",
   "nbconvert_exporter": "python",
   "pygments_lexer": "ipython3",
   "version": "3.8.5"
  }
 },
 "nbformat": 4,
 "nbformat_minor": 4
}
