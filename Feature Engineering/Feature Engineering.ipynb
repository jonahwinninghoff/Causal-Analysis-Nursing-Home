{
 "cells": [
  {
   "cell_type": "markdown",
   "metadata": {},
   "source": [
    "## Feature Engineering\n",
    "\n",
    "- [TFIDF Vectorization](#tfidf)\n",
    "- [Lemmatization](#lemmize)\n",
    "- [Train Test Split](#split)\n",
    "- [MinMax Rescaling](#rescale)\n",
    "- [Cosine Similarity](#cos)"
   ]
  },
  {
   "cell_type": "markdown",
   "metadata": {},
   "source": [
    "### Import Necessary Modules and Datasets"
   ]
  },
  {
   "cell_type": "code",
   "execution_count": 1,
   "metadata": {},
   "outputs": [],
   "source": [
    "# Import tools to get datasets\n",
    "from io import BytesIO\n",
    "from zipfile import ZipFile\n",
    "import urllib\n",
    "\n",
    "# Import data manipulation and plot modules\n",
    "import pandas as pd\n",
    "import numpy as np\n",
    "import matplotlib.pyplot as plt\n",
    "import seaborn as sns\n",
    "from collections import Counter\n",
    "\n",
    "# Import NLP tools\n",
    "from sklearn.feature_extraction.text import TfidfVectorizer\n",
    "from nltk.stem import WordNetLemmatizer\n",
    "from sklearn.metrics.pairwise import cosine_similarity\n",
    "\n",
    "# Preventive data leakage tools\n",
    "from sklearn.model_selection import train_test_split\n",
    "from sklearn.preprocessing import MinMaxScaler"
   ]
  },
  {
   "cell_type": "code",
   "execution_count": 2,
   "metadata": {},
   "outputs": [],
   "source": [
    "# Unzip and read Average Q\n",
    "url = urllib.request.urlopen('https://github.com/jonahwinninghoff/Springboard_Capstone_Project/raw/main/Assets/neat_average_score_data.zip')\n",
    "file = ZipFile(BytesIO(url.read()))\n",
    "qfile = file.open(\"neat_average_score_data\")\n",
    "q = pd.read_json(qfile, encoding='cp1252')\n",
    "file.close()"
   ]
  },
  {
   "cell_type": "markdown",
   "metadata": {},
   "source": [
    "### TFIDF Vectorization <a id='tfidf'></a> "
   ]
  },
  {
   "cell_type": "code",
   "execution_count": 3,
   "metadata": {},
   "outputs": [],
   "source": [
    "def vectorize_df(data, column, stop_words = None, max_df = 1, min_df = 1):\n",
    "    \n",
    "    # Use TfidVectorizer to vectorize selected column\n",
    "    vectorizer = TfidfVectorizer(stop_words = stop_words, max_df = max_df, min_df = min_df)\n",
    "    vectorized_array = vectorizer.fit_transform(data[column]).toarray()\n",
    "    names_list = vectorizer.get_feature_names()\n",
    "    \n",
    "    # Datafy vectorized matrix and create empty dictionary list\n",
    "    df = pd.DataFrame(vectorized_array.tolist())\n",
    "    columns_renamed = {}\n",
    "    \n",
    "    # Automate to replace all column names\n",
    "    for i in enumerate(names_list):\n",
    "        columns_renamed[i[0]] = i[1]\n",
    "    df = df.rename(columns = columns_renamed)\n",
    "    \n",
    "    # Merge data with df\n",
    "    the_data = data.merge(df, left_index = True,\n",
    "                              right_index = True,\n",
    "                              how = 'inner')\n",
    "    \n",
    "    return the_data"
   ]
  },
  {
   "cell_type": "code",
   "execution_count": 4,
   "metadata": {},
   "outputs": [],
   "source": [
    "# Fix the index sequence due to some missing sequences that affect further feature engineering\n",
    "q = q.set_index(np.arange(0,len(q)))\n",
    "\n",
    "# Select Average Score and Measure Description columns\n",
    "q_selected = q[['Four Quarter Average Score','Measure Description']]\n",
    "\n",
    "# Vectorize and Drop Measure Description\n",
    "cleaned_q = vectorize_df(q_selected,'Measure Description', stop_words = 'english', \n",
    "                         max_df = 0.8, min_df = 2).drop('Measure Description', axis = 1)"
   ]
  },
  {
   "cell_type": "markdown",
   "metadata": {},
   "source": [
    "### Lemmatization <a id='lemmize'></a>"
   ]
  },
  {
   "cell_type": "code",
   "execution_count": 5,
   "metadata": {},
   "outputs": [
    {
     "name": "stdout",
     "output_type": "stream",
     "text": [
      "False\n"
     ]
    }
   ],
   "source": [
    "### Before Lemmatization \n",
    "pre_lemmatize = len(list(cleaned_q.columns))\n",
    "\n",
    "lemmatizer = WordNetLemmatizer()\n",
    "\n",
    "thelist = []\n",
    "for i in range(0,len(list(cleaned_q.columns))):\n",
    "    word = lemmatizer.lemmatize(list(cleaned_q.columns)[i],pos='v')\n",
    "    thelist.append(word)\n",
    "\n",
    "# After Lemmatization\n",
    "post_lemmatize = len(set(thelist))\n",
    "\n",
    "print(pre_lemmatize > post_lemmatize)"
   ]
  },
  {
   "cell_type": "markdown",
   "metadata": {},
   "source": [
    "Lemmatization does not help reduce the dimension, so it won't be applied."
   ]
  },
  {
   "cell_type": "markdown",
   "metadata": {},
   "source": [
    "### Train Test Split <a id = 'split'></a>"
   ]
  },
  {
   "cell_type": "code",
   "execution_count": 6,
   "metadata": {},
   "outputs": [],
   "source": [
    "# Split test and train to prevent data leakage\n",
    "X_train, X_test, y_train, y_test = train_test_split(cleaned_q.drop('Four Quarter Average Score',axis = 1),\n",
    "                                                   cleaned_q[['Four Quarter Average Score']],\n",
    "                                                   test_size=.40, random_state = 42)"
   ]
  },
  {
   "cell_type": "code",
   "execution_count": 7,
   "metadata": {},
   "outputs": [],
   "source": [
    "# Split test and train to prevent data leakage\n",
    "X_valid, X_test, y_valid, y_test = train_test_split(X_test,y_test,test_size=.50,\n",
    "                                                   random_state = 42)"
   ]
  },
  {
   "cell_type": "code",
   "execution_count": 8,
   "metadata": {},
   "outputs": [
    {
     "data": {
      "image/png": "[encoded data removed]",
      "text/plain": [
       "<Figure size 432x288 with 1 Axes>"
      ]
     },
     "metadata": {},
     "output_type": "display_data"
    }
   ],
   "source": [
    "plt.pie([len(X_test),len(X_valid),len(X_train)],  labels=['Testing','Validation','Training'])\n",
    "plt.show()"
   ]
  },
  {
   "cell_type": "markdown",
   "metadata": {},
   "source": [
    "### MinMax Rescaling <a id='rescale'></a>"
   ]
  },
  {
   "cell_type": "code",
   "execution_count": 9,
   "metadata": {},
   "outputs": [],
   "source": [
    "# MaxMin rescaling without data leakage\n",
    "rescale = MinMaxScaler()\n",
    "rescale.fit(y_train)\n",
    "y_train = rescale.transform(y_train)\n",
    "y_test = rescale.transform(y_test)\n",
    "y_valid = rescale.transform(y_valid)"
   ]
  },
  {
   "cell_type": "code",
   "execution_count": 10,
   "metadata": {},
   "outputs": [],
   "source": [
    "# Save TDFIDF X datasets\n",
    "X_train.to_csv(\"downloads/X_TFIDF_train\")\n",
    "X_valid.to_csv(\"downloads/X_TFIDF_valid\")\n",
    "X_test.to_csv(\"downloads/X_TFIDF_test\")"
   ]
  },
  {
   "cell_type": "markdown",
   "metadata": {},
   "source": [
    "### Cosine Similarity <a id='cos'></a>\n",
    "\n",
    "All mean, median, minimum, maximum, and standard deviation are from training set and these are applied to training, validation, and testing sets.\n",
    "\n",
    "- Cosine Similarity Minimum\n",
    "- Cosine Similarity Maximum\n",
    "- Cosine Similarity Mean\n",
    "- Cosine Similarity Median\n",
    "- Cosine Similarity Standard Deviation"
   ]
  },
  {
   "cell_type": "code",
   "execution_count": 11,
   "metadata": {},
   "outputs": [],
   "source": [
    "# Sum all inputs for each row \n",
    "X_train['sum']= X_train.sum(axis=1)\n",
    "\n",
    "# Median, Mean, Minimum, Maximum, and Standard Deviation Angles \n",
    "median_angle = X_train[X_train['sum'] == np.median(X_train['sum'])].drop('sum',axis=1).head(1)\n",
    "mean_angle = pd.DataFrame(X_train.mean()).T.drop('sum',axis=1)\n",
    "minimum_angle = X_train[X_train['sum'] == np.min(X_train['sum'])].drop('sum',axis=1).head(1)\n",
    "maximum_angle = X_train[X_train['sum'] == np.max(X_train['sum'])].drop('sum',axis=1).head(1)\n",
    "std_angle = pd.DataFrame(X_train.std()).T.drop('sum',axis=1)"
   ]
  },
  {
   "cell_type": "code",
   "execution_count": 12,
   "metadata": {},
   "outputs": [],
   "source": [
    "cos_similarities = pd.concat([median_angle,mean_angle,minimum_angle,maximum_angle,\n",
    "                              std_angle])"
   ]
  },
  {
   "cell_type": "code",
   "execution_count": 13,
   "metadata": {},
   "outputs": [],
   "source": [
    "# Remove X_train's sum column\n",
    "X_train = X_train.drop('sum',axis=1)\n",
    "renames = {0:'cosine median',1:'cosine mean', 2:'cosine minimum',3:'cosine maximum',4:'cosine std'}\n",
    "\n",
    "# Transform from the Cosine Similarity Fit\n",
    "X_train = pd.DataFrame(cosine_similarity(X_train, cos_similarities)).rename(columns=renames)\n",
    "X_valid = pd.DataFrame(cosine_similarity(X_valid, cos_similarities)).rename(columns=renames)\n",
    "X_test = pd.DataFrame(cosine_similarity(X_test, cos_similarities)).rename(columns=renames)"
   ]
  },
  {
   "cell_type": "code",
   "execution_count": 14,
   "metadata": {},
   "outputs": [
    {
     "name": "stdout",
     "output_type": "stream",
     "text": [
      "[[0.97261664]\n",
      " [0.02043739]\n",
      " [0.03533195]\n",
      " [1.        ]\n",
      " [0.01445312]]\n"
     ]
    }
   ],
   "source": [
    "print(y_train[0:5])"
   ]
  },
  {
   "cell_type": "code",
   "execution_count": 15,
   "metadata": {},
   "outputs": [
    {
     "data": {
      "text/html": [
       "<div>\n",
       "<style scoped>\n",
       "    .dataframe tbody tr th:only-of-type {\n",
       "        vertical-align: middle;\n",
       "    }\n",
       "\n",
       "    .dataframe tbody tr th {\n",
       "        vertical-align: top;\n",
       "    }\n",
       "\n",
       "    .dataframe thead th {\n",
       "        text-align: right;\n",
       "    }\n",
       "</style>\n",
       "<table border=\"1\" class=\"dataframe\">\n",
       "  <thead>\n",
       "    <tr style=\"text-align: right;\">\n",
       "      <th></th>\n",
       "      <th>cosine median</th>\n",
       "      <th>cosine mean</th>\n",
       "      <th>cosine minimum</th>\n",
       "      <th>cosine maximum</th>\n",
       "      <th>cosine std</th>\n",
       "    </tr>\n",
       "  </thead>\n",
       "  <tbody>\n",
       "    <tr>\n",
       "      <th>0</th>\n",
       "      <td>0.036588</td>\n",
       "      <td>0.618615</td>\n",
       "      <td>0.030820</td>\n",
       "      <td>0.564471</td>\n",
       "      <td>0.404133</td>\n",
       "    </tr>\n",
       "    <tr>\n",
       "      <th>1</th>\n",
       "      <td>1.000000</td>\n",
       "      <td>0.259996</td>\n",
       "      <td>0.024228</td>\n",
       "      <td>0.000000</td>\n",
       "      <td>0.276802</td>\n",
       "    </tr>\n",
       "    <tr>\n",
       "      <th>2</th>\n",
       "      <td>0.027531</td>\n",
       "      <td>0.228045</td>\n",
       "      <td>0.023190</td>\n",
       "      <td>0.000000</td>\n",
       "      <td>0.256558</td>\n",
       "    </tr>\n",
       "    <tr>\n",
       "      <th>3</th>\n",
       "      <td>0.000000</td>\n",
       "      <td>0.593764</td>\n",
       "      <td>0.000000</td>\n",
       "      <td>0.675426</td>\n",
       "      <td>0.430099</td>\n",
       "    </tr>\n",
       "    <tr>\n",
       "      <th>4</th>\n",
       "      <td>0.024228</td>\n",
       "      <td>0.074591</td>\n",
       "      <td>1.000000</td>\n",
       "      <td>0.000000</td>\n",
       "      <td>0.094114</td>\n",
       "    </tr>\n",
       "  </tbody>\n",
       "</table>\n",
       "</div>"
      ],
      "text/plain": [
       "   cosine median  cosine mean  cosine minimum  cosine maximum  cosine std\n",
       "0       0.036588     0.618615        0.030820        0.564471    0.404133\n",
       "1       1.000000     0.259996        0.024228        0.000000    0.276802\n",
       "2       0.027531     0.228045        0.023190        0.000000    0.256558\n",
       "3       0.000000     0.593764        0.000000        0.675426    0.430099\n",
       "4       0.024228     0.074591        1.000000        0.000000    0.094114"
      ]
     },
     "metadata": {},
     "output_type": "display_data"
    }
   ],
   "source": [
    "display(X_train.head(5))"
   ]
  },
  {
   "cell_type": "code",
   "execution_count": 16,
   "metadata": {},
   "outputs": [],
   "source": [
    "# Save X datasets\n",
    "X_train.to_csv(\"downloads/X_train\")\n",
    "X_valid.to_csv(\"downloads/X_valid\")\n",
    "X_test.to_csv(\"downloads/X_test\")\n",
    "\n",
    "# Save y datasets\n",
    "with open('downloads/y_train', 'wb') as f:\n",
    "    np.save(f, y_train)\n",
    "with open('downloads/y_valid', 'wb') as f:\n",
    "    np.save(f, y_valid)\n",
    "with open('downloads/y_test', 'wb') as f:\n",
    "    np.save(f, y_test)"
   ]
  }
 ],
 "metadata": {
  "kernelspec": {
   "display_name": "Python 3",
   "language": "python",
   "name": "python3"
  },
  "language_info": {
   "codemirror_mode": {
    "name": "ipython",
    "version": 3
   },
   "file_extension": ".py",
   "mimetype": "text/x-python",
   "name": "python",
   "nbconvert_exporter": "python",
   "pygments_lexer": "ipython3",
   "version": "3.8.5"
  }
 },
 "nbformat": 4,
 "nbformat_minor": 4
}
