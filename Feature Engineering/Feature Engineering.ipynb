{
 "cells": [
  {
   "cell_type": "markdown",
   "metadata": {},
   "source": [
    "## Feature Engineering\n",
    "\n",
    "- [TFIDF Vectorization](#tfidf)\n",
    "- [Lemmatization](#lemmize)\n",
    "- [Train Test Split](#split)\n",
    "- [Rescaling](#rescale)\n",
    "- [Prinicipal Component Analysis](#pca)"
   ]
  },
  {
   "cell_type": "markdown",
   "metadata": {},
   "source": [
    "### Import Necessary Modules and Datasets"
   ]
  },
  {
   "cell_type": "code",
   "execution_count": 1,
   "metadata": {},
   "outputs": [],
   "source": [
    "# Import tools to get datasets\n",
    "from io import BytesIO\n",
    "from zipfile import ZipFile\n",
    "import urllib\n",
    "\n",
    "# Import data manipulation and plot modules\n",
    "import pandas as pd\n",
    "import numpy as np\n",
    "import matplotlib.pyplot as plt\n",
    "import seaborn as sns\n",
    "from collections import Counter\n",
    "\n",
    "# Import NLP tools\n",
    "from sklearn.feature_extraction.text import TfidfVectorizer\n",
    "from nltk.stem import WordNetLemmatizer\n",
    "from sklearn.metrics.pairwise import cosine_similarity\n",
    "from sklearn.model_selection import train_test_split\n",
    "from sklearn.decomposition import PCA"
   ]
  },
  {
   "cell_type": "code",
   "execution_count": 2,
   "metadata": {},
   "outputs": [],
   "source": [
    "# Unzip and read Average Q\n",
    "url = urllib.request.urlopen('https://github.com/jonahwinninghoff/Springboard_Capstone_Project/raw/main/Assets/neat_average_score_data.zip')\n",
    "file = ZipFile(BytesIO(url.read()))\n",
    "qfile = file.open(\"neat_average_score_data\")\n",
    "q = pd.read_json(qfile, encoding='cp1252')\n",
    "file.close()"
   ]
  },
  {
   "cell_type": "markdown",
   "metadata": {},
   "source": [
    "### TFIDF Vectorization <a id='tfidf'></a> "
   ]
  },
  {
   "cell_type": "code",
   "execution_count": 3,
   "metadata": {},
   "outputs": [],
   "source": [
    "def vectorize_df(data, column, stop_words = None, max_df = 1, min_df = 1):\n",
    "    \n",
    "    # Use TfidVectorizer to vectorize selected column\n",
    "    vectorizer = TfidfVectorizer(stop_words = stop_words, max_df = max_df, min_df = min_df)\n",
    "    vectorized_array = vectorizer.fit_transform(data[column]).toarray()\n",
    "    names_list = vectorizer.get_feature_names()\n",
    "    \n",
    "    # Datafy vectorized matrix and create empty dictionary list\n",
    "    df = pd.DataFrame(vectorized_array.tolist())\n",
    "    columns_renamed = {}\n",
    "    \n",
    "    # Automate to replace all column names\n",
    "    for i in enumerate(names_list):\n",
    "        columns_renamed[i[0]] = i[1]\n",
    "    df = df.rename(columns = columns_renamed)\n",
    "    \n",
    "    # Merge data with df\n",
    "    the_data = data.merge(df, left_index = True,\n",
    "                              right_index = True,\n",
    "                              how = 'inner')\n",
    "    \n",
    "    return the_data"
   ]
  },
  {
   "cell_type": "code",
   "execution_count": 4,
   "metadata": {},
   "outputs": [],
   "source": [
    "# Fix the index sequence due to some missing sequences that affect further feature engineering\n",
    "q = q.set_index(np.arange(0,len(q)))\n",
    "\n",
    "# Select Average Score and Measure Description columns\n",
    "q_selected = q[['Four Quarter Average Score','Measure Description']]\n",
    "\n",
    "# Vectorize and Drop Measure Description\n",
    "cleaned_q = vectorize_df(q_selected,'Measure Description', stop_words = 'english', \n",
    "                         max_df = 0.8, min_df = 2).drop('Measure Description', axis = 1)"
   ]
  },
  {
   "cell_type": "markdown",
   "metadata": {},
   "source": [
    "### Lemmatization <a id='lemmize'></a>"
   ]
  },
  {
   "cell_type": "code",
   "execution_count": 5,
   "metadata": {},
   "outputs": [
    {
     "name": "stdout",
     "output_type": "stream",
     "text": [
      "False\n"
     ]
    }
   ],
   "source": [
    "### Before Lemmatization \n",
    "pre_lemmatize = len(list(cleaned_q.columns))\n",
    "\n",
    "lemmatizer = WordNetLemmatizer()\n",
    "\n",
    "thelist = []\n",
    "for i in range(0,len(list(cleaned_q.columns))):\n",
    "    word = lemmatizer.lemmatize(list(cleaned_q.columns)[i],pos='v')\n",
    "    thelist.append(word)\n",
    "\n",
    "# After Lemmatization\n",
    "post_lemmatize = len(set(thelist))\n",
    "\n",
    "print(pre_lemmatize > post_lemmatize)"
   ]
  },
  {
   "cell_type": "markdown",
   "metadata": {},
   "source": [
    "Lemmatization does not help reduce the dimension, so it won't be applied."
   ]
  },
  {
   "cell_type": "markdown",
   "metadata": {},
   "source": [
    "### Train Test Split <a id = 'split'></a>"
   ]
  },
  {
   "cell_type": "code",
   "execution_count": 6,
   "metadata": {},
   "outputs": [],
   "source": [
    "# Split test and train to prevent data leakage\n",
    "X_train, X_test, y_train, y_test = train_test_split(cleaned_q.drop('Four Quarter Average Score',axis = 1),\n",
    "                                                   cleaned_q[['Four Quarter Average Score']],\n",
    "                                                   test_size=.40, random_state = 42)"
   ]
  },
  {
   "cell_type": "code",
   "execution_count": 7,
   "metadata": {},
   "outputs": [],
   "source": [
    "# Split test and train to prevent data leakage\n",
    "X_valid, X_test, y_valid, y_test = train_test_split(X_test,y_test,test_size=.50,\n",
    "                                                   random_state = 42)"
   ]
  },
  {
   "cell_type": "code",
   "execution_count": 8,
   "metadata": {},
   "outputs": [
    {
     "data": {
      "image/png": "[encoded data removed]",
      "text/plain": [
       "<Figure size 432x288 with 1 Axes>"
      ]
     },
     "metadata": {},
     "output_type": "display_data"
    }
   ],
   "source": [
    "plt.pie([len(X_test),len(X_valid),len(X_train)],  labels=['Testing','Validation','Training'])\n",
    "plt.show()"
   ]
  },
  {
   "cell_type": "markdown",
   "metadata": {},
   "source": [
    "### Rescaling <a id='rescale'></a>"
   ]
  },
  {
   "cell_type": "code",
   "execution_count": 9,
   "metadata": {},
   "outputs": [],
   "source": [
    "# 100-0 to 1-0 using x/100 function transform\n",
    "def transform(target):\n",
    "    target = target/100\n",
    "    return target\n",
    "\n",
    "# Tranform\n",
    "y_train = transform(y_train)\n",
    "y_test = transform(y_test)\n",
    "y_valid = transform(y_valid)"
   ]
  },
  {
   "cell_type": "code",
   "execution_count": 10,
   "metadata": {},
   "outputs": [],
   "source": [
    "# Save TDFIDF X datasets\n",
    "X_train.to_csv(\"downloads/X_TFIDF_train\")\n",
    "X_valid.to_csv(\"downloads/X_TFIDF_valid\")\n",
    "X_test.to_csv(\"downloads/X_TFIDF_test\")"
   ]
  },
  {
   "cell_type": "markdown",
   "metadata": {},
   "source": [
    "### Prinicipal Component Analysis <a id='pca'></a>"
   ]
  },
  {
   "cell_type": "code",
   "execution_count": 11,
   "metadata": {},
   "outputs": [],
   "source": [
    "X_train_pca = PCA().fit(X_train)"
   ]
  },
  {
   "cell_type": "code",
   "execution_count": 12,
   "metadata": {},
   "outputs": [
    {
     "data": {
      "image/png": "[encoded data removed]",
      "text/plain": [
       "<Figure size 720x432 with 1 Axes>"
      ]
     },
     "metadata": {},
     "output_type": "display_data"
    }
   ],
   "source": [
    "plt.style.use('fivethirtyeight')\n",
    "plt.subplots(figsize=(10, 6))\n",
    "plt.plot(X_train_pca.explained_variance_ratio_.cumsum(),drawstyle='steps')\n",
    "plt.axvline(12, linestyle=':',color='red',linewidth=1)\n",
    "plt.xlabel('Prinicipal components')\n",
    "plt.ylabel('Cumulative ratio variance')\n",
    "plt.title('Cumulative Variance', family='monospace')\n",
    "plt.grid(False)\n",
    "plt.show()"
   ]
  },
  {
   "cell_type": "code",
   "execution_count": 13,
   "metadata": {},
   "outputs": [],
   "source": [
    "# Create the pca transform with automating labelling pc\n",
    "def pca_transform(input_data):\n",
    "    input_data = pd.DataFrame(X_train_pca.transform(input_data))\n",
    "    for i in input_data.columns:\n",
    "        input_data = input_data.rename(columns={i:'pc_'+str(i)})\n",
    "    return input_data\n",
    "\n",
    "# Transform pca without data leakage\n",
    "pca_train = pca_transform(X_train)\n",
    "pca_valid = pca_transform(X_valid)\n",
    "pca_test = pca_transform(X_test)"
   ]
  }
 ],
 "metadata": {
  "kernelspec": {
   "display_name": "Python 3",
   "language": "python",
   "name": "python3"
  },
  "language_info": {
   "codemirror_mode": {
    "name": "ipython",
    "version": 3
   },
   "file_extension": ".py",
   "mimetype": "text/x-python",
   "name": "python",
   "nbconvert_exporter": "python",
   "pygments_lexer": "ipython3",
   "version": "3.8.5"
  }
 },
 "nbformat": 4,
 "nbformat_minor": 4
}
