{
 "cells": [
  {
   "cell_type": "markdown",
   "metadata": {},
   "source": [
    "## Feature Engineering\n",
    "\n",
    "- [TFIDF Vectorization](#tfidf)\n",
    "- [Lemmatization](#lemmize)\n",
    "- [Train Test Split](#split)\n",
    "- [Rescaling](#rescale)\n",
    "- [Principal Component Analysis](#pca)"
   ]
  },
  {
   "cell_type": "markdown",
   "metadata": {},
   "source": [
    "### Import Necessary Modules and Datasets"
   ]
  },
  {
   "cell_type": "code",
   "execution_count": 1,
   "metadata": {},
   "outputs": [],
   "source": [
    "# Import tools to get datasets\n",
    "from io import BytesIO\n",
    "from zipfile import ZipFile\n",
    "import urllib\n",
    "\n",
    "# Import data manipulation and plot modules\n",
    "import pandas as pd\n",
    "import numpy as np\n",
    "import matplotlib.pyplot as plt\n",
    "import seaborn as sns\n",
    "from collections import Counter\n",
    "\n",
    "# Import NLP and ML tools\n",
    "from sklearn.feature_extraction.text import TfidfVectorizer\n",
    "from nltk.stem import WordNetLemmatizer\n",
    "from sklearn.metrics.pairwise import cosine_similarity\n",
    "from sklearn.model_selection import train_test_split\n",
    "from sklearn.decomposition import PCA"
   ]
  },
  {
   "cell_type": "code",
   "execution_count": 2,
   "metadata": {},
   "outputs": [],
   "source": [
    "# Unzip and read Average Q\n",
    "url = urllib.request.urlopen('https://github.com/jonahwinninghoff/Springboard_Capstone_Project/raw/main/Assets/neat_average_score_data.zip')\n",
    "file = ZipFile(BytesIO(url.read()))\n",
    "qfile = file.open(\"neat_average_score_data\")\n",
    "q = pd.read_json(qfile, encoding='cp1252')\n",
    "file.close()"
   ]
  },
  {
   "cell_type": "markdown",
   "metadata": {},
   "source": [
    "### TFIDF Vectorization <a id='tfidf'></a> "
   ]
  },
  {
   "cell_type": "code",
   "execution_count": 3,
   "metadata": {},
   "outputs": [],
   "source": [
    "def vectorize_df(data, column, stop_words = None, max_df = 1, min_df = 1):\n",
    "    \n",
    "    # Use TfidVectorizer to vectorize selected column\n",
    "    vectorizer = TfidfVectorizer(stop_words = stop_words, max_df = max_df, min_df = min_df)\n",
    "    vectorized_array = vectorizer.fit_transform(data[column]).toarray()\n",
    "    names_list = vectorizer.get_feature_names()\n",
    "    \n",
    "    # Datafy vectorized matrix and create empty dictionary list\n",
    "    df = pd.DataFrame(vectorized_array.tolist())\n",
    "    columns_renamed = {}\n",
    "    \n",
    "    # Automate to replace all column names\n",
    "    for i in enumerate(names_list):\n",
    "        columns_renamed[i[0]] = i[1]\n",
    "    df = df.rename(columns = columns_renamed)\n",
    "    \n",
    "    # Merge data with df\n",
    "    the_data = data.merge(df, left_index = True,\n",
    "                              right_index = True,\n",
    "                              how = 'inner')\n",
    "    \n",
    "    return the_data"
   ]
  },
  {
   "cell_type": "code",
   "execution_count": 4,
   "metadata": {},
   "outputs": [],
   "source": [
    "# Fix the index sequence due to some missing sequences that affect further feature engineering\n",
    "q = q.set_index(np.arange(0,len(q)))\n",
    "\n",
    "# Select Average Score and Measure Description columns\n",
    "q_selected = q[['Four Quarter Average Score','Measure Description']]\n",
    "\n",
    "# Vectorize and Drop Measure Description\n",
    "cleaned_q = vectorize_df(q_selected,'Measure Description', stop_words = 'english', \n",
    "                         max_df = 0.8, min_df = 2).drop('Measure Description', axis = 1)"
   ]
  },
  {
   "cell_type": "markdown",
   "metadata": {},
   "source": [
    "### Lemmatization <a id='lemmize'></a>"
   ]
  },
  {
   "cell_type": "code",
   "execution_count": 5,
   "metadata": {},
   "outputs": [
    {
     "name": "stdout",
     "output_type": "stream",
     "text": [
      "False\n"
     ]
    }
   ],
   "source": [
    "### Before Lemmatization \n",
    "pre_lemmatize = len(list(cleaned_q.columns))\n",
    "\n",
    "lemmatizer = WordNetLemmatizer()\n",
    "\n",
    "thelist = []\n",
    "for i in range(0,len(list(cleaned_q.columns))):\n",
    "    word = lemmatizer.lemmatize(list(cleaned_q.columns)[i],pos='v')\n",
    "    thelist.append(word)\n",
    "\n",
    "# After Lemmatization\n",
    "post_lemmatize = len(set(thelist))\n",
    "\n",
    "print(pre_lemmatize > post_lemmatize)"
   ]
  },
  {
   "cell_type": "markdown",
   "metadata": {},
   "source": [
    "Lemmatization does not help reduce the dimension, so it won't be applied."
   ]
  },
  {
   "cell_type": "markdown",
   "metadata": {},
   "source": [
    "### Train Test Split <a id = 'split'></a>"
   ]
  },
  {
   "cell_type": "code",
   "execution_count": 6,
   "metadata": {},
   "outputs": [],
   "source": [
    "# Split test and train to prevent data leakage\n",
    "X_train, X_test, y_train, y_test = train_test_split(cleaned_q.drop('Four Quarter Average Score',axis = 1),\n",
    "                                                   cleaned_q[['Four Quarter Average Score']],\n",
    "                                                   test_size=.40, random_state = 42)"
   ]
  },
  {
   "cell_type": "code",
   "execution_count": 7,
   "metadata": {},
   "outputs": [],
   "source": [
    "# Split test and train to prevent data leakage\n",
    "X_valid, X_test, y_valid, y_test = train_test_split(X_test,y_test,test_size=.50,\n",
    "                                                   random_state = 42)"
   ]
  },
  {
   "cell_type": "code",
   "execution_count": 8,
   "metadata": {},
   "outputs": [
    {
     "data": {
      "image/png": "[encoded data removed]",
      "text/plain": [
       "<Figure size 432x288 with 1 Axes>"
      ]
     },
     "metadata": {},
     "output_type": "display_data"
    }
   ],
   "source": [
    "plt.pie([len(X_test),len(X_valid),len(X_train)],  labels=['Testing','Validation','Training'])\n",
    "plt.show()"
   ]
  },
  {
   "cell_type": "markdown",
   "metadata": {},
   "source": [
    "### Rescaling <a id='rescale'></a>"
   ]
  },
  {
   "cell_type": "code",
   "execution_count": 9,
   "metadata": {},
   "outputs": [],
   "source": [
    "# 100-0 to 1-0 using transform function: x/100\n",
    "def transform(target):\n",
    "    target = target/100\n",
    "    return target\n",
    "\n",
    "y_train = transform(y_train)\n",
    "y_test = transform(y_test)\n",
    "y_valid = transform(y_valid)"
   ]
  },
  {
   "cell_type": "code",
   "execution_count": 10,
   "metadata": {},
   "outputs": [
    {
     "ename": "FileNotFoundError",
     "evalue": "[Errno 2] No such file or directory: 'downloads/X_TFIDF_train'",
     "output_type": "error",
     "traceback": [
      "\u001b[0;31m---------------------------------------------------------------------------\u001b[0m",
      "\u001b[0;31mFileNotFoundError\u001b[0m                         Traceback (most recent call last)",
      "\u001b[0;32m<ipython-input-10-6dcce793e9c3>\u001b[0m in \u001b[0;36m<module>\u001b[0;34m\u001b[0m\n\u001b[1;32m      1\u001b[0m \u001b[0;31m# Save TDFIDF X datasets\u001b[0m\u001b[0;34m\u001b[0m\u001b[0;34m\u001b[0m\u001b[0;34m\u001b[0m\u001b[0m\n\u001b[0;32m----> 2\u001b[0;31m \u001b[0mX_train\u001b[0m\u001b[0;34m.\u001b[0m\u001b[0mto_csv\u001b[0m\u001b[0;34m(\u001b[0m\u001b[0;34m\"downloads/X_TFIDF_train\"\u001b[0m\u001b[0;34m)\u001b[0m\u001b[0;34m\u001b[0m\u001b[0;34m\u001b[0m\u001b[0m\n\u001b[0m\u001b[1;32m      3\u001b[0m \u001b[0mX_valid\u001b[0m\u001b[0;34m.\u001b[0m\u001b[0mto_csv\u001b[0m\u001b[0;34m(\u001b[0m\u001b[0;34m\"downloads/X_TFIDF_valid\"\u001b[0m\u001b[0;34m)\u001b[0m\u001b[0;34m\u001b[0m\u001b[0;34m\u001b[0m\u001b[0m\n\u001b[1;32m      4\u001b[0m \u001b[0mX_test\u001b[0m\u001b[0;34m.\u001b[0m\u001b[0mto_csv\u001b[0m\u001b[0;34m(\u001b[0m\u001b[0;34m\"downloads/X_TFIDF_test\"\u001b[0m\u001b[0;34m)\u001b[0m\u001b[0;34m\u001b[0m\u001b[0;34m\u001b[0m\u001b[0m\n",
      "\u001b[0;32m~/opt/anaconda3/lib/python3.8/site-packages/pandas/core/generic.py\u001b[0m in \u001b[0;36mto_csv\u001b[0;34m(self, path_or_buf, sep, na_rep, float_format, columns, header, index, index_label, mode, encoding, compression, quoting, quotechar, line_terminator, chunksize, date_format, doublequote, escapechar, decimal, errors, storage_options)\u001b[0m\n\u001b[1;32m   3464\u001b[0m         )\n\u001b[1;32m   3465\u001b[0m \u001b[0;34m\u001b[0m\u001b[0m\n\u001b[0;32m-> 3466\u001b[0;31m         return DataFrameRenderer(formatter).to_csv(\n\u001b[0m\u001b[1;32m   3467\u001b[0m             \u001b[0mpath_or_buf\u001b[0m\u001b[0;34m,\u001b[0m\u001b[0;34m\u001b[0m\u001b[0;34m\u001b[0m\u001b[0m\n\u001b[1;32m   3468\u001b[0m             \u001b[0mline_terminator\u001b[0m\u001b[0;34m=\u001b[0m\u001b[0mline_terminator\u001b[0m\u001b[0;34m,\u001b[0m\u001b[0;34m\u001b[0m\u001b[0;34m\u001b[0m\u001b[0m\n",
      "\u001b[0;32m~/opt/anaconda3/lib/python3.8/site-packages/pandas/io/formats/format.py\u001b[0m in \u001b[0;36mto_csv\u001b[0;34m(self, path_or_buf, encoding, sep, columns, index_label, mode, compression, quoting, quotechar, line_terminator, chunksize, date_format, doublequote, escapechar, errors, storage_options)\u001b[0m\n\u001b[1;32m   1103\u001b[0m             \u001b[0mformatter\u001b[0m\u001b[0;34m=\u001b[0m\u001b[0mself\u001b[0m\u001b[0;34m.\u001b[0m\u001b[0mfmt\u001b[0m\u001b[0;34m,\u001b[0m\u001b[0;34m\u001b[0m\u001b[0;34m\u001b[0m\u001b[0m\n\u001b[1;32m   1104\u001b[0m         )\n\u001b[0;32m-> 1105\u001b[0;31m         \u001b[0mcsv_formatter\u001b[0m\u001b[0;34m.\u001b[0m\u001b[0msave\u001b[0m\u001b[0;34m(\u001b[0m\u001b[0;34m)\u001b[0m\u001b[0;34m\u001b[0m\u001b[0;34m\u001b[0m\u001b[0m\n\u001b[0m\u001b[1;32m   1106\u001b[0m \u001b[0;34m\u001b[0m\u001b[0m\n\u001b[1;32m   1107\u001b[0m         \u001b[0;32mif\u001b[0m \u001b[0mcreated_buffer\u001b[0m\u001b[0;34m:\u001b[0m\u001b[0;34m\u001b[0m\u001b[0;34m\u001b[0m\u001b[0m\n",
      "\u001b[0;32m~/opt/anaconda3/lib/python3.8/site-packages/pandas/io/formats/csvs.py\u001b[0m in \u001b[0;36msave\u001b[0;34m(self)\u001b[0m\n\u001b[1;32m    235\u001b[0m         \"\"\"\n\u001b[1;32m    236\u001b[0m         \u001b[0;31m# apply compression and byte/text conversion\u001b[0m\u001b[0;34m\u001b[0m\u001b[0;34m\u001b[0m\u001b[0;34m\u001b[0m\u001b[0m\n\u001b[0;32m--> 237\u001b[0;31m         with get_handle(\n\u001b[0m\u001b[1;32m    238\u001b[0m             \u001b[0mself\u001b[0m\u001b[0;34m.\u001b[0m\u001b[0mfilepath_or_buffer\u001b[0m\u001b[0;34m,\u001b[0m\u001b[0;34m\u001b[0m\u001b[0;34m\u001b[0m\u001b[0m\n\u001b[1;32m    239\u001b[0m             \u001b[0mself\u001b[0m\u001b[0;34m.\u001b[0m\u001b[0mmode\u001b[0m\u001b[0;34m,\u001b[0m\u001b[0;34m\u001b[0m\u001b[0;34m\u001b[0m\u001b[0m\n",
      "\u001b[0;32m~/opt/anaconda3/lib/python3.8/site-packages/pandas/io/common.py\u001b[0m in \u001b[0;36mget_handle\u001b[0;34m(path_or_buf, mode, encoding, compression, memory_map, is_text, errors, storage_options)\u001b[0m\n\u001b[1;32m    699\u001b[0m         \u001b[0;32mif\u001b[0m \u001b[0mioargs\u001b[0m\u001b[0;34m.\u001b[0m\u001b[0mencoding\u001b[0m \u001b[0;32mand\u001b[0m \u001b[0;34m\"b\"\u001b[0m \u001b[0;32mnot\u001b[0m \u001b[0;32min\u001b[0m \u001b[0mioargs\u001b[0m\u001b[0;34m.\u001b[0m\u001b[0mmode\u001b[0m\u001b[0;34m:\u001b[0m\u001b[0;34m\u001b[0m\u001b[0;34m\u001b[0m\u001b[0m\n\u001b[1;32m    700\u001b[0m             \u001b[0;31m# Encoding\u001b[0m\u001b[0;34m\u001b[0m\u001b[0;34m\u001b[0m\u001b[0;34m\u001b[0m\u001b[0m\n\u001b[0;32m--> 701\u001b[0;31m             handle = open(\n\u001b[0m\u001b[1;32m    702\u001b[0m                 \u001b[0mhandle\u001b[0m\u001b[0;34m,\u001b[0m\u001b[0;34m\u001b[0m\u001b[0;34m\u001b[0m\u001b[0m\n\u001b[1;32m    703\u001b[0m                 \u001b[0mioargs\u001b[0m\u001b[0;34m.\u001b[0m\u001b[0mmode\u001b[0m\u001b[0;34m,\u001b[0m\u001b[0;34m\u001b[0m\u001b[0;34m\u001b[0m\u001b[0m\n",
      "\u001b[0;31mFileNotFoundError\u001b[0m: [Errno 2] No such file or directory: 'downloads/X_TFIDF_train'"
     ]
    }
   ],
   "source": [
    "# Save TDFIDF X datasets\n",
    "X_train.to_csv(\"downloads/X_TFIDF_train\")\n",
    "X_valid.to_csv(\"downloads/X_TFIDF_valid\")\n",
    "X_test.to_csv(\"downloads/X_TFIDF_test\")"
   ]
  },
  {
   "cell_type": "markdown",
   "metadata": {},
   "source": [
    "### Principal Component Analysis <a id='pca'></a>"
   ]
  },
  {
   "cell_type": "code",
   "execution_count": null,
   "metadata": {},
   "outputs": [],
   "source": [
    "PCA(X_train)"
   ]
  },
  {
   "cell_type": "code",
   "execution_count": null,
   "metadata": {},
   "outputs": [],
   "source": [
    "# Sum all inputs for each row \n",
    "X_train['sum']= X_train.sum(axis=1)\n",
    "\n",
    "# Median, Mean, Minimum, Maximum, and Standard Deviation Angles \n",
    "median_angle = X_train[X_train['sum'] == np.median(X_train['sum'])].drop('sum',axis=1).head(1)\n",
    "mean_angle = pd.DataFrame(X_train.mean()).T.drop('sum',axis=1)\n",
    "minimum_angle = X_train[X_train['sum'] == np.min(X_train['sum'])].drop('sum',axis=1).head(1)\n",
    "maximum_angle = X_train[X_train['sum'] == np.max(X_train['sum'])].drop('sum',axis=1).head(1)\n",
    "std_angle = pd.DataFrame(X_train.std()).T.drop('sum',axis=1)"
   ]
  },
  {
   "cell_type": "code",
   "execution_count": null,
   "metadata": {},
   "outputs": [],
   "source": [
    "cos_similarities = pd.concat([median_angle,mean_angle,minimum_angle,maximum_angle,\n",
    "                              std_angle])"
   ]
  },
  {
   "cell_type": "code",
   "execution_count": null,
   "metadata": {},
   "outputs": [],
   "source": [
    "# Remove X_train's sum column\n",
    "X_train = X_train.drop('sum',axis=1)\n",
    "renames = {0:'cosine median',1:'cosine mean', 2:'cosine minimum',3:'cosine maximum',4:'cosine std'}\n",
    "\n",
    "# Transform from the Cosine Similarity Fit\n",
    "X_train = pd.DataFrame(cosine_similarity(X_train, cos_similarities)).rename(columns=renames)\n",
    "X_valid = pd.DataFrame(cosine_similarity(X_valid, cos_similarities)).rename(columns=renames)\n",
    "X_test = pd.DataFrame(cosine_similarity(X_test, cos_similarities)).rename(columns=renames)"
   ]
  },
  {
   "cell_type": "code",
   "execution_count": null,
   "metadata": {},
   "outputs": [],
   "source": [
    "print(y_train[0:5])"
   ]
  },
  {
   "cell_type": "code",
   "execution_count": null,
   "metadata": {},
   "outputs": [],
   "source": [
    "display(X_train.head(5))"
   ]
  },
  {
   "cell_type": "code",
   "execution_count": null,
   "metadata": {},
   "outputs": [],
   "source": [
    "# Save X datasets\n",
    "#X_train.to_csv(\"downloads/X_train\")\n",
    "#X_valid.to_csv(\"downloads/X_valid\")\n",
    "#X_test.to_csv(\"downloads/X_test\")\n",
    "#\n",
    "## Save y datasets\n",
    "#with open('downloads/y_train', 'wb') as f:\n",
    "#    np.save(f, y_train)\n",
    "#with open('downloads/y_valid', 'wb') as f:\n",
    "#    np.save(f, y_valid)\n",
    "#with open('downloads/y_test', 'wb') as f:\n",
    "#    np.save(f, y_test)"
   ]
  }
 ],
 "metadata": {
  "kernelspec": {
   "display_name": "Python 3",
   "language": "python",
   "name": "python3"
  },
  "language_info": {
   "codemirror_mode": {
    "name": "ipython",
    "version": 3
   },
   "file_extension": ".py",
   "mimetype": "text/x-python",
   "name": "python",
   "nbconvert_exporter": "python",
   "pygments_lexer": "ipython3",
   "version": "3.8.5"
  }
 },
 "nbformat": 4,
 "nbformat_minor": 4
}
